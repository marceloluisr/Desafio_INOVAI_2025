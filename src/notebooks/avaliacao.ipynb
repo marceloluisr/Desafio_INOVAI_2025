{
 "cells": [
  {
   "cell_type": "markdown",
   "id": "ukwsoNYNMce7",
   "metadata": {
    "id": "ukwsoNYNMce7"
   },
   "source": [
    "# Notebook de Avaliação Quantitativa\n",
    "\n",
    "- Objetivo: Responsável por carregar os modelos, criar a pipeline completa, executar a pipeline e realizar a avaliação quantitativa nos dados e validação e teste"
   ]
  },
  {
   "cell_type": "code",
   "execution_count": null,
   "id": "St4-3CaERWA6",
   "metadata": {
    "colab": {
     "base_uri": "https://localhost:8080/"
    },
    "id": "St4-3CaERWA6",
    "outputId": "85f4859f-cba5-490b-d1c4-3289c9fd9cbf"
   },
   "outputs": [
    {
     "name": "stdout",
     "output_type": "stream",
     "text": [
      "model name\t: Intel(R) Xeon(R) CPU @ 2.00GHz\n",
      "Fri Sep 26 16:53:33 2025       \n",
      "+-----------------------------------------------------------------------------------------+\n",
      "| NVIDIA-SMI 550.54.15              Driver Version: 550.54.15      CUDA Version: 12.4     |\n",
      "|-----------------------------------------+------------------------+----------------------+\n",
      "| GPU  Name                 Persistence-M | Bus-Id          Disp.A | Volatile Uncorr. ECC |\n",
      "| Fan  Temp   Perf          Pwr:Usage/Cap |           Memory-Usage | GPU-Util  Compute M. |\n",
      "|                                         |                        |               MIG M. |\n",
      "|=========================================+========================+======================|\n",
      "|   0  Tesla T4                       Off |   00000000:00:04.0 Off |                    0 |\n",
      "| N/A   57C    P8             10W /   70W |       0MiB /  15360MiB |      0%      Default |\n",
      "|                                         |                        |                  N/A |\n",
      "+-----------------------------------------+------------------------+----------------------+\n",
      "                                                                                         \n",
      "+-----------------------------------------------------------------------------------------+\n",
      "| Processes:                                                                              |\n",
      "|  GPU   GI   CI        PID   Type   Process name                              GPU Memory |\n",
      "|        ID   ID                                                               Usage      |\n",
      "|=========================================================================================|\n",
      "|  No running processes found                                                             |\n",
      "+-----------------------------------------------------------------------------------------+\n"
     ]
    }
   ],
   "source": [
    "## Descomente os comandos bash abaixo para verificar informações pertinenetes sobre o hardware (GPU e CPU) do sistema (assume sistema Linux)\n",
    "# !grep 'model name' /proc/cpuinfo | uniq\n",
    "# !nvidia-smi"
   ]
  },
  {
   "cell_type": "code",
   "execution_count": null,
   "id": "kxdMs60lCkCb",
   "metadata": {
    "colab": {
     "base_uri": "https://localhost:8080/"
    },
    "id": "kxdMs60lCkCb",
    "outputId": "041726e5-1e6e-4e33-e251-6f4321ee5544"
   },
   "outputs": [
    {
     "name": "stdout",
     "output_type": "stream",
     "text": [
      "Cloning into 'deteccao_pontos_chaves'...\n",
      "remote: Enumerating objects: 127, done.\u001b[K\n",
      "remote: Counting objects: 100% (6/6), done.\u001b[K\n",
      "remote: Compressing objects: 100% (5/5), done.\u001b[K\n",
      "remote: Total 127 (delta 1), reused 4 (delta 1), pack-reused 121 (from 1)\u001b[K\n",
      "Receiving objects: 100% (127/127), 33.00 MiB | 27.50 MiB/s, done.\n",
      "Resolving deltas: 100% (46/46), done.\n"
     ]
    }
   ],
   "source": [
    "!git clone  https://github.com/marceloluisr/Desafio_INOVAI_2025.git"
   ]
  },
  {
   "cell_type": "code",
   "execution_count": null,
   "id": "GDTECp853BTd",
   "metadata": {
    "id": "GDTECp853BTd"
   },
   "outputs": [],
   "source": [
    "USE_COLAB = True  # ou Falso dependendo do ambiente."
   ]
  },
  {
   "cell_type": "markdown",
   "id": "bTDMIHs0ZXpB",
   "metadata": {
    "id": "bTDMIHs0ZXpB"
   },
   "source": [
    "Vamos montar o drive no ambiente de execução para acessar o dados. IMPORTANTE:\n",
    "a montagem do drive requer permitir acesso do Google Colab para o drive e os dados devem estar disponíveis.\n"
   ]
  },
  {
   "cell_type": "code",
   "execution_count": null,
   "id": "82c638bb-9143-4f06-826a-11cb685bfdc3",
   "metadata": {
    "colab": {
     "base_uri": "https://localhost:8080/"
    },
    "id": "82c638bb-9143-4f06-826a-11cb685bfdc3",
    "outputId": "6b0997a8-d3e9-4b44-fe3f-fd570f76bbc4"
   },
   "outputs": [
    {
     "name": "stdout",
     "output_type": "stream",
     "text": [
      "Mounted at /content/drive\n"
     ]
    }
   ],
   "source": [
    "if USE_COLAB:\n",
    "  # montando google drive no ambiente para acessar dataset\n",
    "  from google.colab import drive\n",
    "  drive.mount('/content/drive')"
   ]
  },
  {
   "cell_type": "code",
   "execution_count": null,
   "id": "g4dmukalYtye",
   "metadata": {
    "id": "g4dmukalYtye"
   },
   "outputs": [],
   "source": [
    "import sys\n",
    "\n",
    "codigo_base_path = \"/content/Desafio_INOVAI_2025/src\" # [ALTERE AQUI COM O PATH DO CÓDIGO CLONADO]\n",
    "\n",
    "\n",
    "# isso permite o import do módulos do código fonte no jupyter notebook\n",
    "sys.path.append(codigo_base_path)\n",
    "# para remover descomente  o bloco de código linha abaixo\n",
    "# if codigo_base_path in sys.path:\n",
    "#     sys.path.remove(codigo_base_path)"
   ]
  },
  {
   "cell_type": "markdown",
   "id": "X0xCMm45aUSP",
   "metadata": {
    "id": "X0xCMm45aUSP"
   },
   "source": [
    "IMPORTANTE APENAS SE VOCÊ NÃO ESTIVER NO GOOGLE COLAB: antes de prosseguir, recomendo executar esse notebook dentro de um ambiente conda ou pyenv."
   ]
  },
  {
   "cell_type": "code",
   "execution_count": null,
   "id": "-VBR8ArHbqRT",
   "metadata": {
    "colab": {
     "base_uri": "https://localhost:8080/"
    },
    "id": "-VBR8ArHbqRT",
    "outputId": "b33ec03a-693b-4803-e2f2-5f68e9e3ceb0"
   },
   "outputs": [
    {
     "name": "stdout",
     "output_type": "stream",
     "text": [
      "AQUI2\n",
      "Requirement already satisfied: xgboost==3.0.5 in /usr/local/lib/python3.12/dist-packages (3.0.5)\n",
      "Requirement already satisfied: mediapipe==0.10.21 in /usr/local/lib/python3.12/dist-packages (0.10.21)\n",
      "Requirement already satisfied: rt_pose==0.0.3 in /usr/local/lib/python3.12/dist-packages (0.0.3)\n",
      "Requirement already satisfied: numpy in /usr/local/lib/python3.12/dist-packages (from xgboost==3.0.5) (1.26.4)\n",
      "Requirement already satisfied: nvidia-nccl-cu12 in /usr/local/lib/python3.12/dist-packages (from xgboost==3.0.5) (2.27.3)\n",
      "Requirement already satisfied: scipy in /usr/local/lib/python3.12/dist-packages (from xgboost==3.0.5) (1.16.2)\n",
      "Requirement already satisfied: absl-py in /usr/local/lib/python3.12/dist-packages (from mediapipe==0.10.21) (1.4.0)\n",
      "Requirement already satisfied: attrs>=19.1.0 in /usr/local/lib/python3.12/dist-packages (from mediapipe==0.10.21) (25.3.0)\n",
      "Requirement already satisfied: flatbuffers>=2.0 in /usr/local/lib/python3.12/dist-packages (from mediapipe==0.10.21) (25.2.10)\n",
      "Requirement already satisfied: jax in /usr/local/lib/python3.12/dist-packages (from mediapipe==0.10.21) (0.5.3)\n",
      "Requirement already satisfied: jaxlib in /usr/local/lib/python3.12/dist-packages (from mediapipe==0.10.21) (0.5.3)\n",
      "Requirement already satisfied: matplotlib in /usr/local/lib/python3.12/dist-packages (from mediapipe==0.10.21) (3.10.0)\n",
      "Requirement already satisfied: opencv-contrib-python in /usr/local/lib/python3.12/dist-packages (from mediapipe==0.10.21) (4.11.0.86)\n",
      "Requirement already satisfied: protobuf<5,>=4.25.3 in /usr/local/lib/python3.12/dist-packages (from mediapipe==0.10.21) (4.25.8)\n",
      "Requirement already satisfied: sounddevice>=0.4.4 in /usr/local/lib/python3.12/dist-packages (from mediapipe==0.10.21) (0.5.2)\n",
      "Requirement already satisfied: sentencepiece in /usr/local/lib/python3.12/dist-packages (from mediapipe==0.10.21) (0.2.1)\n",
      "Requirement already satisfied: loguru in /usr/local/lib/python3.12/dist-packages (from rt_pose==0.0.3) (0.7.3)\n",
      "Requirement already satisfied: torch>=2.1.0 in /usr/local/lib/python3.12/dist-packages (from rt_pose==0.0.3) (2.8.0+cu126)\n",
      "Requirement already satisfied: torchvision in /usr/local/lib/python3.12/dist-packages (from rt_pose==0.0.3) (0.23.0+cu126)\n",
      "Requirement already satisfied: transformers>=4.48.0 in /usr/local/lib/python3.12/dist-packages (from transformers[vision]>=4.48.0->rt_pose==0.0.3) (4.56.1)\n",
      "Requirement already satisfied: CFFI>=1.0 in /usr/local/lib/python3.12/dist-packages (from sounddevice>=0.4.4->mediapipe==0.10.21) (2.0.0)\n",
      "Requirement already satisfied: filelock in /usr/local/lib/python3.12/dist-packages (from torch>=2.1.0->rt_pose==0.0.3) (3.19.1)\n",
      "Requirement already satisfied: typing-extensions>=4.10.0 in /usr/local/lib/python3.12/dist-packages (from torch>=2.1.0->rt_pose==0.0.3) (4.15.0)\n",
      "Requirement already satisfied: setuptools in /usr/local/lib/python3.12/dist-packages (from torch>=2.1.0->rt_pose==0.0.3) (75.2.0)\n",
      "Requirement already satisfied: sympy>=1.13.3 in /usr/local/lib/python3.12/dist-packages (from torch>=2.1.0->rt_pose==0.0.3) (1.13.3)\n",
      "Requirement already satisfied: networkx in /usr/local/lib/python3.12/dist-packages (from torch>=2.1.0->rt_pose==0.0.3) (3.5)\n",
      "Requirement already satisfied: jinja2 in /usr/local/lib/python3.12/dist-packages (from torch>=2.1.0->rt_pose==0.0.3) (3.1.6)\n",
      "Requirement already satisfied: fsspec in /usr/local/lib/python3.12/dist-packages (from torch>=2.1.0->rt_pose==0.0.3) (2025.3.0)\n",
      "Requirement already satisfied: nvidia-cuda-nvrtc-cu12==12.6.77 in /usr/local/lib/python3.12/dist-packages (from torch>=2.1.0->rt_pose==0.0.3) (12.6.77)\n",
      "Requirement already satisfied: nvidia-cuda-runtime-cu12==12.6.77 in /usr/local/lib/python3.12/dist-packages (from torch>=2.1.0->rt_pose==0.0.3) (12.6.77)\n",
      "Requirement already satisfied: nvidia-cuda-cupti-cu12==12.6.80 in /usr/local/lib/python3.12/dist-packages (from torch>=2.1.0->rt_pose==0.0.3) (12.6.80)\n",
      "Requirement already satisfied: nvidia-cudnn-cu12==9.10.2.21 in /usr/local/lib/python3.12/dist-packages (from torch>=2.1.0->rt_pose==0.0.3) (9.10.2.21)\n",
      "Requirement already satisfied: nvidia-cublas-cu12==12.6.4.1 in /usr/local/lib/python3.12/dist-packages (from torch>=2.1.0->rt_pose==0.0.3) (12.6.4.1)\n",
      "Requirement already satisfied: nvidia-cufft-cu12==11.3.0.4 in /usr/local/lib/python3.12/dist-packages (from torch>=2.1.0->rt_pose==0.0.3) (11.3.0.4)\n",
      "Requirement already satisfied: nvidia-curand-cu12==10.3.7.77 in /usr/local/lib/python3.12/dist-packages (from torch>=2.1.0->rt_pose==0.0.3) (10.3.7.77)\n",
      "Requirement already satisfied: nvidia-cusolver-cu12==11.7.1.2 in /usr/local/lib/python3.12/dist-packages (from torch>=2.1.0->rt_pose==0.0.3) (11.7.1.2)\n",
      "Requirement already satisfied: nvidia-cusparse-cu12==12.5.4.2 in /usr/local/lib/python3.12/dist-packages (from torch>=2.1.0->rt_pose==0.0.3) (12.5.4.2)\n",
      "Requirement already satisfied: nvidia-cusparselt-cu12==0.7.1 in /usr/local/lib/python3.12/dist-packages (from torch>=2.1.0->rt_pose==0.0.3) (0.7.1)\n",
      "Requirement already satisfied: nvidia-nvtx-cu12==12.6.77 in /usr/local/lib/python3.12/dist-packages (from torch>=2.1.0->rt_pose==0.0.3) (12.6.77)\n",
      "Requirement already satisfied: nvidia-nvjitlink-cu12==12.6.85 in /usr/local/lib/python3.12/dist-packages (from torch>=2.1.0->rt_pose==0.0.3) (12.6.85)\n",
      "Requirement already satisfied: nvidia-cufile-cu12==1.11.1.6 in /usr/local/lib/python3.12/dist-packages (from torch>=2.1.0->rt_pose==0.0.3) (1.11.1.6)\n",
      "Requirement already satisfied: triton==3.4.0 in /usr/local/lib/python3.12/dist-packages (from torch>=2.1.0->rt_pose==0.0.3) (3.4.0)\n",
      "\u001b[31mERROR: Operation cancelled by user\u001b[0m\u001b[31m\n",
      "\u001b[0mTraceback (most recent call last):\n",
      "  File \"/usr/lib/python3.12/importlib/metadata/__init__.py\", line 819, in read_text\n",
      "    return self._path.joinpath(filename).read_text(encoding='utf-8')\n",
      "           ^^^^^^^^^^^^^^^^^^^^^^^^^^^^^^^^^^^^^^^^^^^^^^^^^^^^^^^^^\n",
      "  File \"/usr/lib/python3.12/pathlib.py\", line 1027, in read_text\n",
      "    with self.open(mode='r', encoding=encoding, errors=errors) as f:\n",
      "         ^^^^^^^^^^^^^^^^^^^^^^^^^^^^^^^^^^^^^^^^^^^^^^^^^^^^^\n",
      "  File \"/usr/lib/python3.12/pathlib.py\", line 1013, in open\n",
      "    return io.open(self, mode, buffering, encoding, errors, newline)\n",
      "           ^^^^^^^^^^^^^^^^^^^^^^^^^^^^^^^^^^^^^^^^^^^^^^^^^^^^^^^^^\n",
      "FileNotFoundError: [Errno 2] No such file or directory: '/usr/local/lib/python3.12/dist-packages/nvidia_cufile_cu12-1.11.1.6.dist-info/requires.txt'\n",
      "\n",
      "During handling of the above exception, another exception occurred:\n",
      "\n",
      "Traceback (most recent call last):\n",
      "  File \"/usr/local/lib/python3.12/dist-packages/pip/_internal/cli/base_command.py\", line 179, in exc_logging_wrapper\n",
      "    status = run_func(*args)\n",
      "             ^^^^^^^^^^^^^^^\n",
      "  File \"/usr/local/lib/python3.12/dist-packages/pip/_internal/cli/req_command.py\", line 67, in wrapper\n",
      "    return func(self, options, args)\n",
      "           ^^^^^^^^^^^^^^^^^^^^^^^^^\n",
      "  File \"/usr/local/lib/python3.12/dist-packages/pip/_internal/commands/install.py\", line 377, in run\n",
      "    requirement_set = resolver.resolve(\n",
      "                      ^^^^^^^^^^^^^^^^^\n",
      "  File \"/usr/local/lib/python3.12/dist-packages/pip/_internal/resolution/resolvelib/resolver.py\", line 95, in resolve\n",
      "    result = self._result = resolver.resolve(\n",
      "                            ^^^^^^^^^^^^^^^^^\n",
      "  File \"/usr/local/lib/python3.12/dist-packages/pip/_vendor/resolvelib/resolvers.py\", line 546, in resolve\n",
      "    state = resolution.resolve(requirements, max_rounds=max_rounds)\n",
      "            ^^^^^^^^^^^^^^^^^^^^^^^^^^^^^^^^^^^^^^^^^^^^^^^^^^^^^^^\n",
      "  File \"/usr/local/lib/python3.12/dist-packages/pip/_vendor/resolvelib/resolvers.py\", line 427, in resolve\n",
      "    failure_causes = self._attempt_to_pin_criterion(name)\n",
      "                     ^^^^^^^^^^^^^^^^^^^^^^^^^^^^^^^^^^^^\n",
      "  File \"/usr/local/lib/python3.12/dist-packages/pip/_vendor/resolvelib/resolvers.py\", line 239, in _attempt_to_pin_criterion\n",
      "    criteria = self._get_updated_criteria(candidate)\n",
      "               ^^^^^^^^^^^^^^^^^^^^^^^^^^^^^^^^^^^^^\n",
      "  File \"/usr/local/lib/python3.12/dist-packages/pip/_vendor/resolvelib/resolvers.py\", line 229, in _get_updated_criteria\n",
      "    for requirement in self._p.get_dependencies(candidate=candidate):\n",
      "                       ^^^^^^^^^^^^^^^^^^^^^^^^^^^^^^^^^^^^^^^^^^^^^\n",
      "  File \"/usr/local/lib/python3.12/dist-packages/pip/_internal/resolution/resolvelib/provider.py\", line 247, in get_dependencies\n",
      "    return [r for r in candidate.iter_dependencies(with_requires) if r is not None]\n",
      "                       ^^^^^^^^^^^^^^^^^^^^^^^^^^^^^^^^^^^^^^^^^^\n",
      "  File \"/usr/local/lib/python3.12/dist-packages/pip/_internal/resolution/resolvelib/candidates.py\", line 401, in iter_dependencies\n",
      "    for r in self.dist.iter_dependencies():\n",
      "             ^^^^^^^^^^^^^^^^^^^^^^^^^^^^^\n",
      "  File \"/usr/local/lib/python3.12/dist-packages/pip/_internal/metadata/importlib/_dists.py\", line 219, in iter_dependencies\n",
      "    for req_string in self.metadata.get_all(\"Requires-Dist\", []):\n",
      "                      ^^^^^^^^^^^^^\n",
      "  File \"/usr/lib/python3.12/functools.py\", line 998, in __get__\n",
      "    val = self.func(instance)\n",
      "          ^^^^^^^^^^^^^^^^^^^\n",
      "  File \"/usr/local/lib/python3.12/dist-packages/pip/_internal/metadata/base.py\", line 395, in metadata\n",
      "    self._add_egg_info_requires(metadata)\n",
      "  File \"/usr/local/lib/python3.12/dist-packages/pip/_internal/metadata/base.py\", line 578, in _add_egg_info_requires\n",
      "    for extra in self._iter_egg_info_extras():\n",
      "                 ^^^^^^^^^^^^^^^^^^^^^^^^^^^^\n",
      "  File \"/usr/local/lib/python3.12/dist-packages/pip/_internal/metadata/base.py\", line 537, in _iter_egg_info_extras\n",
      "    for entry in self._iter_requires_txt_entries():\n",
      "                 ^^^^^^^^^^^^^^^^^^^^^^^^^^^^^^^^^\n",
      "  File \"/usr/local/lib/python3.12/dist-packages/pip/_internal/metadata/base.py\", line 521, in _iter_requires_txt_entries\n",
      "    content = self.read_text(\"requires.txt\")\n",
      "              ^^^^^^^^^^^^^^^^^^^^^^^^^^^^^^\n",
      "  File \"/usr/local/lib/python3.12/dist-packages/pip/_internal/metadata/importlib/_dists.py\", line 194, in read_text\n",
      "    content = self._dist.read_text(str(path))\n",
      "              ^^^^^^^^^^^^^^^^^^^^^^^^^^^^^^^\n",
      "  File \"/usr/lib/python3.12/importlib/metadata/__init__.py\", line 812, in read_text\n",
      "    with suppress(\n",
      "         ^^^^^^^^^\n",
      "  File \"/usr/lib/python3.12/contextlib.py\", line 446, in __exit__\n",
      "    def __exit__(self, exctype, excinst, exctb):\n",
      "\n",
      "KeyboardInterrupt\n",
      "\n",
      "During handling of the above exception, another exception occurred:\n",
      "\n",
      "Traceback (most recent call last):\n",
      "  File \"/usr/local/bin/pip3\", line 10, in <module>\n",
      "    sys.exit(main())\n",
      "             ^^^^^^\n",
      "  File \"/usr/local/lib/python3.12/dist-packages/pip/_internal/cli/main.py\", line 80, in main\n",
      "    return command.main(cmd_args)\n",
      "           ^^^^^^^^^^^^^^^^^^^^^^\n",
      "  File \"/usr/local/lib/python3.12/dist-packages/pip/_internal/cli/base_command.py\", line 100, in main\n",
      "    return self._main(args)\n",
      "           ^^^^^^^^^^^^^^^^\n",
      "  File \"/usr/local/lib/python3.12/dist-packages/pip/_internal/cli/base_command.py\", line 232, in _main\n",
      "    return run(options, args)\n",
      "           ^^^^^^^^^^^^^^^^^^\n",
      "  File \"/usr/local/lib/python3.12/dist-packages/pip/_internal/cli/base_command.py\", line 215, in exc_logging_wrapper\n",
      "    logger.critical(\"Operation cancelled by user\")\n",
      "  File \"/usr/lib/python3.12/logging/__init__.py\", line 1586, in critical\n",
      "    self._log(CRITICAL, msg, args, **kwargs)\n",
      "  File \"/usr/lib/python3.12/logging/__init__.py\", line 1684, in _log\n",
      "    self.handle(record)\n",
      "  File \"/usr/lib/python3.12/logging/__init__.py\", line 1700, in handle\n",
      "    self.callHandlers(record)\n",
      "  File \"/usr/lib/python3.12/logging/__init__.py\", line 1762, in callHandlers\n",
      "    hdlr.handle(record)\n",
      "  File \"/usr/lib/python3.12/logging/__init__.py\", line 1028, in handle\n",
      "    self.emit(record)\n",
      "  File \"/usr/lib/python3.12/logging/handlers.py\", line 75, in emit\n",
      "    logging.FileHandler.emit(self, record)\n",
      "  File \"/usr/lib/python3.12/logging/__init__.py\", line 1280, in emit\n",
      "    StreamHandler.emit(self, record)\n",
      "  File \"/usr/lib/python3.12/logging/__init__.py\", line 1164, in emit\n",
      "    self.flush()\n",
      "  File \"/usr/lib/python3.12/logging/__init__.py\", line 1144, in flush\n",
      "    self.stream.flush()\n",
      "KeyboardInterrupt\n",
      "^C\n"
     ]
    }
   ],
   "source": [
    "path_requisitos = \"{}/requirements.txt\".format(codigo_base_path)\n",
    "if not USE_COLAB:\n",
    "    %pip install -r {path_requisitos}\n",
    "else:\n",
    "    %pip install xgboost==3.0.5 mediapipe==0.10.21 rt_pose==0.0.3\n"
   ]
  },
  {
   "cell_type": "code",
   "execution_count": null,
   "id": "TwBk2LKTC7W7",
   "metadata": {
    "id": "TwBk2LKTC7W7"
   },
   "outputs": [],
   "source": [
    "# !pip install \\\n",
    "#   xgboost==3.0.5 \\\n",
    "#   mediapipe==0.10.21 \\\n",
    "#   rt_pose==0.0.3\n"
   ]
  },
  {
   "cell_type": "markdown",
   "id": "f3c936fc-f914-43b5-8f13-b204251632df",
   "metadata": {
    "id": "f3c936fc-f914-43b5-8f13-b204251632df"
   },
   "source": [
    "# Imports"
   ]
  },
  {
   "cell_type": "code",
   "execution_count": null,
   "id": "wodWJo1BZkG1",
   "metadata": {
    "id": "wodWJo1BZkG1"
   },
   "outputs": [],
   "source": [
    "from utils.utils import carregar_lista_de_txt, carregar_dataframe, unnormalize_tensor, salvar_silhuetas\n",
    "from models.feature_extractor import ExtractFeaturesKeypoints\n",
    "from models.kp_modules import KeypointsModule, MediaPipeKeypointsModule, RTPoseKeypointDetectorModule\n",
    "from models.reg_modules import RegressionModule, XGBoostRegressionModule, DepthwiseSeparableConv1DRegressor, DepthwiseSeparableConv1DRegressorModule\n",
    "from models.seg_modules import  DeepLabSegmentationModule, U2NetSegmentationModule\n",
    "from dataset.dataset import RegressaoDataset\n",
    "import torch\n",
    "import yaml\n",
    "import os\n",
    "import math\n",
    "import zipfile\n",
    "import joblib\n",
    "from torch.utils.data import DataLoader, Dataset\n",
    "import random\n",
    "import numpy as np\n",
    "import subprocess\n",
    "from PIL import Image\n",
    "\n",
    "from sklearn.datasets import make_regression\n",
    "from sklearn.multioutput import MultiOutputRegressor\n",
    "from xgboost import XGBRegressor\n",
    "from tqdm import tqdm\n",
    "import matplotlib.pyplot as plt\n"
   ]
  },
  {
   "cell_type": "code",
   "execution_count": null,
   "id": "2X41_lE0H2Xg",
   "metadata": {
    "colab": {
     "base_uri": "https://localhost:8080/"
    },
    "id": "2X41_lE0H2Xg",
    "outputId": "8e5342ce-32c1-492d-a88b-6f739375f0ca"
   },
   "outputs": [
    {
     "name": "stdout",
     "output_type": "stream",
     "text": [
      "Sat Sep 27 06:21:31 2025       \n",
      "+-----------------------------------------------------------------------------------------+\n",
      "| NVIDIA-SMI 550.54.15              Driver Version: 550.54.15      CUDA Version: 12.4     |\n",
      "|-----------------------------------------+------------------------+----------------------+\n",
      "| GPU  Name                 Persistence-M | Bus-Id          Disp.A | Volatile Uncorr. ECC |\n",
      "| Fan  Temp   Perf          Pwr:Usage/Cap |           Memory-Usage | GPU-Util  Compute M. |\n",
      "|                                         |                        |               MIG M. |\n",
      "|=========================================+========================+======================|\n",
      "|   0  Tesla T4                       Off |   00000000:00:04.0 Off |                    0 |\n",
      "| N/A   38C    P8              9W /   70W |       2MiB /  15360MiB |      0%      Default |\n",
      "|                                         |                        |                  N/A |\n",
      "+-----------------------------------------+------------------------+----------------------+\n",
      "                                                                                         \n",
      "+-----------------------------------------------------------------------------------------+\n",
      "| Processes:                                                                              |\n",
      "|  GPU   GI   CI        PID   Type   Process name                              GPU Memory |\n",
      "|        ID   ID                                                               Usage      |\n",
      "|=========================================================================================|\n",
      "|  No running processes found                                                             |\n",
      "+-----------------------------------------------------------------------------------------+\n",
      "\n"
     ]
    }
   ],
   "source": [
    "device = torch.device(\"cuda\" if torch.cuda.is_available() else \"cpu\")\n",
    "if device == torch.device(\"cuda\"):\n",
    "  result = subprocess.run([\"nvidia-smi\"], capture_output=True, text=True)\n",
    "  print(result.stdout)"
   ]
  },
  {
   "cell_type": "code",
   "execution_count": null,
   "id": "jaOtDqp2LVWZ",
   "metadata": {
    "colab": {
     "base_uri": "https://localhost:8080/"
    },
    "id": "jaOtDqp2LVWZ",
    "outputId": "d4b516db-2f4b-442a-e5c1-16921c2d6d39"
   },
   "outputs": [
    {
     "name": "stdout",
     "output_type": "stream",
     "text": [
      "{'colab': True, 'dataset_path': '/content/drive/MyDrive/Colab Notebooks/SelecaoINOVIA/datasets', 'destination_path': '/content/unzipped_files', 'log_path': '/content/src/log', 'regressor_module_name': 'XGBoost', 'keypoint_module_name': 'RTPose', 'segmentation_module_name': 'U2Net', 'train': {'batch_size': 120, 'learning_rate': '1e-7', 'u2net_seg_human_model_path': ''}}\n"
     ]
    }
   ],
   "source": [
    "## Carrega o arquivo de configuração para reproduzir os experimentos\n",
    "\n",
    "file_path = os.path.join(codigo_base_path, \"configuration.yaml\")\n",
    "\n",
    "with open(file_path, \"r\") as file:\n",
    "    config = yaml.safe_load(file)\n",
    "\n",
    "print(config)\n"
   ]
  },
  {
   "cell_type": "code",
   "execution_count": null,
   "id": "3bbfa732-c197-4a8a-998d-134cec1404a9",
   "metadata": {
    "colab": {
     "base_uri": "https://localhost:8080/"
    },
    "id": "3bbfa732-c197-4a8a-998d-134cec1404a9",
    "outputId": "5c7b8e1b-7e41-430d-8fe4-a535282cae68"
   },
   "outputs": [
    {
     "name": "stdout",
     "output_type": "stream",
     "text": [
      "Semente definida: 2025\n"
     ]
    }
   ],
   "source": [
    "def set_torch_seed(seed: int = 42):\n",
    "    \"\"\"\n",
    "    Define uma semente global para garantir reprodutibilidade em PyTorch, NumPy e random.\n",
    "    \"\"\"\n",
    "    random.seed(seed)\n",
    "    np.random.seed(seed)\n",
    "    torch.manual_seed(seed)\n",
    "    torch.cuda.manual_seed(seed)\n",
    "    torch.cuda.manual_seed_all(seed)  # para múltiplas GPUs\n",
    "\n",
    "    # Garante comportamento determinístico (pode impactar performance)\n",
    "    torch.backends.cudnn.deterministic = True\n",
    "    torch.backends.cudnn.benchmark = False\n",
    "\n",
    "    print(f\"Semente definida: {seed}\")\n",
    "set_torch_seed(2025)"
   ]
  },
  {
   "cell_type": "code",
   "execution_count": null,
   "id": "KG_BrUxaM_Ac",
   "metadata": {
    "colab": {
     "base_uri": "https://localhost:8080/"
    },
    "id": "KG_BrUxaM_Ac",
    "outputId": "39ec0095-ce4e-46d2-9afb-1f322502722e"
   },
   "outputs": [
    {
     "data": {
      "text/plain": [
       "['homens_15k.zip', 'medidas_dados_sinteticos.csv', 'mulheres_15k.zip']"
      ]
     },
     "execution_count": 7,
     "metadata": {},
     "output_type": "execute_result"
    }
   ],
   "source": [
    "diretorio_pasta_dados = config['dataset_path']\n",
    "\n",
    "# List files\n",
    "os.listdir(diretorio_pasta_dados)\n"
   ]
  },
  {
   "cell_type": "code",
   "execution_count": null,
   "id": "bb6DAGqqMvZ2",
   "metadata": {
    "id": "bb6DAGqqMvZ2"
   },
   "outputs": [],
   "source": [
    "\n",
    "# Pasta de destino para salvar as imagens retirada dos arquivos compcatos\n",
    "# no colab [ALTERE AQUI se necessário], e será removido se desligar o ambiente.\n",
    "destination_path = config['destination_path']\n"
   ]
  },
  {
   "cell_type": "code",
   "execution_count": null,
   "id": "kTvtMsD3MxLj",
   "metadata": {
    "id": "kTvtMsD3MxLj"
   },
   "outputs": [],
   "source": [
    "## Unzip as pastas compactadas  'homens_15k.zip' e 'mulheres_15k.zip' contidas em diretorio_pasta_dados\n",
    "#   para destination_path\n",
    "if USE_COLAB:\n",
    "  zip_file_paths = [\n",
    "      diretorio_pasta_dados + '/mulheres_15k.zip',\n",
    "      diretorio_pasta_dados + '/homens_15k.zip'\n",
    "  ]\n",
    "\n",
    "  os.makedirs(destination_path, exist_ok=True)\n",
    "\n",
    "  # Unzip\n",
    "  for zip_file_path in zip_file_paths:\n",
    "    with zipfile.ZipFile(zip_file_path, 'r') as zip_ref:\n",
    "        zip_ref.extractall(destination_path)"
   ]
  },
  {
   "cell_type": "markdown",
   "id": "8b0e6319-b1c3-4983-b379-b47140cd0a9a",
   "metadata": {
    "id": "8b0e6319-b1c3-4983-b379-b47140cd0a9a"
   },
   "source": [
    "## Criando Dataset Pytorch"
   ]
  },
  {
   "cell_type": "code",
   "execution_count": null,
   "id": "mOQJz8l9MBpC",
   "metadata": {
    "id": "mOQJz8l9MBpC"
   },
   "outputs": [],
   "source": [
    "config['log_path'] = os.path.join(codigo_base_path, \"log\")"
   ]
  },
  {
   "cell_type": "code",
   "execution_count": null,
   "id": "YQvbqFV9g7MB",
   "metadata": {
    "id": "YQvbqFV9g7MB"
   },
   "outputs": [],
   "source": [
    "treino_diretorios_imagens = carregar_lista_de_txt(os.path.join(config['log_path'], \"treino_diretorios_imagens.txt\") )\n",
    "df_medidas_filtrado_treino = carregar_dataframe(os.path.join(config['log_path'], \"df_medidas_filtrado_treino.csv\") )\n",
    "\n",
    "validacao_diretorios_imagens = carregar_lista_de_txt(os.path.join(config['log_path'], \"validacao_diretorios_imagens.txt\") )\n",
    "df_medidas_filtrado_val = carregar_dataframe(os.path.join(config['log_path'], \"df_medidas_filtrado_val.csv\") )\n",
    "\n",
    "\n",
    "teste_diretorios_imagens = carregar_lista_de_txt(os.path.join(config['log_path'], \"teste_diretorios_imagens.txt\") )\n",
    "df_medidas_filtrado_teste = carregar_dataframe(os.path.join(config['log_path'], \"df_medidas_filtrado_teste.csv\") )"
   ]
  },
  {
   "cell_type": "code",
   "execution_count": null,
   "id": "05NUXIeWiXup",
   "metadata": {
    "colab": {
     "base_uri": "https://localhost:8080/"
    },
    "id": "05NUXIeWiXup",
    "outputId": "a48ba3ee-1fbc-43ef-ca93-ac8e9657c7b5"
   },
   "outputs": [
    {
     "name": "stdout",
     "output_type": "stream",
     "text": [
      "Total de imagens para treino:  15392\n",
      "Total de imagens para validação:  4948\n",
      "Total de imagens para teste:  9272\n"
     ]
    }
   ],
   "source": [
    "\n",
    "print(\"Total de imagens para treino: \", len(treino_diretorios_imagens))\n",
    "print(\"Total de imagens para validação: \", len(validacao_diretorios_imagens))\n",
    "print(\"Total de imagens para teste: \", len(teste_diretorios_imagens))"
   ]
  },
  {
   "cell_type": "code",
   "execution_count": null,
   "id": "3B8xqNRmR8Ny",
   "metadata": {
    "id": "3B8xqNRmR8Ny"
   },
   "outputs": [],
   "source": [
    "config['log_path']  =  os.path.join(codigo_base_path, \"log\")\n",
    "if config['segmentation_module_name'] == 'DeepLabV3':\n",
    "  seg_module = DeepLabSegmentationModule(device=device)\n",
    "elif config['segmentation_module_name'] == 'U2Net':\n",
    "  seg_module = U2NetSegmentationModule(\n",
    "      config['train']['u2net_seg_human_model_path'],\n",
    "      device\n",
    "  )\n",
    "else:\n",
    "   raise ValueError(f\"Módulo de segmentação desconhecido: {config['segmentation_module_name']}\")\n",
    "\n"
   ]
  },
  {
   "cell_type": "code",
   "execution_count": null,
   "id": "X2yvTdWDR9cI",
   "metadata": {
    "colab": {
     "base_uri": "https://localhost:8080/",
     "height": 237,
     "referenced_widgets": [
      "150189c5e963487c8aa4b023ba78ed22",
      "db776c42290b41cdb37f14830f28a831",
      "c4134b55f7794c77a7f083b5d65520ef",
      "699c94573d374acb9477a81f899cd68a",
      "9d6a2a386ae547069f910389c3fd4e88",
      "e3d979f4893f433ba8eae4915e1ec9e4",
      "ee29fa89e4e14ee492c308cf8d50c0bd",
      "efaa8cc69bbb476187fd3626cc6fa705",
      "f0a1c7768b2a4365a12e0e57744d6597",
      "885abed57eea4e52bd64cbb0470fa296",
      "30d28c39c8eb4834a1b6608550f4caab",
      "a11fe9e2d4b34fa596116bad056bb709",
      "f8d088d64791472fa802bf6d068f6911",
      "0756e5c808ea4385a4d274ae6729baaf",
      "adbdd39bfc6040a7a6419e1240262c24",
      "95e647dab76544fdab9b24470c1d44c9",
      "b7fe5cefa03e4d959399652ff5b22d8c",
      "1aa415bc12b44daa8d14e0a746d47742",
      "05a8471dd43142e89b258da2156c7a2d",
      "ac021477bf9a427ab202508c91cb1262",
      "e9ca0cf3fb514202b9e27aa9faf73431",
      "215b31f3e07049e5af5d03345d2d4a09",
      "920b211ca0034f32a96eae16ce5add73",
      "34ad2d6d296a4c4497a75513b8702db4",
      "d9baed3e5c93439ebf28992e86442f88",
      "ed3bdfec55f14cf3a229da7dcf08e292",
      "0d8625f340514b9f9f68289884e24375",
      "799a7b77429e4304b7744bc5212fa78c",
      "f9011e75af1945dfb2da250fecbfc851",
      "8ef696ba34a74148a561fabe6f49dbd2",
      "c279e8f4247c479fbd13982622773e44",
      "02741ad3a6a94f60ad49d21d75b82f70",
      "60da7372d0e641688d16afe9c62e55ca",
      "1dc1571e8cf945a59317ae94a4d71dce",
      "225d979c901846f4a5260bcd20944023",
      "eecc43467b8742c686f84bab3ae0a465",
      "d92ae36da18747fc9e298f8d0d29dc7e",
      "f4d9050dcded409a9f6cbecd935fa3dd",
      "7ad670f9a49a45ca8340b07b1f992412",
      "a6c719232fad4b3bb18653f4006ff17a",
      "adabc2f428eb4abb9a385ba933bf3933",
      "bdd6a5861950450c95a24e244eade01c",
      "032c07d391344acc9d626067c23c469e",
      "5e3b056ae3ed4ceb88c0528402a0e01b"
     ]
    },
    "id": "X2yvTdWDR9cI",
    "outputId": "4e3c4912-61e1-4661-fc1c-a8eba7b477b0"
   },
   "outputs": [
    {
     "name": "stderr",
     "output_type": "stream",
     "text": [
      "\u001b[32m2025-09-27 12:08:48.397\u001b[0m | \u001b[1mINFO    \u001b[0m | \u001b[36mrt_pose.pipeline\u001b[0m:\u001b[36m_load_detector\u001b[0m:\u001b[36m70\u001b[0m - \u001b[1mLoading detector from `PekingU/rtdetr_r50vd_coco_o365`...\u001b[0m\n"
     ]
    },
    {
     "data": {
      "application/vnd.jupyter.widget-view+json": {
       "model_id": "150189c5e963487c8aa4b023ba78ed22",
       "version_major": 2,
       "version_minor": 0
      },
      "text/plain": [
       "Fetching 1 files:   0%|          | 0/1 [00:00<?, ?it/s]"
      ]
     },
     "metadata": {},
     "output_type": "display_data"
    },
    {
     "data": {
      "application/vnd.jupyter.widget-view+json": {
       "model_id": "a11fe9e2d4b34fa596116bad056bb709",
       "version_major": 2,
       "version_minor": 0
      },
      "text/plain": [
       "Fetching 1 files:   0%|          | 0/1 [00:00<?, ?it/s]"
      ]
     },
     "metadata": {},
     "output_type": "display_data"
    },
    {
     "name": "stderr",
     "output_type": "stream",
     "text": [
      "\u001b[32m2025-09-27 12:08:51.239\u001b[0m | \u001b[1mINFO    \u001b[0m | \u001b[36mrt_pose.pipeline\u001b[0m:\u001b[36m_load_detector\u001b[0m:\u001b[36m74\u001b[0m - \u001b[1mDetector loaded to `cuda` with dtype `torch.float32`!\u001b[0m\n",
      "\u001b[32m2025-09-27 12:08:51.240\u001b[0m | \u001b[1mINFO    \u001b[0m | \u001b[36mrt_pose.pipeline\u001b[0m:\u001b[36m_load_pose_estimator\u001b[0m:\u001b[36m79\u001b[0m - \u001b[1mLoading pose estimator from `usyd-community/vitpose-plus-small`...\u001b[0m\n"
     ]
    },
    {
     "data": {
      "application/vnd.jupyter.widget-view+json": {
       "model_id": "920b211ca0034f32a96eae16ce5add73",
       "version_major": 2,
       "version_minor": 0
      },
      "text/plain": [
       "Fetching 1 files:   0%|          | 0/1 [00:00<?, ?it/s]"
      ]
     },
     "metadata": {},
     "output_type": "display_data"
    },
    {
     "data": {
      "application/vnd.jupyter.widget-view+json": {
       "model_id": "1dc1571e8cf945a59317ae94a4d71dce",
       "version_major": 2,
       "version_minor": 0
      },
      "text/plain": [
       "Fetching 1 files:   0%|          | 0/1 [00:00<?, ?it/s]"
      ]
     },
     "metadata": {},
     "output_type": "display_data"
    },
    {
     "name": "stderr",
     "output_type": "stream",
     "text": [
      "\u001b[32m2025-09-27 12:08:53.484\u001b[0m | \u001b[1mINFO    \u001b[0m | \u001b[36mrt_pose.pipeline\u001b[0m:\u001b[36m_load_pose_estimator\u001b[0m:\u001b[36m83\u001b[0m - \u001b[1mPose estimator loaded to `cuda` with dtype `torch.float32`!\u001b[0m\n",
      "\u001b[32m2025-09-27 12:08:53.484\u001b[0m | \u001b[1mINFO    \u001b[0m | \u001b[36mrt_pose.pipeline\u001b[0m:\u001b[36m__init__\u001b[0m:\u001b[36m66\u001b[0m - \u001b[1mPipeline initialized successfully!\u001b[0m\n"
     ]
    }
   ],
   "source": [
    "config['log_path']  =  os.path.join(codigo_base_path, \"log\")\n",
    "if config['keypoint_module_name'] == 'RTPose':\n",
    "  kp_module = RTPoseKeypointDetectorModule()\n",
    "elif config['keypoint_module_name'] == 'BlazePose':\n",
    "  kp_module = MediaPipeKeypointsModule()\n",
    "elif config['keypoint_module_name'] == 'Heuristic':\n",
    "  kp_module = KeypointsModule()\n",
    "else:\n",
    "   raise ValueError(f\"Módulo de detecção de pontos chaves desconhecido: {config['keypoint_module_name']}\")\n",
    "\n"
   ]
  },
  {
   "cell_type": "code",
   "execution_count": null,
   "id": "42w_eRK5R_vA",
   "metadata": {
    "id": "42w_eRK5R_vA"
   },
   "outputs": [],
   "source": [
    "config['log_path'] = os.path.join(codigo_base_path, \"log\")\n",
    "\n",
    "if config['regressor_module_name'] == 'XGBoost':\n",
    "\n",
    "  xgboost_model_dir = os.path.join(config['log_path'],\"{}_{}_multioutput_xgb_model.pkl\".format(\n",
    "                   config['segmentation_module_name'],\n",
    "                   config['keypoint_module_name']\n",
    "  ))\n",
    "\n",
    "  reg_module = XGBoostRegressionModule(\n",
    "      model_dir = os.path.join(config['log_path'], xgboost_model_dir),\n",
    "      scaler_dir = os.path.join(config['log_path'], 'treino_scaler.pkl'),\n",
    "  )\n",
    "\n",
    "elif config['regressor_module_name'] == 'DepthwiseSeparableConv1D':\n",
    "\n",
    "  dsc_model_dir = os.path.join(\n",
    "               config['log_path'],\n",
    "               \"{}_{}_separable_conv_regressor_weights.pt\".format(\n",
    "                   config['segmentation_module_name'],\n",
    "                   config['keypoint_module_name']\n",
    "                )\n",
    "  )\n",
    "\n",
    "  if isinstance(kp_module, MediaPipeKeypointsModule) or  isinstance(kp_module, RTPoseKeypointDetectorModule):\n",
    "    reg_module =  DepthwiseSeparableConv1DRegressorModule(\n",
    "      model_dir =  os.path.join(config['log_path'], dsc_model_dir),\n",
    "      scaler_dir =  os.path.join(config['log_path'], 'treino_scaler.pkl'),\n",
    "      device = device,\n",
    "      input_length=55\n",
    "    )\n",
    "  else:\n",
    "    reg_module =  DepthwiseSeparableConv1DRegressorModule(\n",
    "      model_dir =  os.path.join(config['log_path'], dsc_model_dir),\n",
    "      scaler_dir =  os.path.join(config['log_path'], 'treino_scaler.pkl'),\n",
    "      device = device,\n",
    "      input_length=21\n",
    "    )\n",
    "elif config['regressor_module_name'] == 'Heuristic':\n",
    "  reg_module = RegressionModule()\n",
    "\n",
    "else:\n",
    "   raise ValueError(f\"Módulo de detecção de regressão desconhecido: {config['regressor_module_name']}\")\n"
   ]
  },
  {
   "cell_type": "code",
   "execution_count": null,
   "id": "tRIpAWkKSBUy",
   "metadata": {
    "id": "tRIpAWkKSBUy"
   },
   "outputs": [],
   "source": [
    "\n",
    "feature_extractor = ExtractFeaturesKeypoints().to(device)\n"
   ]
  },
  {
   "cell_type": "code",
   "execution_count": null,
   "id": "111862b4-efc1-495a-9a64-203bd542e3a2",
   "metadata": {
    "id": "111862b4-efc1-495a-9a64-203bd542e3a2"
   },
   "outputs": [],
   "source": [
    "\n",
    "treino_scaler = joblib.load(os.path.join(config['log_path'], \"treino_scaler.pkl\"))\n",
    "\n",
    "\n",
    "\n",
    "val_dataset = RegressaoDataset(\n",
    "    image_paths = validacao_diretorios_imagens,\n",
    "    scaler = None,\n",
    "    dataframe = df_medidas_filtrado_val,\n",
    "    dataset_path = config['destination_path'],\n",
    "    u2net = True if config['segmentation_module_name'] == 'U2Net' else False,\n",
    ")\n",
    "\n",
    "\n",
    "\n",
    "teste_dataset = RegressaoDataset(\n",
    "    image_paths = teste_diretorios_imagens,\n",
    "    scaler = None,\n",
    "    dataframe = df_medidas_filtrado_teste,\n",
    "    dataset_path = config['destination_path'],\n",
    "    u2net = True if config['segmentation_module_name'] == 'U2Net' else False,\n",
    ")\n",
    "\n"
   ]
  },
  {
   "cell_type": "markdown",
   "id": "4PhXrRQy9w0M",
   "metadata": {
    "id": "4PhXrRQy9w0M"
   },
   "source": [
    "# Avaliação\n",
    "\n",
    "\n",
    "Vamos usar a métrica de regressão Raiz do Erro Quadrático Médio, de Root Mean Squared Error (RMSE), que calcula\n",
    "a média da norma quadrática entre os valores previstos e valores verdadeiros. Dentro do problema de Regressão Multivariada, comparamos vetores previstos e verdadeira para cada amostra de validação ou amostra de teste de modo que o resultado final é a média entre o erro quadrático de todas as amostras."
   ]
  },
  {
   "cell_type": "code",
   "execution_count": null,
   "id": "8tknhHV59yD2",
   "metadata": {
    "id": "8tknhHV59yD2"
   },
   "outputs": [],
   "source": [
    "# Criação do DataLoader para o split de validacão\n",
    "val_loader = DataLoader(\n",
    "    dataset=val_dataset,\n",
    "    batch_size=1,\n",
    "    shuffle=False,\n",
    "    #pin_memory=True,\n",
    "    #num_workers=2\n",
    ")\n",
    "\n",
    "\n",
    "\n",
    "# Criação do DataLoader para o split de teste\n",
    "test_loader = DataLoader(\n",
    "    dataset=teste_dataset,\n",
    "    batch_size=1,\n",
    "    shuffle=False,\n",
    "    #pin_memory=True,\n",
    "    #num_workers=2\n",
    ")\n"
   ]
  },
  {
   "cell_type": "code",
   "execution_count": null,
   "id": "yN2O5ZbO9_jz",
   "metadata": {
    "id": "yN2O5ZbO9_jz"
   },
   "outputs": [],
   "source": [
    "@torch.no_grad()\n",
    "def print_average_rmse_gpu(loader, seg_module, kp_module, reg_module, device, feature_extractor_module=None, salvar_mascaras=False):\n",
    "    global aux\n",
    "    # O que é RMSE: https://c3.ai/glossary/data-science/root-mean-square-error-rmse/\n",
    "    \"\"\"\n",
    "    Calcula e imprime o erro quadrático médio (RMSE) entre os valores reais e os valores previstos\n",
    "    de medidas corporais em um problema de regressão multivariada, utilizando PyTorch.\n",
    "\n",
    "    A função percorre um DataLoader contendo imagens e seus respectivos rótulos (medidas reais),\n",
    "    extrai a silhueta da imagem, gera os keypoints, prediz as medidas com base nesses pontos,\n",
    "    e calcula o RMSE considerando o vetor de medidas como uma única predição multivariada por amostra.\n",
    "\n",
    "    Args:\n",
    "    ----------\n",
    "    loader : torch.utils.data.DataLoader\n",
    "        DataLoader contendo tuplas (imagem, medidas reais).\n",
    "\n",
    "    seg_module : módulo de segmentação\n",
    "        Módulo responsável por extrair a silhueta da imagem.\n",
    "\n",
    "    kp_module : módulo de keypoints\n",
    "        Módulo responsável por extrair os pontos-chave da silhueta.\n",
    "\n",
    "    reg_module : módulo de regressão\n",
    "        Módulo responsável por prever as medidas corporais a partir dos keypoints.\n",
    "\n",
    "    feature_extractor_module: módulo de extração de carcaterísticas dos pontos-chave\n",
    "        Módulo responsável por extrair carcaterísticas dos pontos-chave da silhueta.\n",
    "\n",
    "    device : torch.device\n",
    "        Dispositivo onde os tensores serão processados (CPU ou GPU).\n",
    "\n",
    "    Output:\n",
    "    ---------\n",
    "    - Imprime o valor médio de RMSE em pixels.\n",
    "    \"\"\"\n",
    "\n",
    "    total_erro_quadratico = 0.0\n",
    "    total_amostras = 0\n",
    "    count = 0 # apenas uma variável acumuladora para salvar máscaras em sequência\n",
    "    total_keypoints_not_detected = 0\n",
    "    total_masks_not_segmented = 0\n",
    "\n",
    "    for img, label in tqdm(loader):\n",
    "        img, label = img.to(device), label.to(device) # move a imagem e os rótulos para o dispositivo.\n",
    "\n",
    "        mask = seg_module.extract_silhouette(img) # extrai a silhueta da imagem.\n",
    "        #seg_module.visualizar_silhueta(img, mask)\n",
    "        if mask.max() > 0:\n",
    "          if salvar_mascaras:\n",
    "            salvar_silhuetas(img, mask, \"./resultado\", \"amostra_{}\".format(count))\n",
    "\n",
    "        # se a silhueta estiver vazia, usa medidas zeradas\n",
    "        if mask.max() == 0:\n",
    "            total_masks_not_segmented = total_masks_not_segmented + 1\n",
    "\n",
    "            measures = {\n",
    "                'peito': 0.00, 'cintura': 0.00, 'quadril': 0.00, 'coxa': 0.00,\n",
    "                'joelho': 0.00, 'panturrilha': 0.00, 'abdomen': 0.00,\n",
    "                'pescoço': 0.00, 'biceps': 0.00\n",
    "            }\n",
    "        else:\n",
    "          # gera os keypoints da silhueta.\n",
    "          if isinstance(kp_module, MediaPipeKeypointsModule) or isinstance(kp_module, RTPoseKeypointDetectorModule):\n",
    "              if isinstance(seg_module, U2NetSegmentationModule):\n",
    "                img_unormalized = unnormalize_tensor(img.squeeze().cpu().detach())\n",
    "                img_unormalized = (img_unormalized * 255).clip(0, 255).astype(np.uint8) # converte para RGB\n",
    "              elif isinstance(seg_module, DeepLabSegmentationModule):\n",
    "                img_unormalized = (img * 255).clamp(0, 255).byte() # converte para RGB\n",
    "                img_unormalized = img_unormalized.squeeze().permute((1,2,0)).cpu().detach()\n",
    "                img_unormalized = img_unormalized.numpy().astype(np.uint8)\n",
    "              aux = img_unormalized.copy()\n",
    "              keypoints = kp_module.detector.detect(\n",
    "                  img_unormalized,\n",
    "                  mask\n",
    "              )\n",
    "\n",
    "          else:\n",
    "              keypoints = kp_module.extract_keypoints(mask)\n",
    "\n",
    "          if keypoints is not None and feature_extractor is not None: # se  detectou pontos chaves\n",
    "              keypoints_features = feature_extractor(keypoints).to(device) # 1xN (N=21 para KeypointDetectionModule e N=55 para MediaPipeKeypointsModule ou RTPoseKeypointDetectorModule)\n",
    "\n",
    "\n",
    "              # prediz as medidas corporais com base nos keypoints.\n",
    "              if isinstance(reg_module, XGBoostRegressionModule):\n",
    "                measures = reg_module.predict_measures(np.expand_dims(keypoints_features.cpu().detach().numpy(), 0))\n",
    "              elif isinstance(reg_module, DepthwiseSeparableConv1DRegressorModule):\n",
    "                measures = reg_module.predict_measures(np.expand_dims(keypoints_features.cpu().detach().numpy(), 0))\n",
    "              else:\n",
    "                measures = reg_module.predict_measures(keypoints)\n",
    "\n",
    "          else:\n",
    "              # apenas acumula o total de falhas\n",
    "              total_keypoints_not_detected =  total_keypoints_not_detected + 1\n",
    "\n",
    "              measures = {\n",
    "                  'peito': 0.00, 'cintura': 0.00, 'quadril': 0.00, 'coxa': 0.00,\n",
    "                  'joelho': 0.00, 'panturrilha': 0.00, 'abdomen': 0.00,\n",
    "                  'pescoço': 0.00, 'biceps': 0.00\n",
    "              }\n",
    "              #continue\n",
    "\n",
    "          # # se a silhueta estiver vazia, usa medidas zeradas\n",
    "          # if mask.max() == 0:\n",
    "          #     total_masks_not_segmented = total_masks_not_segmented + 1\n",
    "\n",
    "          #     measures = {\n",
    "          #         'peito': 0.00, 'cintura': 0.00, 'quadril': 0.00, 'coxa': 0.00,\n",
    "          #         'joelho': 0.00, 'panturrilha': 0.00, 'abdomen': 0.00,\n",
    "          #         'pescoço': 0.00, 'biceps': 0.00\n",
    "          #     }\n",
    "\n",
    "        pred_tensor = torch.tensor(list(measures.values()), device=device)\n",
    "        pred_tensor = pred_tensor.unsqueeze(0) # 1x9\n",
    "        true_tensor = torch.tensor(label.cpu().detach().numpy(), device=device)\n",
    "        true_tensor = true_tensor.view(1, -1) # 1x9\n",
    "        assert pred_tensor.shape == true_tensor.shape\n",
    "\n",
    "        # calculando o erro quadrático da predição (norma ao quadrado da diferença)\n",
    "        erro_quadratico =  (pred_tensor - true_tensor).pow(2).sum().item()\n",
    "        # acumulando o erro total e o número de amostras.\n",
    "        total_erro_quadratico += erro_quadratico\n",
    "        total_amostras += 1 # N\n",
    "\n",
    "    # Computando RMSE de MSE\n",
    "    erro_quadratico_medio = total_erro_quadratico / max(total_amostras, 1)\n",
    "    raiz_erro_quadratico_medio = math.sqrt(erro_quadratico_medio)\n",
    "\n",
    "    print(f\"\\n Média geral de RMSE: {raiz_erro_quadratico_medio:.2f} px\")\n",
    "    print(\"[INFO]Total de imagens com Pontos Chaves não detectados: \", total_keypoints_not_detected)\n",
    "    print(\"[INFO] Total de imagens com máscaras previstas vazias: \", total_masks_not_segmented)\n"
   ]
  },
  {
   "cell_type": "code",
   "execution_count": null,
   "id": "-pOFU9xxKOTc",
   "metadata": {
    "colab": {
     "base_uri": "https://localhost:8080/"
    },
    "id": "-pOFU9xxKOTc",
    "outputId": "55de1f04-436b-4484-816e-c4b4d230c206"
   },
   "outputs": [
    {
     "data": {
      "text/plain": [
       "{'colab': True,\n",
       " 'dataset_path': '/content/drive/MyDrive/Colab Notebooks/SelecaoINOVIA/datasets',\n",
       " 'destination_path': '/content/unzipped_files',\n",
       " 'log_path': '/content/deteccao_pontos_chaves/log',\n",
       " 'regressor_module_name': 'Heuristic',\n",
       " 'keypoint_module_name': 'Heuristic',\n",
       " 'segmentation_module_name': 'DeepLabV3',\n",
       " 'train': {'batch_size': 120,\n",
       "  'learning_rate': '1e-7',\n",
       "  'u2net_seg_human_model_path': '/content/u2net_human_seg.pth'}}"
      ]
     },
     "execution_count": 66,
     "metadata": {},
     "output_type": "execute_result"
    }
   ],
   "source": [
    "config"
   ]
  },
  {
   "cell_type": "code",
   "execution_count": null,
   "id": "zm0ENyWzMuD1",
   "metadata": {
    "colab": {
     "base_uri": "https://localhost:8080/"
    },
    "id": "zm0ENyWzMuD1",
    "outputId": "5578924f-f433-47ec-bd4d-8c444a7232a2"
   },
   "outputs": [
    {
     "name": "stdout",
     "output_type": "stream",
     "text": [
      "Pipeline =  <models.seg_modules.U2NetSegmentationModule object at 0x7ab7a1d9bf50> -> <models.kp_modules.RTPoseKeypointDetectorModule object at 0x7ab79df4bd40> -> <models.reg_modules.DepthwiseSeparableConv1DRegressorModule object at 0x7ab79c5920f0>\n"
     ]
    }
   ],
   "source": [
    "print(\"Pipeline = \", seg_module, \"->\", kp_module, \"->\", reg_module)"
   ]
  },
  {
   "cell_type": "code",
   "execution_count": null,
   "id": "o1QgwlAM-tEL",
   "metadata": {
    "colab": {
     "base_uri": "https://localhost:8080/"
    },
    "id": "o1QgwlAM-tEL",
    "outputId": "9b37b605-3824-41a9-92f7-2fb53be4f866"
   },
   "outputs": [
    {
     "name": "stderr",
     "output_type": "stream",
     "text": [
      "100%|██████████| 4948/4948 [17:05<00:00,  4.82it/s]"
     ]
    },
    {
     "name": "stdout",
     "output_type": "stream",
     "text": [
      "\n",
      " Média geral de RMSE: 25.78 px\n",
      "[INFO]Total de imagens com Pontos Chaves não detectados:  4\n",
      "[INFO] Total de imagens com máscaras previstas vazias:  0\n",
      "Tempo de execução: 1025.69 segundos\n"
     ]
    },
    {
     "name": "stderr",
     "output_type": "stream",
     "text": [
      "\n"
     ]
    }
   ],
   "source": [
    "\n",
    "\n",
    "import time\n",
    "\n",
    "start_time = time.time()\n",
    "\n",
    "# computação do RMSE para o conjunto de validação\n",
    "print_average_rmse_gpu(\n",
    "    loader = val_loader,\n",
    "    seg_module = seg_module,\n",
    "    kp_module = kp_module,\n",
    "    reg_module = reg_module,\n",
    "    feature_extractor_module = feature_extractor,\n",
    "    device = device,\n",
    "    salvar_mascaras=False\n",
    ")\n",
    "\n",
    "end_time = time.time()\n",
    "\n",
    "elapsed_time = end_time - start_time\n",
    "\n",
    "print(f\"Tempo de execução: {elapsed_time:.2f} segundos\")\n"
   ]
  },
  {
   "cell_type": "code",
   "execution_count": null,
   "id": "jGYgjF_D-0qv",
   "metadata": {
    "colab": {
     "base_uri": "https://localhost:8080/"
    },
    "id": "jGYgjF_D-0qv",
    "outputId": "21dfa3c5-a57f-498e-943b-dccfc6f8f306"
   },
   "outputs": [
    {
     "name": "stderr",
     "output_type": "stream",
     "text": [
      "100%|██████████| 9272/9272 [21:36<00:00,  7.15it/s]"
     ]
    },
    {
     "name": "stdout",
     "output_type": "stream",
     "text": [
      "\n",
      " Média geral de RMSE: 158.66 px\n",
      "[INFO]Total de imagens com Pontos Chaves não detectados:  0\n",
      "[INFO] Total de imagens com máscaras previstas vazias:  623\n",
      "Tempo de execução: 1296.83 segundos\n"
     ]
    },
    {
     "name": "stderr",
     "output_type": "stream",
     "text": [
      "\n"
     ]
    }
   ],
   "source": [
    "\n",
    "import time\n",
    "\n",
    "start_time = time.time()\n",
    "\n",
    "\n",
    "# computação do RMSE para o conjunto de teste\n",
    "print_average_rmse_gpu(\n",
    "    loader = test_loader,\n",
    "    seg_module = seg_module,\n",
    "    kp_module = kp_module,\n",
    "    reg_module = reg_module,\n",
    "    feature_extractor_module = feature_extractor,\n",
    "    device = device,\n",
    "    salvar_mascaras=False\n",
    ")\n",
    "\n",
    "\n",
    "end_time = time.time()\n",
    "\n",
    "elapsed_time = end_time - start_time\n",
    "\n",
    "print(f\"Tempo de execução: {elapsed_time:.2f} segundos\")"
   ]
  },
  {
   "cell_type": "markdown",
   "id": "uv_UWMHV6hod",
   "metadata": {
    "id": "uv_UWMHV6hod"
   },
   "source": [
    "- Total de máscaras perdidas por DeepLabV3 na validação é 329 e no teste é 623.\n",
    "- Total de máscaras perdidas por U2Net na validação é 0 e no teste é 0."
   ]
  },
  {
   "cell_type": "markdown",
   "id": "6G7sThFDXgkI",
   "metadata": {
    "id": "6G7sThFDXgkI"
   },
   "source": [
    "\n",
    "> **HARDWARE:** CPU Intel(R) Xeon(R) CPU @ 2.20GHz e GPU Nvidia Tesla T4.\n",
    "\n",
    "| Segmentação | Ponto-chave | Regressor         | Tempo de inferência (s) | RMSE (px) validação | RMSE (px) teste | Total pontos chaves perdidos validação | Total pontos chaves perdidos teste |\n",
    "|-------------|-------------|-------------------|--------------------------|----------------------|-----------------|----------------------------------------|-------------------------------------|\n",
    "| DeepLabV3   | Heuristic   | Heuristic         | 21m33s                   | 160.76 px            | 158.66 px       | 0                                      | 0                                   |\n",
    "| DeepLabV3   | RTPose      | XGBoost           | 35m46s                   | 55.80 px             | 55.80 px        | 2                                      | 3                                   |\n",
    "| DeepLabV3   | RTPose      | DepthwiseConv1D   | 33m19s                   | 58.38 px             | 57.67 px        | 2                                      | 3                                   |\n",
    "| DeepLabV3   | BlazePose   | DepthwiseConv1D   |            28m48s              |        109.41 px              |           110.62 px      |                    923                    |                    1872                 |\n",
    "| DeepLabV3   | BlazePose   | XGBoost           |     30m42s                     |       108.65 px               |      109.95 px           |                923                        |               1872                      |\n",
    "| DeepLabV3   | Heuristic   | DepthwiseConv1D   |       21m47s                   |       58.41 px                |     57.50 px            |               0                         |                 0                    |\n",
    "| DeepLabV3   | Heuristic   | XGBoost           |      24m11s                    |    57.94 px                  |         57.35 px        |       0                                 |            0                         |\n",
    "| U2Net       | RTPose      | DepthwiseConv1D   |             32m31s             |       25.78 px               |        25.11 px         |         4                               |                  7                   |\n",
    "| U2Net       | RTPose      | XGBoost           |         34m52s                 |     **19.24 px**                 |         **19.18 px**        |       4                                 |             7                        |\n",
    "| U2Net       | BlazePose   | DepthwiseConv1D   |     26m52s                     |        95.45 px              |         96.62 px        |                        921                |       1845                              |\n",
    "| U2Net       | BlazePose   | XGBoost           |        29m17s                  |    94.42 px                  |          95.65 px       |                     921                   |                1845                     |\n",
    "| U2Net       | Heuristic   | DepthwiseConv1D   |                 **18m49s**         |          25.28 px            |        24.80 px         |                  0                      |              0                       |\n",
    "| U2Net       | Heuristic   | XGBoost           |    21m28s                      |        23.96 px              |     23.64 px            |               0                         |            0                         |\n",
    "\n"
   ]
  },
  {
   "cell_type": "markdown",
   "id": "gjTEMoJn9Xll",
   "metadata": {
    "id": "gjTEMoJn9Xll"
   },
   "source": [
    "# Trabalhos futuros\n",
    "\n",
    "- Conversão dos modelos para formatos apropriado para dispositivos móveis. Por exemplo, o trabalho de [Removebg](https://github.com/AppcentMobile/removebg) realizou a integração da U2Net para um apĺicativo android convertendo o modelo para formato .ptl (pytorch lite).\n",
    "- Implantação dos melhores modelos para dentro de dispositivos móveis a fim de gerar resultados experimentais mais rigorosos que consideram principalmente o tempo de inferência (milisegundos) como métrica de latência.\n",
    "- Avaliar mais profundamente a não detecção de pontos chaves em inúmeras imagens. A causa disso poderia ser relacionada aos próprios dados sintéticos?\n"
   ]
  }
 ],
 "metadata": {
  "accelerator": "GPU",
  "colab": {
   "gpuType": "T4",
   "provenance": []
  },
  "kernelspec": {
   "display_name": "Python 3 (ipykernel)",
   "language": "python",
   "name": "python3"
  },
  "language_info": {
   "codemirror_mode": {
    "name": "ipython",
    "version": 3
   },
   "file_extension": ".py",
   "mimetype": "text/x-python",
   "name": "python",
   "nbconvert_exporter": "python",
   "pygments_lexer": "ipython3",
   "version": "3.12.4"
  },
  "widgets": {
   "application/vnd.jupyter.widget-state+json": {
    "02741ad3a6a94f60ad49d21d75b82f70": {
     "model_module": "@jupyter-widgets/base",
     "model_module_version": "1.2.0",
     "model_name": "LayoutModel",
     "state": {
      "_model_module": "@jupyter-widgets/base",
      "_model_module_version": "1.2.0",
      "_model_name": "LayoutModel",
      "_view_count": null,
      "_view_module": "@jupyter-widgets/base",
      "_view_module_version": "1.2.0",
      "_view_name": "LayoutView",
      "align_content": null,
      "align_items": null,
      "align_self": null,
      "border": null,
      "bottom": null,
      "display": null,
      "flex": null,
      "flex_flow": null,
      "grid_area": null,
      "grid_auto_columns": null,
      "grid_auto_flow": null,
      "grid_auto_rows": null,
      "grid_column": null,
      "grid_gap": null,
      "grid_row": null,
      "grid_template_areas": null,
      "grid_template_columns": null,
      "grid_template_rows": null,
      "height": null,
      "justify_content": null,
      "justify_items": null,
      "left": null,
      "margin": null,
      "max_height": null,
      "max_width": null,
      "min_height": null,
      "min_width": null,
      "object_fit": null,
      "object_position": null,
      "order": null,
      "overflow": null,
      "overflow_x": null,
      "overflow_y": null,
      "padding": null,
      "right": null,
      "top": null,
      "visibility": null,
      "width": null
     }
    },
    "032c07d391344acc9d626067c23c469e": {
     "model_module": "@jupyter-widgets/base",
     "model_module_version": "1.2.0",
     "model_name": "LayoutModel",
     "state": {
      "_model_module": "@jupyter-widgets/base",
      "_model_module_version": "1.2.0",
      "_model_name": "LayoutModel",
      "_view_count": null,
      "_view_module": "@jupyter-widgets/base",
      "_view_module_version": "1.2.0",
      "_view_name": "LayoutView",
      "align_content": null,
      "align_items": null,
      "align_self": null,
      "border": null,
      "bottom": null,
      "display": null,
      "flex": null,
      "flex_flow": null,
      "grid_area": null,
      "grid_auto_columns": null,
      "grid_auto_flow": null,
      "grid_auto_rows": null,
      "grid_column": null,
      "grid_gap": null,
      "grid_row": null,
      "grid_template_areas": null,
      "grid_template_columns": null,
      "grid_template_rows": null,
      "height": null,
      "justify_content": null,
      "justify_items": null,
      "left": null,
      "margin": null,
      "max_height": null,
      "max_width": null,
      "min_height": null,
      "min_width": null,
      "object_fit": null,
      "object_position": null,
      "order": null,
      "overflow": null,
      "overflow_x": null,
      "overflow_y": null,
      "padding": null,
      "right": null,
      "top": null,
      "visibility": null,
      "width": null
     }
    },
    "05a8471dd43142e89b258da2156c7a2d": {
     "model_module": "@jupyter-widgets/base",
     "model_module_version": "1.2.0",
     "model_name": "LayoutModel",
     "state": {
      "_model_module": "@jupyter-widgets/base",
      "_model_module_version": "1.2.0",
      "_model_name": "LayoutModel",
      "_view_count": null,
      "_view_module": "@jupyter-widgets/base",
      "_view_module_version": "1.2.0",
      "_view_name": "LayoutView",
      "align_content": null,
      "align_items": null,
      "align_self": null,
      "border": null,
      "bottom": null,
      "display": null,
      "flex": null,
      "flex_flow": null,
      "grid_area": null,
      "grid_auto_columns": null,
      "grid_auto_flow": null,
      "grid_auto_rows": null,
      "grid_column": null,
      "grid_gap": null,
      "grid_row": null,
      "grid_template_areas": null,
      "grid_template_columns": null,
      "grid_template_rows": null,
      "height": null,
      "justify_content": null,
      "justify_items": null,
      "left": null,
      "margin": null,
      "max_height": null,
      "max_width": null,
      "min_height": null,
      "min_width": null,
      "object_fit": null,
      "object_position": null,
      "order": null,
      "overflow": null,
      "overflow_x": null,
      "overflow_y": null,
      "padding": null,
      "right": null,
      "top": null,
      "visibility": null,
      "width": null
     }
    },
    "0756e5c808ea4385a4d274ae6729baaf": {
     "model_module": "@jupyter-widgets/controls",
     "model_module_version": "1.5.0",
     "model_name": "FloatProgressModel",
     "state": {
      "_dom_classes": [],
      "_model_module": "@jupyter-widgets/controls",
      "_model_module_version": "1.5.0",
      "_model_name": "FloatProgressModel",
      "_view_count": null,
      "_view_module": "@jupyter-widgets/controls",
      "_view_module_version": "1.5.0",
      "_view_name": "ProgressView",
      "bar_style": "success",
      "description": "",
      "description_tooltip": null,
      "layout": "IPY_MODEL_05a8471dd43142e89b258da2156c7a2d",
      "max": 1,
      "min": 0,
      "orientation": "horizontal",
      "style": "IPY_MODEL_ac021477bf9a427ab202508c91cb1262",
      "value": 1
     }
    },
    "0d8625f340514b9f9f68289884e24375": {
     "model_module": "@jupyter-widgets/base",
     "model_module_version": "1.2.0",
     "model_name": "LayoutModel",
     "state": {
      "_model_module": "@jupyter-widgets/base",
      "_model_module_version": "1.2.0",
      "_model_name": "LayoutModel",
      "_view_count": null,
      "_view_module": "@jupyter-widgets/base",
      "_view_module_version": "1.2.0",
      "_view_name": "LayoutView",
      "align_content": null,
      "align_items": null,
      "align_self": null,
      "border": null,
      "bottom": null,
      "display": null,
      "flex": null,
      "flex_flow": null,
      "grid_area": null,
      "grid_auto_columns": null,
      "grid_auto_flow": null,
      "grid_auto_rows": null,
      "grid_column": null,
      "grid_gap": null,
      "grid_row": null,
      "grid_template_areas": null,
      "grid_template_columns": null,
      "grid_template_rows": null,
      "height": null,
      "justify_content": null,
      "justify_items": null,
      "left": null,
      "margin": null,
      "max_height": null,
      "max_width": null,
      "min_height": null,
      "min_width": null,
      "object_fit": null,
      "object_position": null,
      "order": null,
      "overflow": null,
      "overflow_x": null,
      "overflow_y": null,
      "padding": null,
      "right": null,
      "top": null,
      "visibility": null,
      "width": null
     }
    },
    "150189c5e963487c8aa4b023ba78ed22": {
     "model_module": "@jupyter-widgets/controls",
     "model_module_version": "1.5.0",
     "model_name": "HBoxModel",
     "state": {
      "_dom_classes": [],
      "_model_module": "@jupyter-widgets/controls",
      "_model_module_version": "1.5.0",
      "_model_name": "HBoxModel",
      "_view_count": null,
      "_view_module": "@jupyter-widgets/controls",
      "_view_module_version": "1.5.0",
      "_view_name": "HBoxView",
      "box_style": "",
      "children": [
       "IPY_MODEL_db776c42290b41cdb37f14830f28a831",
       "IPY_MODEL_c4134b55f7794c77a7f083b5d65520ef",
       "IPY_MODEL_699c94573d374acb9477a81f899cd68a"
      ],
      "layout": "IPY_MODEL_9d6a2a386ae547069f910389c3fd4e88"
     }
    },
    "1aa415bc12b44daa8d14e0a746d47742": {
     "model_module": "@jupyter-widgets/controls",
     "model_module_version": "1.5.0",
     "model_name": "DescriptionStyleModel",
     "state": {
      "_model_module": "@jupyter-widgets/controls",
      "_model_module_version": "1.5.0",
      "_model_name": "DescriptionStyleModel",
      "_view_count": null,
      "_view_module": "@jupyter-widgets/base",
      "_view_module_version": "1.2.0",
      "_view_name": "StyleView",
      "description_width": ""
     }
    },
    "1dc1571e8cf945a59317ae94a4d71dce": {
     "model_module": "@jupyter-widgets/controls",
     "model_module_version": "1.5.0",
     "model_name": "HBoxModel",
     "state": {
      "_dom_classes": [],
      "_model_module": "@jupyter-widgets/controls",
      "_model_module_version": "1.5.0",
      "_model_name": "HBoxModel",
      "_view_count": null,
      "_view_module": "@jupyter-widgets/controls",
      "_view_module_version": "1.5.0",
      "_view_name": "HBoxView",
      "box_style": "",
      "children": [
       "IPY_MODEL_225d979c901846f4a5260bcd20944023",
       "IPY_MODEL_eecc43467b8742c686f84bab3ae0a465",
       "IPY_MODEL_d92ae36da18747fc9e298f8d0d29dc7e"
      ],
      "layout": "IPY_MODEL_f4d9050dcded409a9f6cbecd935fa3dd"
     }
    },
    "215b31f3e07049e5af5d03345d2d4a09": {
     "model_module": "@jupyter-widgets/controls",
     "model_module_version": "1.5.0",
     "model_name": "DescriptionStyleModel",
     "state": {
      "_model_module": "@jupyter-widgets/controls",
      "_model_module_version": "1.5.0",
      "_model_name": "DescriptionStyleModel",
      "_view_count": null,
      "_view_module": "@jupyter-widgets/base",
      "_view_module_version": "1.2.0",
      "_view_name": "StyleView",
      "description_width": ""
     }
    },
    "225d979c901846f4a5260bcd20944023": {
     "model_module": "@jupyter-widgets/controls",
     "model_module_version": "1.5.0",
     "model_name": "HTMLModel",
     "state": {
      "_dom_classes": [],
      "_model_module": "@jupyter-widgets/controls",
      "_model_module_version": "1.5.0",
      "_model_name": "HTMLModel",
      "_view_count": null,
      "_view_module": "@jupyter-widgets/controls",
      "_view_module_version": "1.5.0",
      "_view_name": "HTMLView",
      "description": "",
      "description_tooltip": null,
      "layout": "IPY_MODEL_7ad670f9a49a45ca8340b07b1f992412",
      "placeholder": "​",
      "style": "IPY_MODEL_a6c719232fad4b3bb18653f4006ff17a",
      "value": "Fetching 1 files: 100%"
     }
    },
    "30d28c39c8eb4834a1b6608550f4caab": {
     "model_module": "@jupyter-widgets/controls",
     "model_module_version": "1.5.0",
     "model_name": "DescriptionStyleModel",
     "state": {
      "_model_module": "@jupyter-widgets/controls",
      "_model_module_version": "1.5.0",
      "_model_name": "DescriptionStyleModel",
      "_view_count": null,
      "_view_module": "@jupyter-widgets/base",
      "_view_module_version": "1.2.0",
      "_view_name": "StyleView",
      "description_width": ""
     }
    },
    "34ad2d6d296a4c4497a75513b8702db4": {
     "model_module": "@jupyter-widgets/controls",
     "model_module_version": "1.5.0",
     "model_name": "HTMLModel",
     "state": {
      "_dom_classes": [],
      "_model_module": "@jupyter-widgets/controls",
      "_model_module_version": "1.5.0",
      "_model_name": "HTMLModel",
      "_view_count": null,
      "_view_module": "@jupyter-widgets/controls",
      "_view_module_version": "1.5.0",
      "_view_name": "HTMLView",
      "description": "",
      "description_tooltip": null,
      "layout": "IPY_MODEL_799a7b77429e4304b7744bc5212fa78c",
      "placeholder": "​",
      "style": "IPY_MODEL_f9011e75af1945dfb2da250fecbfc851",
      "value": "Fetching 1 files: 100%"
     }
    },
    "5e3b056ae3ed4ceb88c0528402a0e01b": {
     "model_module": "@jupyter-widgets/controls",
     "model_module_version": "1.5.0",
     "model_name": "DescriptionStyleModel",
     "state": {
      "_model_module": "@jupyter-widgets/controls",
      "_model_module_version": "1.5.0",
      "_model_name": "DescriptionStyleModel",
      "_view_count": null,
      "_view_module": "@jupyter-widgets/base",
      "_view_module_version": "1.2.0",
      "_view_name": "StyleView",
      "description_width": ""
     }
    },
    "60da7372d0e641688d16afe9c62e55ca": {
     "model_module": "@jupyter-widgets/controls",
     "model_module_version": "1.5.0",
     "model_name": "DescriptionStyleModel",
     "state": {
      "_model_module": "@jupyter-widgets/controls",
      "_model_module_version": "1.5.0",
      "_model_name": "DescriptionStyleModel",
      "_view_count": null,
      "_view_module": "@jupyter-widgets/base",
      "_view_module_version": "1.2.0",
      "_view_name": "StyleView",
      "description_width": ""
     }
    },
    "699c94573d374acb9477a81f899cd68a": {
     "model_module": "@jupyter-widgets/controls",
     "model_module_version": "1.5.0",
     "model_name": "HTMLModel",
     "state": {
      "_dom_classes": [],
      "_model_module": "@jupyter-widgets/controls",
      "_model_module_version": "1.5.0",
      "_model_name": "HTMLModel",
      "_view_count": null,
      "_view_module": "@jupyter-widgets/controls",
      "_view_module_version": "1.5.0",
      "_view_name": "HTMLView",
      "description": "",
      "description_tooltip": null,
      "layout": "IPY_MODEL_885abed57eea4e52bd64cbb0470fa296",
      "placeholder": "​",
      "style": "IPY_MODEL_30d28c39c8eb4834a1b6608550f4caab",
      "value": " 1/1 [00:00&lt;00:00, 96.58it/s]"
     }
    },
    "799a7b77429e4304b7744bc5212fa78c": {
     "model_module": "@jupyter-widgets/base",
     "model_module_version": "1.2.0",
     "model_name": "LayoutModel",
     "state": {
      "_model_module": "@jupyter-widgets/base",
      "_model_module_version": "1.2.0",
      "_model_name": "LayoutModel",
      "_view_count": null,
      "_view_module": "@jupyter-widgets/base",
      "_view_module_version": "1.2.0",
      "_view_name": "LayoutView",
      "align_content": null,
      "align_items": null,
      "align_self": null,
      "border": null,
      "bottom": null,
      "display": null,
      "flex": null,
      "flex_flow": null,
      "grid_area": null,
      "grid_auto_columns": null,
      "grid_auto_flow": null,
      "grid_auto_rows": null,
      "grid_column": null,
      "grid_gap": null,
      "grid_row": null,
      "grid_template_areas": null,
      "grid_template_columns": null,
      "grid_template_rows": null,
      "height": null,
      "justify_content": null,
      "justify_items": null,
      "left": null,
      "margin": null,
      "max_height": null,
      "max_width": null,
      "min_height": null,
      "min_width": null,
      "object_fit": null,
      "object_position": null,
      "order": null,
      "overflow": null,
      "overflow_x": null,
      "overflow_y": null,
      "padding": null,
      "right": null,
      "top": null,
      "visibility": null,
      "width": null
     }
    },
    "7ad670f9a49a45ca8340b07b1f992412": {
     "model_module": "@jupyter-widgets/base",
     "model_module_version": "1.2.0",
     "model_name": "LayoutModel",
     "state": {
      "_model_module": "@jupyter-widgets/base",
      "_model_module_version": "1.2.0",
      "_model_name": "LayoutModel",
      "_view_count": null,
      "_view_module": "@jupyter-widgets/base",
      "_view_module_version": "1.2.0",
      "_view_name": "LayoutView",
      "align_content": null,
      "align_items": null,
      "align_self": null,
      "border": null,
      "bottom": null,
      "display": null,
      "flex": null,
      "flex_flow": null,
      "grid_area": null,
      "grid_auto_columns": null,
      "grid_auto_flow": null,
      "grid_auto_rows": null,
      "grid_column": null,
      "grid_gap": null,
      "grid_row": null,
      "grid_template_areas": null,
      "grid_template_columns": null,
      "grid_template_rows": null,
      "height": null,
      "justify_content": null,
      "justify_items": null,
      "left": null,
      "margin": null,
      "max_height": null,
      "max_width": null,
      "min_height": null,
      "min_width": null,
      "object_fit": null,
      "object_position": null,
      "order": null,
      "overflow": null,
      "overflow_x": null,
      "overflow_y": null,
      "padding": null,
      "right": null,
      "top": null,
      "visibility": null,
      "width": null
     }
    },
    "885abed57eea4e52bd64cbb0470fa296": {
     "model_module": "@jupyter-widgets/base",
     "model_module_version": "1.2.0",
     "model_name": "LayoutModel",
     "state": {
      "_model_module": "@jupyter-widgets/base",
      "_model_module_version": "1.2.0",
      "_model_name": "LayoutModel",
      "_view_count": null,
      "_view_module": "@jupyter-widgets/base",
      "_view_module_version": "1.2.0",
      "_view_name": "LayoutView",
      "align_content": null,
      "align_items": null,
      "align_self": null,
      "border": null,
      "bottom": null,
      "display": null,
      "flex": null,
      "flex_flow": null,
      "grid_area": null,
      "grid_auto_columns": null,
      "grid_auto_flow": null,
      "grid_auto_rows": null,
      "grid_column": null,
      "grid_gap": null,
      "grid_row": null,
      "grid_template_areas": null,
      "grid_template_columns": null,
      "grid_template_rows": null,
      "height": null,
      "justify_content": null,
      "justify_items": null,
      "left": null,
      "margin": null,
      "max_height": null,
      "max_width": null,
      "min_height": null,
      "min_width": null,
      "object_fit": null,
      "object_position": null,
      "order": null,
      "overflow": null,
      "overflow_x": null,
      "overflow_y": null,
      "padding": null,
      "right": null,
      "top": null,
      "visibility": null,
      "width": null
     }
    },
    "8ef696ba34a74148a561fabe6f49dbd2": {
     "model_module": "@jupyter-widgets/base",
     "model_module_version": "1.2.0",
     "model_name": "LayoutModel",
     "state": {
      "_model_module": "@jupyter-widgets/base",
      "_model_module_version": "1.2.0",
      "_model_name": "LayoutModel",
      "_view_count": null,
      "_view_module": "@jupyter-widgets/base",
      "_view_module_version": "1.2.0",
      "_view_name": "LayoutView",
      "align_content": null,
      "align_items": null,
      "align_self": null,
      "border": null,
      "bottom": null,
      "display": null,
      "flex": null,
      "flex_flow": null,
      "grid_area": null,
      "grid_auto_columns": null,
      "grid_auto_flow": null,
      "grid_auto_rows": null,
      "grid_column": null,
      "grid_gap": null,
      "grid_row": null,
      "grid_template_areas": null,
      "grid_template_columns": null,
      "grid_template_rows": null,
      "height": null,
      "justify_content": null,
      "justify_items": null,
      "left": null,
      "margin": null,
      "max_height": null,
      "max_width": null,
      "min_height": null,
      "min_width": null,
      "object_fit": null,
      "object_position": null,
      "order": null,
      "overflow": null,
      "overflow_x": null,
      "overflow_y": null,
      "padding": null,
      "right": null,
      "top": null,
      "visibility": null,
      "width": null
     }
    },
    "920b211ca0034f32a96eae16ce5add73": {
     "model_module": "@jupyter-widgets/controls",
     "model_module_version": "1.5.0",
     "model_name": "HBoxModel",
     "state": {
      "_dom_classes": [],
      "_model_module": "@jupyter-widgets/controls",
      "_model_module_version": "1.5.0",
      "_model_name": "HBoxModel",
      "_view_count": null,
      "_view_module": "@jupyter-widgets/controls",
      "_view_module_version": "1.5.0",
      "_view_name": "HBoxView",
      "box_style": "",
      "children": [
       "IPY_MODEL_34ad2d6d296a4c4497a75513b8702db4",
       "IPY_MODEL_d9baed3e5c93439ebf28992e86442f88",
       "IPY_MODEL_ed3bdfec55f14cf3a229da7dcf08e292"
      ],
      "layout": "IPY_MODEL_0d8625f340514b9f9f68289884e24375"
     }
    },
    "95e647dab76544fdab9b24470c1d44c9": {
     "model_module": "@jupyter-widgets/base",
     "model_module_version": "1.2.0",
     "model_name": "LayoutModel",
     "state": {
      "_model_module": "@jupyter-widgets/base",
      "_model_module_version": "1.2.0",
      "_model_name": "LayoutModel",
      "_view_count": null,
      "_view_module": "@jupyter-widgets/base",
      "_view_module_version": "1.2.0",
      "_view_name": "LayoutView",
      "align_content": null,
      "align_items": null,
      "align_self": null,
      "border": null,
      "bottom": null,
      "display": null,
      "flex": null,
      "flex_flow": null,
      "grid_area": null,
      "grid_auto_columns": null,
      "grid_auto_flow": null,
      "grid_auto_rows": null,
      "grid_column": null,
      "grid_gap": null,
      "grid_row": null,
      "grid_template_areas": null,
      "grid_template_columns": null,
      "grid_template_rows": null,
      "height": null,
      "justify_content": null,
      "justify_items": null,
      "left": null,
      "margin": null,
      "max_height": null,
      "max_width": null,
      "min_height": null,
      "min_width": null,
      "object_fit": null,
      "object_position": null,
      "order": null,
      "overflow": null,
      "overflow_x": null,
      "overflow_y": null,
      "padding": null,
      "right": null,
      "top": null,
      "visibility": null,
      "width": null
     }
    },
    "9d6a2a386ae547069f910389c3fd4e88": {
     "model_module": "@jupyter-widgets/base",
     "model_module_version": "1.2.0",
     "model_name": "LayoutModel",
     "state": {
      "_model_module": "@jupyter-widgets/base",
      "_model_module_version": "1.2.0",
      "_model_name": "LayoutModel",
      "_view_count": null,
      "_view_module": "@jupyter-widgets/base",
      "_view_module_version": "1.2.0",
      "_view_name": "LayoutView",
      "align_content": null,
      "align_items": null,
      "align_self": null,
      "border": null,
      "bottom": null,
      "display": null,
      "flex": null,
      "flex_flow": null,
      "grid_area": null,
      "grid_auto_columns": null,
      "grid_auto_flow": null,
      "grid_auto_rows": null,
      "grid_column": null,
      "grid_gap": null,
      "grid_row": null,
      "grid_template_areas": null,
      "grid_template_columns": null,
      "grid_template_rows": null,
      "height": null,
      "justify_content": null,
      "justify_items": null,
      "left": null,
      "margin": null,
      "max_height": null,
      "max_width": null,
      "min_height": null,
      "min_width": null,
      "object_fit": null,
      "object_position": null,
      "order": null,
      "overflow": null,
      "overflow_x": null,
      "overflow_y": null,
      "padding": null,
      "right": null,
      "top": null,
      "visibility": null,
      "width": null
     }
    },
    "a11fe9e2d4b34fa596116bad056bb709": {
     "model_module": "@jupyter-widgets/controls",
     "model_module_version": "1.5.0",
     "model_name": "HBoxModel",
     "state": {
      "_dom_classes": [],
      "_model_module": "@jupyter-widgets/controls",
      "_model_module_version": "1.5.0",
      "_model_name": "HBoxModel",
      "_view_count": null,
      "_view_module": "@jupyter-widgets/controls",
      "_view_module_version": "1.5.0",
      "_view_name": "HBoxView",
      "box_style": "",
      "children": [
       "IPY_MODEL_f8d088d64791472fa802bf6d068f6911",
       "IPY_MODEL_0756e5c808ea4385a4d274ae6729baaf",
       "IPY_MODEL_adbdd39bfc6040a7a6419e1240262c24"
      ],
      "layout": "IPY_MODEL_95e647dab76544fdab9b24470c1d44c9"
     }
    },
    "a6c719232fad4b3bb18653f4006ff17a": {
     "model_module": "@jupyter-widgets/controls",
     "model_module_version": "1.5.0",
     "model_name": "DescriptionStyleModel",
     "state": {
      "_model_module": "@jupyter-widgets/controls",
      "_model_module_version": "1.5.0",
      "_model_name": "DescriptionStyleModel",
      "_view_count": null,
      "_view_module": "@jupyter-widgets/base",
      "_view_module_version": "1.2.0",
      "_view_name": "StyleView",
      "description_width": ""
     }
    },
    "ac021477bf9a427ab202508c91cb1262": {
     "model_module": "@jupyter-widgets/controls",
     "model_module_version": "1.5.0",
     "model_name": "ProgressStyleModel",
     "state": {
      "_model_module": "@jupyter-widgets/controls",
      "_model_module_version": "1.5.0",
      "_model_name": "ProgressStyleModel",
      "_view_count": null,
      "_view_module": "@jupyter-widgets/base",
      "_view_module_version": "1.2.0",
      "_view_name": "StyleView",
      "bar_color": null,
      "description_width": ""
     }
    },
    "adabc2f428eb4abb9a385ba933bf3933": {
     "model_module": "@jupyter-widgets/base",
     "model_module_version": "1.2.0",
     "model_name": "LayoutModel",
     "state": {
      "_model_module": "@jupyter-widgets/base",
      "_model_module_version": "1.2.0",
      "_model_name": "LayoutModel",
      "_view_count": null,
      "_view_module": "@jupyter-widgets/base",
      "_view_module_version": "1.2.0",
      "_view_name": "LayoutView",
      "align_content": null,
      "align_items": null,
      "align_self": null,
      "border": null,
      "bottom": null,
      "display": null,
      "flex": null,
      "flex_flow": null,
      "grid_area": null,
      "grid_auto_columns": null,
      "grid_auto_flow": null,
      "grid_auto_rows": null,
      "grid_column": null,
      "grid_gap": null,
      "grid_row": null,
      "grid_template_areas": null,
      "grid_template_columns": null,
      "grid_template_rows": null,
      "height": null,
      "justify_content": null,
      "justify_items": null,
      "left": null,
      "margin": null,
      "max_height": null,
      "max_width": null,
      "min_height": null,
      "min_width": null,
      "object_fit": null,
      "object_position": null,
      "order": null,
      "overflow": null,
      "overflow_x": null,
      "overflow_y": null,
      "padding": null,
      "right": null,
      "top": null,
      "visibility": null,
      "width": null
     }
    },
    "adbdd39bfc6040a7a6419e1240262c24": {
     "model_module": "@jupyter-widgets/controls",
     "model_module_version": "1.5.0",
     "model_name": "HTMLModel",
     "state": {
      "_dom_classes": [],
      "_model_module": "@jupyter-widgets/controls",
      "_model_module_version": "1.5.0",
      "_model_name": "HTMLModel",
      "_view_count": null,
      "_view_module": "@jupyter-widgets/controls",
      "_view_module_version": "1.5.0",
      "_view_name": "HTMLView",
      "description": "",
      "description_tooltip": null,
      "layout": "IPY_MODEL_e9ca0cf3fb514202b9e27aa9faf73431",
      "placeholder": "​",
      "style": "IPY_MODEL_215b31f3e07049e5af5d03345d2d4a09",
      "value": " 1/1 [00:00&lt;00:00, 109.53it/s]"
     }
    },
    "b7fe5cefa03e4d959399652ff5b22d8c": {
     "model_module": "@jupyter-widgets/base",
     "model_module_version": "1.2.0",
     "model_name": "LayoutModel",
     "state": {
      "_model_module": "@jupyter-widgets/base",
      "_model_module_version": "1.2.0",
      "_model_name": "LayoutModel",
      "_view_count": null,
      "_view_module": "@jupyter-widgets/base",
      "_view_module_version": "1.2.0",
      "_view_name": "LayoutView",
      "align_content": null,
      "align_items": null,
      "align_self": null,
      "border": null,
      "bottom": null,
      "display": null,
      "flex": null,
      "flex_flow": null,
      "grid_area": null,
      "grid_auto_columns": null,
      "grid_auto_flow": null,
      "grid_auto_rows": null,
      "grid_column": null,
      "grid_gap": null,
      "grid_row": null,
      "grid_template_areas": null,
      "grid_template_columns": null,
      "grid_template_rows": null,
      "height": null,
      "justify_content": null,
      "justify_items": null,
      "left": null,
      "margin": null,
      "max_height": null,
      "max_width": null,
      "min_height": null,
      "min_width": null,
      "object_fit": null,
      "object_position": null,
      "order": null,
      "overflow": null,
      "overflow_x": null,
      "overflow_y": null,
      "padding": null,
      "right": null,
      "top": null,
      "visibility": null,
      "width": null
     }
    },
    "bdd6a5861950450c95a24e244eade01c": {
     "model_module": "@jupyter-widgets/controls",
     "model_module_version": "1.5.0",
     "model_name": "ProgressStyleModel",
     "state": {
      "_model_module": "@jupyter-widgets/controls",
      "_model_module_version": "1.5.0",
      "_model_name": "ProgressStyleModel",
      "_view_count": null,
      "_view_module": "@jupyter-widgets/base",
      "_view_module_version": "1.2.0",
      "_view_name": "StyleView",
      "bar_color": null,
      "description_width": ""
     }
    },
    "c279e8f4247c479fbd13982622773e44": {
     "model_module": "@jupyter-widgets/controls",
     "model_module_version": "1.5.0",
     "model_name": "ProgressStyleModel",
     "state": {
      "_model_module": "@jupyter-widgets/controls",
      "_model_module_version": "1.5.0",
      "_model_name": "ProgressStyleModel",
      "_view_count": null,
      "_view_module": "@jupyter-widgets/base",
      "_view_module_version": "1.2.0",
      "_view_name": "StyleView",
      "bar_color": null,
      "description_width": ""
     }
    },
    "c4134b55f7794c77a7f083b5d65520ef": {
     "model_module": "@jupyter-widgets/controls",
     "model_module_version": "1.5.0",
     "model_name": "FloatProgressModel",
     "state": {
      "_dom_classes": [],
      "_model_module": "@jupyter-widgets/controls",
      "_model_module_version": "1.5.0",
      "_model_name": "FloatProgressModel",
      "_view_count": null,
      "_view_module": "@jupyter-widgets/controls",
      "_view_module_version": "1.5.0",
      "_view_name": "ProgressView",
      "bar_style": "success",
      "description": "",
      "description_tooltip": null,
      "layout": "IPY_MODEL_efaa8cc69bbb476187fd3626cc6fa705",
      "max": 1,
      "min": 0,
      "orientation": "horizontal",
      "style": "IPY_MODEL_f0a1c7768b2a4365a12e0e57744d6597",
      "value": 1
     }
    },
    "d92ae36da18747fc9e298f8d0d29dc7e": {
     "model_module": "@jupyter-widgets/controls",
     "model_module_version": "1.5.0",
     "model_name": "HTMLModel",
     "state": {
      "_dom_classes": [],
      "_model_module": "@jupyter-widgets/controls",
      "_model_module_version": "1.5.0",
      "_model_name": "HTMLModel",
      "_view_count": null,
      "_view_module": "@jupyter-widgets/controls",
      "_view_module_version": "1.5.0",
      "_view_name": "HTMLView",
      "description": "",
      "description_tooltip": null,
      "layout": "IPY_MODEL_032c07d391344acc9d626067c23c469e",
      "placeholder": "​",
      "style": "IPY_MODEL_5e3b056ae3ed4ceb88c0528402a0e01b",
      "value": " 1/1 [00:00&lt;00:00, 73.58it/s]"
     }
    },
    "d9baed3e5c93439ebf28992e86442f88": {
     "model_module": "@jupyter-widgets/controls",
     "model_module_version": "1.5.0",
     "model_name": "FloatProgressModel",
     "state": {
      "_dom_classes": [],
      "_model_module": "@jupyter-widgets/controls",
      "_model_module_version": "1.5.0",
      "_model_name": "FloatProgressModel",
      "_view_count": null,
      "_view_module": "@jupyter-widgets/controls",
      "_view_module_version": "1.5.0",
      "_view_name": "ProgressView",
      "bar_style": "success",
      "description": "",
      "description_tooltip": null,
      "layout": "IPY_MODEL_8ef696ba34a74148a561fabe6f49dbd2",
      "max": 1,
      "min": 0,
      "orientation": "horizontal",
      "style": "IPY_MODEL_c279e8f4247c479fbd13982622773e44",
      "value": 1
     }
    },
    "db776c42290b41cdb37f14830f28a831": {
     "model_module": "@jupyter-widgets/controls",
     "model_module_version": "1.5.0",
     "model_name": "HTMLModel",
     "state": {
      "_dom_classes": [],
      "_model_module": "@jupyter-widgets/controls",
      "_model_module_version": "1.5.0",
      "_model_name": "HTMLModel",
      "_view_count": null,
      "_view_module": "@jupyter-widgets/controls",
      "_view_module_version": "1.5.0",
      "_view_name": "HTMLView",
      "description": "",
      "description_tooltip": null,
      "layout": "IPY_MODEL_e3d979f4893f433ba8eae4915e1ec9e4",
      "placeholder": "​",
      "style": "IPY_MODEL_ee29fa89e4e14ee492c308cf8d50c0bd",
      "value": "Fetching 1 files: 100%"
     }
    },
    "e3d979f4893f433ba8eae4915e1ec9e4": {
     "model_module": "@jupyter-widgets/base",
     "model_module_version": "1.2.0",
     "model_name": "LayoutModel",
     "state": {
      "_model_module": "@jupyter-widgets/base",
      "_model_module_version": "1.2.0",
      "_model_name": "LayoutModel",
      "_view_count": null,
      "_view_module": "@jupyter-widgets/base",
      "_view_module_version": "1.2.0",
      "_view_name": "LayoutView",
      "align_content": null,
      "align_items": null,
      "align_self": null,
      "border": null,
      "bottom": null,
      "display": null,
      "flex": null,
      "flex_flow": null,
      "grid_area": null,
      "grid_auto_columns": null,
      "grid_auto_flow": null,
      "grid_auto_rows": null,
      "grid_column": null,
      "grid_gap": null,
      "grid_row": null,
      "grid_template_areas": null,
      "grid_template_columns": null,
      "grid_template_rows": null,
      "height": null,
      "justify_content": null,
      "justify_items": null,
      "left": null,
      "margin": null,
      "max_height": null,
      "max_width": null,
      "min_height": null,
      "min_width": null,
      "object_fit": null,
      "object_position": null,
      "order": null,
      "overflow": null,
      "overflow_x": null,
      "overflow_y": null,
      "padding": null,
      "right": null,
      "top": null,
      "visibility": null,
      "width": null
     }
    },
    "e9ca0cf3fb514202b9e27aa9faf73431": {
     "model_module": "@jupyter-widgets/base",
     "model_module_version": "1.2.0",
     "model_name": "LayoutModel",
     "state": {
      "_model_module": "@jupyter-widgets/base",
      "_model_module_version": "1.2.0",
      "_model_name": "LayoutModel",
      "_view_count": null,
      "_view_module": "@jupyter-widgets/base",
      "_view_module_version": "1.2.0",
      "_view_name": "LayoutView",
      "align_content": null,
      "align_items": null,
      "align_self": null,
      "border": null,
      "bottom": null,
      "display": null,
      "flex": null,
      "flex_flow": null,
      "grid_area": null,
      "grid_auto_columns": null,
      "grid_auto_flow": null,
      "grid_auto_rows": null,
      "grid_column": null,
      "grid_gap": null,
      "grid_row": null,
      "grid_template_areas": null,
      "grid_template_columns": null,
      "grid_template_rows": null,
      "height": null,
      "justify_content": null,
      "justify_items": null,
      "left": null,
      "margin": null,
      "max_height": null,
      "max_width": null,
      "min_height": null,
      "min_width": null,
      "object_fit": null,
      "object_position": null,
      "order": null,
      "overflow": null,
      "overflow_x": null,
      "overflow_y": null,
      "padding": null,
      "right": null,
      "top": null,
      "visibility": null,
      "width": null
     }
    },
    "ed3bdfec55f14cf3a229da7dcf08e292": {
     "model_module": "@jupyter-widgets/controls",
     "model_module_version": "1.5.0",
     "model_name": "HTMLModel",
     "state": {
      "_dom_classes": [],
      "_model_module": "@jupyter-widgets/controls",
      "_model_module_version": "1.5.0",
      "_model_name": "HTMLModel",
      "_view_count": null,
      "_view_module": "@jupyter-widgets/controls",
      "_view_module_version": "1.5.0",
      "_view_name": "HTMLView",
      "description": "",
      "description_tooltip": null,
      "layout": "IPY_MODEL_02741ad3a6a94f60ad49d21d75b82f70",
      "placeholder": "​",
      "style": "IPY_MODEL_60da7372d0e641688d16afe9c62e55ca",
      "value": " 1/1 [00:00&lt;00:00, 123.53it/s]"
     }
    },
    "ee29fa89e4e14ee492c308cf8d50c0bd": {
     "model_module": "@jupyter-widgets/controls",
     "model_module_version": "1.5.0",
     "model_name": "DescriptionStyleModel",
     "state": {
      "_model_module": "@jupyter-widgets/controls",
      "_model_module_version": "1.5.0",
      "_model_name": "DescriptionStyleModel",
      "_view_count": null,
      "_view_module": "@jupyter-widgets/base",
      "_view_module_version": "1.2.0",
      "_view_name": "StyleView",
      "description_width": ""
     }
    },
    "eecc43467b8742c686f84bab3ae0a465": {
     "model_module": "@jupyter-widgets/controls",
     "model_module_version": "1.5.0",
     "model_name": "FloatProgressModel",
     "state": {
      "_dom_classes": [],
      "_model_module": "@jupyter-widgets/controls",
      "_model_module_version": "1.5.0",
      "_model_name": "FloatProgressModel",
      "_view_count": null,
      "_view_module": "@jupyter-widgets/controls",
      "_view_module_version": "1.5.0",
      "_view_name": "ProgressView",
      "bar_style": "success",
      "description": "",
      "description_tooltip": null,
      "layout": "IPY_MODEL_adabc2f428eb4abb9a385ba933bf3933",
      "max": 1,
      "min": 0,
      "orientation": "horizontal",
      "style": "IPY_MODEL_bdd6a5861950450c95a24e244eade01c",
      "value": 1
     }
    },
    "efaa8cc69bbb476187fd3626cc6fa705": {
     "model_module": "@jupyter-widgets/base",
     "model_module_version": "1.2.0",
     "model_name": "LayoutModel",
     "state": {
      "_model_module": "@jupyter-widgets/base",
      "_model_module_version": "1.2.0",
      "_model_name": "LayoutModel",
      "_view_count": null,
      "_view_module": "@jupyter-widgets/base",
      "_view_module_version": "1.2.0",
      "_view_name": "LayoutView",
      "align_content": null,
      "align_items": null,
      "align_self": null,
      "border": null,
      "bottom": null,
      "display": null,
      "flex": null,
      "flex_flow": null,
      "grid_area": null,
      "grid_auto_columns": null,
      "grid_auto_flow": null,
      "grid_auto_rows": null,
      "grid_column": null,
      "grid_gap": null,
      "grid_row": null,
      "grid_template_areas": null,
      "grid_template_columns": null,
      "grid_template_rows": null,
      "height": null,
      "justify_content": null,
      "justify_items": null,
      "left": null,
      "margin": null,
      "max_height": null,
      "max_width": null,
      "min_height": null,
      "min_width": null,
      "object_fit": null,
      "object_position": null,
      "order": null,
      "overflow": null,
      "overflow_x": null,
      "overflow_y": null,
      "padding": null,
      "right": null,
      "top": null,
      "visibility": null,
      "width": null
     }
    },
    "f0a1c7768b2a4365a12e0e57744d6597": {
     "model_module": "@jupyter-widgets/controls",
     "model_module_version": "1.5.0",
     "model_name": "ProgressStyleModel",
     "state": {
      "_model_module": "@jupyter-widgets/controls",
      "_model_module_version": "1.5.0",
      "_model_name": "ProgressStyleModel",
      "_view_count": null,
      "_view_module": "@jupyter-widgets/base",
      "_view_module_version": "1.2.0",
      "_view_name": "StyleView",
      "bar_color": null,
      "description_width": ""
     }
    },
    "f4d9050dcded409a9f6cbecd935fa3dd": {
     "model_module": "@jupyter-widgets/base",
     "model_module_version": "1.2.0",
     "model_name": "LayoutModel",
     "state": {
      "_model_module": "@jupyter-widgets/base",
      "_model_module_version": "1.2.0",
      "_model_name": "LayoutModel",
      "_view_count": null,
      "_view_module": "@jupyter-widgets/base",
      "_view_module_version": "1.2.0",
      "_view_name": "LayoutView",
      "align_content": null,
      "align_items": null,
      "align_self": null,
      "border": null,
      "bottom": null,
      "display": null,
      "flex": null,
      "flex_flow": null,
      "grid_area": null,
      "grid_auto_columns": null,
      "grid_auto_flow": null,
      "grid_auto_rows": null,
      "grid_column": null,
      "grid_gap": null,
      "grid_row": null,
      "grid_template_areas": null,
      "grid_template_columns": null,
      "grid_template_rows": null,
      "height": null,
      "justify_content": null,
      "justify_items": null,
      "left": null,
      "margin": null,
      "max_height": null,
      "max_width": null,
      "min_height": null,
      "min_width": null,
      "object_fit": null,
      "object_position": null,
      "order": null,
      "overflow": null,
      "overflow_x": null,
      "overflow_y": null,
      "padding": null,
      "right": null,
      "top": null,
      "visibility": null,
      "width": null
     }
    },
    "f8d088d64791472fa802bf6d068f6911": {
     "model_module": "@jupyter-widgets/controls",
     "model_module_version": "1.5.0",
     "model_name": "HTMLModel",
     "state": {
      "_dom_classes": [],
      "_model_module": "@jupyter-widgets/controls",
      "_model_module_version": "1.5.0",
      "_model_name": "HTMLModel",
      "_view_count": null,
      "_view_module": "@jupyter-widgets/controls",
      "_view_module_version": "1.5.0",
      "_view_name": "HTMLView",
      "description": "",
      "description_tooltip": null,
      "layout": "IPY_MODEL_b7fe5cefa03e4d959399652ff5b22d8c",
      "placeholder": "​",
      "style": "IPY_MODEL_1aa415bc12b44daa8d14e0a746d47742",
      "value": "Fetching 1 files: 100%"
     }
    },
    "f9011e75af1945dfb2da250fecbfc851": {
     "model_module": "@jupyter-widgets/controls",
     "model_module_version": "1.5.0",
     "model_name": "DescriptionStyleModel",
     "state": {
      "_model_module": "@jupyter-widgets/controls",
      "_model_module_version": "1.5.0",
      "_model_name": "DescriptionStyleModel",
      "_view_count": null,
      "_view_module": "@jupyter-widgets/base",
      "_view_module_version": "1.2.0",
      "_view_name": "StyleView",
      "description_width": ""
     }
    }
   }
  }
 },
 "nbformat": 4,
 "nbformat_minor": 5
}
