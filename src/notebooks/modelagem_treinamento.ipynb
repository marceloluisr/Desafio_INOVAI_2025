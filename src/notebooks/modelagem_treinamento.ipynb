{
 "cells": [
  {
   "cell_type": "markdown",
   "id": "ukwsoNYNMce7",
   "metadata": {
    "id": "ukwsoNYNMce7"
   },
   "source": [
    "# Notebook de Modelagem e Treinamento\n",
    "\n",
    "\n",
    "- Objetivo: Responsável por carregar os dados e realizar o treinamento dos Regressores. Adicionalmente, avalia a qualidade dos pontos chaves gerados dos métodos de Detecção de Pontos Chaves."
   ]
  },
  {
   "cell_type": "markdown",
   "id": "8JqmiXD325SV",
   "metadata": {
    "id": "8JqmiXD325SV"
   },
   "source": [
    "Vamos clonar o repositório com o código fonte do projeto\n",
    "\n",
    "---\n",
    "\n"
   ]
  },
  {
   "cell_type": "code",
   "execution_count": 1,
   "id": "kxdMs60lCkCb",
   "metadata": {
    "colab": {
     "base_uri": "https://localhost:8080/"
    },
    "id": "kxdMs60lCkCb",
    "outputId": "c254ff13-dd9f-4f08-cca8-1cb44350a14e"
   },
   "outputs": [
    {
     "name": "stdout",
     "output_type": "stream",
     "text": [
      "Cloning into 'deteccao_pontos_chaves'...\n",
      "remote: Enumerating objects: 124, done.\u001b[K\n",
      "remote: Counting objects: 100% (3/3), done.\u001b[K\n",
      "remote: Compressing objects: 100% (3/3), done.\u001b[K\n",
      "remote: Total 124 (delta 0), reused 2 (delta 0), pack-reused 121 (from 1)\u001b[K\n",
      "Receiving objects: 100% (124/124), 33.00 MiB | 24.99 MiB/s, done.\n",
      "Resolving deltas: 100% (45/45), done.\n"
     ]
    }
   ],
   "source": [
    "!git clone  https://github.com/marceloluisr/Desafio_INOVAI_2025.git"
   ]
  },
  {
   "cell_type": "code",
   "execution_count": 12,
   "id": "GDTECp853BTd",
   "metadata": {
    "id": "GDTECp853BTd"
   },
   "outputs": [],
   "source": [
    "USE_COLAB = True  # ou Falso dependendo do ambiente."
   ]
  },
  {
   "cell_type": "markdown",
   "id": "bTDMIHs0ZXpB",
   "metadata": {
    "id": "bTDMIHs0ZXpB"
   },
   "source": [
    "Vamos montar o drive no ambiente de execução para acessar o dados. IMPORTANTE:\n",
    "a montagem do drive requer permitir acesso do Google Colab para o drive e os dados devem estar disponíveis.\n"
   ]
  },
  {
   "cell_type": "code",
   "execution_count": 13,
   "id": "82c638bb-9143-4f06-826a-11cb685bfdc3",
   "metadata": {
    "colab": {
     "base_uri": "https://localhost:8080/"
    },
    "id": "82c638bb-9143-4f06-826a-11cb685bfdc3",
    "outputId": "6e49b8fc-7af6-4512-9953-41bb79538beb"
   },
   "outputs": [
    {
     "name": "stdout",
     "output_type": "stream",
     "text": [
      "Mounted at /content/drive\n"
     ]
    }
   ],
   "source": [
    "if USE_COLAB:\n",
    "  # montando google drive no ambiente para acessar dataset\n",
    "  from google.colab import drive\n",
    "  drive.mount('/content/drive')"
   ]
  },
  {
   "cell_type": "code",
   "execution_count": 5,
   "id": "g4dmukalYtye",
   "metadata": {
    "id": "g4dmukalYtye"
   },
   "outputs": [],
   "source": [
    "import sys\n",
    "\n",
    "codigo_base_path = \"/content/Desafio_INOVAI_2025/src\" # [ALTERE AQUI COM O PATH DO CÓDIGO CLONADO]\n",
    "\n",
    "\n",
    "# isso permite o import do módulos do código fonte no jupyter notebook\n",
    "sys.path.append(codigo_base_path)\n",
    "# para remover descomente  o bloco de código linha abaixo\n",
    "# if codigo_base_path in sys.path:\n",
    "#     sys.path.remove(codigo_base_path)"
   ]
  },
  {
   "cell_type": "markdown",
   "id": "X0xCMm45aUSP",
   "metadata": {
    "id": "X0xCMm45aUSP"
   },
   "source": [
    "IMPORTANTE APENAS SE VOCÊ NÃO ESTIVER NO GOOGLE COLAB: antes de prosseguir, recomendo executar esse notebook dentro de um ambiente conda ou pyenv."
   ]
  },
  {
   "cell_type": "code",
   "execution_count": 7,
   "id": "-VBR8ArHbqRT",
   "metadata": {
    "colab": {
     "base_uri": "https://localhost:8080/",
     "height": 1000
    },
    "id": "-VBR8ArHbqRT",
    "outputId": "af1611f2-53c5-4240-ec49-3d2de9d64f7d"
   },
   "outputs": [
    {
     "name": "stdout",
     "output_type": "stream",
     "text": [
      "Collecting protobuf==4.25.3 (from -r /content/deteccao_pontos_chaves/requirements.txt (line 1))\n",
      "  Downloading protobuf-4.25.3-cp37-abi3-manylinux2014_x86_64.whl.metadata (541 bytes)\n",
      "Requirement already satisfied: numpy==1.26.4 in /usr/local/lib/python3.12/dist-packages (from -r /content/deteccao_pontos_chaves/requirements.txt (line 2)) (1.26.4)\n",
      "Requirement already satisfied: tqdm==4.67.1 in /usr/local/lib/python3.12/dist-packages (from -r /content/deteccao_pontos_chaves/requirements.txt (line 3)) (4.67.1)\n",
      "Requirement already satisfied: pandas==2.2.2 in /usr/local/lib/python3.12/dist-packages (from -r /content/deteccao_pontos_chaves/requirements.txt (line 4)) (2.2.2)\n",
      "Requirement already satisfied: Pillow==11.3.0 in /usr/local/lib/python3.12/dist-packages (from -r /content/deteccao_pontos_chaves/requirements.txt (line 5)) (11.3.0)\n",
      "Requirement already satisfied: scikit-image==0.25.2 in /usr/local/lib/python3.12/dist-packages (from -r /content/deteccao_pontos_chaves/requirements.txt (line 6)) (0.25.2)\n",
      "Requirement already satisfied: torch==2.8.0+cu126 in /usr/local/lib/python3.12/dist-packages (from -r /content/deteccao_pontos_chaves/requirements.txt (line 7)) (2.8.0+cu126)\n",
      "Requirement already satisfied: torchvision==0.23.0+cu126 in /usr/local/lib/python3.12/dist-packages (from -r /content/deteccao_pontos_chaves/requirements.txt (line 8)) (0.23.0+cu126)\n",
      "Requirement already satisfied: scikit-learn==1.6.1 in /usr/local/lib/python3.12/dist-packages (from -r /content/deteccao_pontos_chaves/requirements.txt (line 9)) (1.6.1)\n",
      "Requirement already satisfied: joblib==1.5.2 in /usr/local/lib/python3.12/dist-packages (from -r /content/deteccao_pontos_chaves/requirements.txt (line 10)) (1.5.2)\n",
      "Requirement already satisfied: matplotlib==3.10.0 in /usr/local/lib/python3.12/dist-packages (from -r /content/deteccao_pontos_chaves/requirements.txt (line 11)) (3.10.0)\n",
      "Requirement already satisfied: opencv-python==4.11.0.86 in /usr/local/lib/python3.12/dist-packages (from -r /content/deteccao_pontos_chaves/requirements.txt (line 12)) (4.11.0.86)\n",
      "Requirement already satisfied: xgboost==3.0.5 in /usr/local/lib/python3.12/dist-packages (from -r /content/deteccao_pontos_chaves/requirements.txt (line 13)) (3.0.5)\n",
      "Requirement already satisfied: mediapipe==0.10.21 in /usr/local/lib/python3.12/dist-packages (from -r /content/deteccao_pontos_chaves/requirements.txt (line 14)) (0.10.21)\n",
      "Requirement already satisfied: rt-pose==0.0.3 in /usr/local/lib/python3.12/dist-packages (from -r /content/deteccao_pontos_chaves/requirements.txt (line 15)) (0.0.3)\n",
      "Requirement already satisfied: python-dateutil>=2.8.2 in /usr/local/lib/python3.12/dist-packages (from pandas==2.2.2->-r /content/deteccao_pontos_chaves/requirements.txt (line 4)) (2.9.0.post0)\n",
      "Requirement already satisfied: pytz>=2020.1 in /usr/local/lib/python3.12/dist-packages (from pandas==2.2.2->-r /content/deteccao_pontos_chaves/requirements.txt (line 4)) (2025.2)\n",
      "Requirement already satisfied: tzdata>=2022.7 in /usr/local/lib/python3.12/dist-packages (from pandas==2.2.2->-r /content/deteccao_pontos_chaves/requirements.txt (line 4)) (2025.2)\n",
      "Requirement already satisfied: scipy>=1.11.4 in /usr/local/lib/python3.12/dist-packages (from scikit-image==0.25.2->-r /content/deteccao_pontos_chaves/requirements.txt (line 6)) (1.16.2)\n",
      "Requirement already satisfied: networkx>=3.0 in /usr/local/lib/python3.12/dist-packages (from scikit-image==0.25.2->-r /content/deteccao_pontos_chaves/requirements.txt (line 6)) (3.5)\n",
      "Requirement already satisfied: imageio!=2.35.0,>=2.33 in /usr/local/lib/python3.12/dist-packages (from scikit-image==0.25.2->-r /content/deteccao_pontos_chaves/requirements.txt (line 6)) (2.37.0)\n",
      "Requirement already satisfied: tifffile>=2022.8.12 in /usr/local/lib/python3.12/dist-packages (from scikit-image==0.25.2->-r /content/deteccao_pontos_chaves/requirements.txt (line 6)) (2025.9.9)\n",
      "Requirement already satisfied: packaging>=21 in /usr/local/lib/python3.12/dist-packages (from scikit-image==0.25.2->-r /content/deteccao_pontos_chaves/requirements.txt (line 6)) (25.0)\n",
      "Requirement already satisfied: lazy-loader>=0.4 in /usr/local/lib/python3.12/dist-packages (from scikit-image==0.25.2->-r /content/deteccao_pontos_chaves/requirements.txt (line 6)) (0.4)\n",
      "Requirement already satisfied: filelock in /usr/local/lib/python3.12/dist-packages (from torch==2.8.0+cu126->-r /content/deteccao_pontos_chaves/requirements.txt (line 7)) (3.19.1)\n",
      "Requirement already satisfied: typing-extensions>=4.10.0 in /usr/local/lib/python3.12/dist-packages (from torch==2.8.0+cu126->-r /content/deteccao_pontos_chaves/requirements.txt (line 7)) (4.15.0)\n",
      "Requirement already satisfied: setuptools in /usr/local/lib/python3.12/dist-packages (from torch==2.8.0+cu126->-r /content/deteccao_pontos_chaves/requirements.txt (line 7)) (75.2.0)\n",
      "Requirement already satisfied: sympy>=1.13.3 in /usr/local/lib/python3.12/dist-packages (from torch==2.8.0+cu126->-r /content/deteccao_pontos_chaves/requirements.txt (line 7)) (1.13.3)\n",
      "Requirement already satisfied: jinja2 in /usr/local/lib/python3.12/dist-packages (from torch==2.8.0+cu126->-r /content/deteccao_pontos_chaves/requirements.txt (line 7)) (3.1.6)\n",
      "Requirement already satisfied: fsspec in /usr/local/lib/python3.12/dist-packages (from torch==2.8.0+cu126->-r /content/deteccao_pontos_chaves/requirements.txt (line 7)) (2025.3.0)\n",
      "Requirement already satisfied: nvidia-cuda-nvrtc-cu12==12.6.77 in /usr/local/lib/python3.12/dist-packages (from torch==2.8.0+cu126->-r /content/deteccao_pontos_chaves/requirements.txt (line 7)) (12.6.77)\n",
      "Requirement already satisfied: nvidia-cuda-runtime-cu12==12.6.77 in /usr/local/lib/python3.12/dist-packages (from torch==2.8.0+cu126->-r /content/deteccao_pontos_chaves/requirements.txt (line 7)) (12.6.77)\n",
      "Requirement already satisfied: nvidia-cuda-cupti-cu12==12.6.80 in /usr/local/lib/python3.12/dist-packages (from torch==2.8.0+cu126->-r /content/deteccao_pontos_chaves/requirements.txt (line 7)) (12.6.80)\n",
      "Requirement already satisfied: nvidia-cudnn-cu12==9.10.2.21 in /usr/local/lib/python3.12/dist-packages (from torch==2.8.0+cu126->-r /content/deteccao_pontos_chaves/requirements.txt (line 7)) (9.10.2.21)\n",
      "Requirement already satisfied: nvidia-cublas-cu12==12.6.4.1 in /usr/local/lib/python3.12/dist-packages (from torch==2.8.0+cu126->-r /content/deteccao_pontos_chaves/requirements.txt (line 7)) (12.6.4.1)\n",
      "Requirement already satisfied: nvidia-cufft-cu12==11.3.0.4 in /usr/local/lib/python3.12/dist-packages (from torch==2.8.0+cu126->-r /content/deteccao_pontos_chaves/requirements.txt (line 7)) (11.3.0.4)\n",
      "Requirement already satisfied: nvidia-curand-cu12==10.3.7.77 in /usr/local/lib/python3.12/dist-packages (from torch==2.8.0+cu126->-r /content/deteccao_pontos_chaves/requirements.txt (line 7)) (10.3.7.77)\n",
      "Requirement already satisfied: nvidia-cusolver-cu12==11.7.1.2 in /usr/local/lib/python3.12/dist-packages (from torch==2.8.0+cu126->-r /content/deteccao_pontos_chaves/requirements.txt (line 7)) (11.7.1.2)\n",
      "Requirement already satisfied: nvidia-cusparse-cu12==12.5.4.2 in /usr/local/lib/python3.12/dist-packages (from torch==2.8.0+cu126->-r /content/deteccao_pontos_chaves/requirements.txt (line 7)) (12.5.4.2)\n",
      "Requirement already satisfied: nvidia-cusparselt-cu12==0.7.1 in /usr/local/lib/python3.12/dist-packages (from torch==2.8.0+cu126->-r /content/deteccao_pontos_chaves/requirements.txt (line 7)) (0.7.1)\n",
      "Requirement already satisfied: nvidia-nccl-cu12==2.27.3 in /usr/local/lib/python3.12/dist-packages (from torch==2.8.0+cu126->-r /content/deteccao_pontos_chaves/requirements.txt (line 7)) (2.27.3)\n",
      "Requirement already satisfied: nvidia-nvtx-cu12==12.6.77 in /usr/local/lib/python3.12/dist-packages (from torch==2.8.0+cu126->-r /content/deteccao_pontos_chaves/requirements.txt (line 7)) (12.6.77)\n",
      "Requirement already satisfied: nvidia-nvjitlink-cu12==12.6.85 in /usr/local/lib/python3.12/dist-packages (from torch==2.8.0+cu126->-r /content/deteccao_pontos_chaves/requirements.txt (line 7)) (12.6.85)\n",
      "Requirement already satisfied: nvidia-cufile-cu12==1.11.1.6 in /usr/local/lib/python3.12/dist-packages (from torch==2.8.0+cu126->-r /content/deteccao_pontos_chaves/requirements.txt (line 7)) (1.11.1.6)\n",
      "Requirement already satisfied: triton==3.4.0 in /usr/local/lib/python3.12/dist-packages (from torch==2.8.0+cu126->-r /content/deteccao_pontos_chaves/requirements.txt (line 7)) (3.4.0)\n",
      "Requirement already satisfied: threadpoolctl>=3.1.0 in /usr/local/lib/python3.12/dist-packages (from scikit-learn==1.6.1->-r /content/deteccao_pontos_chaves/requirements.txt (line 9)) (3.6.0)\n",
      "Requirement already satisfied: contourpy>=1.0.1 in /usr/local/lib/python3.12/dist-packages (from matplotlib==3.10.0->-r /content/deteccao_pontos_chaves/requirements.txt (line 11)) (1.3.3)\n",
      "Requirement already satisfied: cycler>=0.10 in /usr/local/lib/python3.12/dist-packages (from matplotlib==3.10.0->-r /content/deteccao_pontos_chaves/requirements.txt (line 11)) (0.12.1)\n",
      "Requirement already satisfied: fonttools>=4.22.0 in /usr/local/lib/python3.12/dist-packages (from matplotlib==3.10.0->-r /content/deteccao_pontos_chaves/requirements.txt (line 11)) (4.60.0)\n",
      "Requirement already satisfied: kiwisolver>=1.3.1 in /usr/local/lib/python3.12/dist-packages (from matplotlib==3.10.0->-r /content/deteccao_pontos_chaves/requirements.txt (line 11)) (1.4.9)\n",
      "Requirement already satisfied: pyparsing>=2.3.1 in /usr/local/lib/python3.12/dist-packages (from matplotlib==3.10.0->-r /content/deteccao_pontos_chaves/requirements.txt (line 11)) (3.2.4)\n",
      "Requirement already satisfied: absl-py in /usr/local/lib/python3.12/dist-packages (from mediapipe==0.10.21->-r /content/deteccao_pontos_chaves/requirements.txt (line 14)) (1.4.0)\n",
      "Requirement already satisfied: attrs>=19.1.0 in /usr/local/lib/python3.12/dist-packages (from mediapipe==0.10.21->-r /content/deteccao_pontos_chaves/requirements.txt (line 14)) (25.3.0)\n",
      "Requirement already satisfied: flatbuffers>=2.0 in /usr/local/lib/python3.12/dist-packages (from mediapipe==0.10.21->-r /content/deteccao_pontos_chaves/requirements.txt (line 14)) (25.2.10)\n",
      "Requirement already satisfied: jax in /usr/local/lib/python3.12/dist-packages (from mediapipe==0.10.21->-r /content/deteccao_pontos_chaves/requirements.txt (line 14)) (0.5.3)\n",
      "Requirement already satisfied: jaxlib in /usr/local/lib/python3.12/dist-packages (from mediapipe==0.10.21->-r /content/deteccao_pontos_chaves/requirements.txt (line 14)) (0.5.3)\n",
      "Requirement already satisfied: opencv-contrib-python in /usr/local/lib/python3.12/dist-packages (from mediapipe==0.10.21->-r /content/deteccao_pontos_chaves/requirements.txt (line 14)) (4.11.0.86)\n",
      "Requirement already satisfied: sounddevice>=0.4.4 in /usr/local/lib/python3.12/dist-packages (from mediapipe==0.10.21->-r /content/deteccao_pontos_chaves/requirements.txt (line 14)) (0.5.2)\n",
      "Requirement already satisfied: sentencepiece in /usr/local/lib/python3.12/dist-packages (from mediapipe==0.10.21->-r /content/deteccao_pontos_chaves/requirements.txt (line 14)) (0.2.1)\n",
      "Requirement already satisfied: loguru in /usr/local/lib/python3.12/dist-packages (from rt-pose==0.0.3->-r /content/deteccao_pontos_chaves/requirements.txt (line 15)) (0.7.3)\n",
      "Requirement already satisfied: transformers>=4.48.0 in /usr/local/lib/python3.12/dist-packages (from transformers[vision]>=4.48.0->rt-pose==0.0.3->-r /content/deteccao_pontos_chaves/requirements.txt (line 15)) (4.56.1)\n",
      "Requirement already satisfied: six>=1.5 in /usr/local/lib/python3.12/dist-packages (from python-dateutil>=2.8.2->pandas==2.2.2->-r /content/deteccao_pontos_chaves/requirements.txt (line 4)) (1.17.0)\n",
      "Requirement already satisfied: CFFI>=1.0 in /usr/local/lib/python3.12/dist-packages (from sounddevice>=0.4.4->mediapipe==0.10.21->-r /content/deteccao_pontos_chaves/requirements.txt (line 14)) (2.0.0)\n",
      "Requirement already satisfied: mpmath<1.4,>=1.1.0 in /usr/local/lib/python3.12/dist-packages (from sympy>=1.13.3->torch==2.8.0+cu126->-r /content/deteccao_pontos_chaves/requirements.txt (line 7)) (1.3.0)\n",
      "Requirement already satisfied: huggingface-hub<1.0,>=0.34.0 in /usr/local/lib/python3.12/dist-packages (from transformers>=4.48.0->transformers[vision]>=4.48.0->rt-pose==0.0.3->-r /content/deteccao_pontos_chaves/requirements.txt (line 15)) (0.35.0)\n",
      "Requirement already satisfied: pyyaml>=5.1 in /usr/local/lib/python3.12/dist-packages (from transformers>=4.48.0->transformers[vision]>=4.48.0->rt-pose==0.0.3->-r /content/deteccao_pontos_chaves/requirements.txt (line 15)) (6.0.2)\n",
      "Requirement already satisfied: regex!=2019.12.17 in /usr/local/lib/python3.12/dist-packages (from transformers>=4.48.0->transformers[vision]>=4.48.0->rt-pose==0.0.3->-r /content/deteccao_pontos_chaves/requirements.txt (line 15)) (2024.11.6)\n",
      "Requirement already satisfied: requests in /usr/local/lib/python3.12/dist-packages (from transformers>=4.48.0->transformers[vision]>=4.48.0->rt-pose==0.0.3->-r /content/deteccao_pontos_chaves/requirements.txt (line 15)) (2.32.4)\n",
      "Requirement already satisfied: tokenizers<=0.23.0,>=0.22.0 in /usr/local/lib/python3.12/dist-packages (from transformers>=4.48.0->transformers[vision]>=4.48.0->rt-pose==0.0.3->-r /content/deteccao_pontos_chaves/requirements.txt (line 15)) (0.22.0)\n",
      "Requirement already satisfied: safetensors>=0.4.3 in /usr/local/lib/python3.12/dist-packages (from transformers>=4.48.0->transformers[vision]>=4.48.0->rt-pose==0.0.3->-r /content/deteccao_pontos_chaves/requirements.txt (line 15)) (0.6.2)\n",
      "Requirement already satisfied: ml_dtypes>=0.4.0 in /usr/local/lib/python3.12/dist-packages (from jax->mediapipe==0.10.21->-r /content/deteccao_pontos_chaves/requirements.txt (line 14)) (0.5.3)\n",
      "Requirement already satisfied: opt_einsum in /usr/local/lib/python3.12/dist-packages (from jax->mediapipe==0.10.21->-r /content/deteccao_pontos_chaves/requirements.txt (line 14)) (3.4.0)\n",
      "Requirement already satisfied: MarkupSafe>=2.0 in /usr/local/lib/python3.12/dist-packages (from jinja2->torch==2.8.0+cu126->-r /content/deteccao_pontos_chaves/requirements.txt (line 7)) (3.0.2)\n",
      "Requirement already satisfied: pycparser in /usr/local/lib/python3.12/dist-packages (from CFFI>=1.0->sounddevice>=0.4.4->mediapipe==0.10.21->-r /content/deteccao_pontos_chaves/requirements.txt (line 14)) (2.23)\n",
      "Requirement already satisfied: hf-xet<2.0.0,>=1.1.3 in /usr/local/lib/python3.12/dist-packages (from huggingface-hub<1.0,>=0.34.0->transformers>=4.48.0->transformers[vision]>=4.48.0->rt-pose==0.0.3->-r /content/deteccao_pontos_chaves/requirements.txt (line 15)) (1.1.10)\n",
      "Requirement already satisfied: charset_normalizer<4,>=2 in /usr/local/lib/python3.12/dist-packages (from requests->transformers>=4.48.0->transformers[vision]>=4.48.0->rt-pose==0.0.3->-r /content/deteccao_pontos_chaves/requirements.txt (line 15)) (3.4.3)\n",
      "Requirement already satisfied: idna<4,>=2.5 in /usr/local/lib/python3.12/dist-packages (from requests->transformers>=4.48.0->transformers[vision]>=4.48.0->rt-pose==0.0.3->-r /content/deteccao_pontos_chaves/requirements.txt (line 15)) (3.10)\n",
      "Requirement already satisfied: urllib3<3,>=1.21.1 in /usr/local/lib/python3.12/dist-packages (from requests->transformers>=4.48.0->transformers[vision]>=4.48.0->rt-pose==0.0.3->-r /content/deteccao_pontos_chaves/requirements.txt (line 15)) (2.5.0)\n",
      "Requirement already satisfied: certifi>=2017.4.17 in /usr/local/lib/python3.12/dist-packages (from requests->transformers>=4.48.0->transformers[vision]>=4.48.0->rt-pose==0.0.3->-r /content/deteccao_pontos_chaves/requirements.txt (line 15)) (2025.8.3)\n",
      "Downloading protobuf-4.25.3-cp37-abi3-manylinux2014_x86_64.whl (294 kB)\n",
      "\u001b[2K   \u001b[90m━━━━━━━━━━━━━━━━━━━━━━━━━━━━━━━━━━━━━━━━\u001b[0m \u001b[32m294.6/294.6 kB\u001b[0m \u001b[31m8.1 MB/s\u001b[0m eta \u001b[36m0:00:00\u001b[0m\n",
      "\u001b[?25hInstalling collected packages: protobuf\n",
      "  Attempting uninstall: protobuf\n",
      "    Found existing installation: protobuf 4.25.8\n",
      "    Uninstalling protobuf-4.25.8:\n",
      "      Successfully uninstalled protobuf-4.25.8\n",
      "\u001b[31mERROR: pip's dependency resolver does not currently take into account all the packages that are installed. This behaviour is the source of the following dependency conflicts.\n",
      "ydf 0.13.0 requires protobuf<7.0.0,>=5.29.1, but you have protobuf 4.25.3 which is incompatible.\n",
      "grpcio-status 1.71.2 requires protobuf<6.0dev,>=5.26.1, but you have protobuf 4.25.3 which is incompatible.\u001b[0m\u001b[31m\n",
      "\u001b[0mSuccessfully installed protobuf-4.25.3\n"
     ]
    },
    {
     "data": {
      "application/vnd.colab-display-data+json": {
       "id": "ee4db5d3b6bf43fb8d06d904a0a2a26f",
       "pip_warning": {
        "packages": [
         "google"
        ]
       }
      }
     },
     "metadata": {},
     "output_type": "display_data"
    }
   ],
   "source": [
    "path_requisitos = \"{}/requirements.txt\".format(codigo_base_path)\n",
    "if not USE_COLAB:\n",
    "    %pip install -r {path_requisitos}\n",
    "else:\n",
    "    %pip install xgboost==3.0.5 mediapipe==0.10.21 rt_pose==0.0.3\n"
   ]
  },
  {
   "cell_type": "code",
   "execution_count": 7,
   "id": "TwBk2LKTC7W7",
   "metadata": {
    "id": "TwBk2LKTC7W7"
   },
   "outputs": [],
   "source": [
    "# !pip install \\\n",
    "#   xgboost==3.0.5 \\\n",
    "#   mediapipe==0.10.21 \\\n",
    "#   rt_pose==0.0.3\n"
   ]
  },
  {
   "cell_type": "markdown",
   "id": "f3c936fc-f914-43b5-8f13-b204251632df",
   "metadata": {
    "id": "f3c936fc-f914-43b5-8f13-b204251632df"
   },
   "source": [
    "# Imports"
   ]
  },
  {
   "cell_type": "code",
   "execution_count": 14,
   "id": "wodWJo1BZkG1",
   "metadata": {
    "id": "wodWJo1BZkG1"
   },
   "outputs": [],
   "source": [
    "from utils.utils import carregar_lista_de_txt, carregar_dataframe, unnormalize_tensor, visualizar_keypoints\n",
    "from models.feature_extractor import ExtractFeaturesKeypoints\n",
    "from models.kp_modules import KeypointsModule, MediaPipeKeypointsModule, RTPoseKeypointDetectorModule\n",
    "from models.reg_modules import RegressionModule, DepthwiseSeparableConv1DRegressor, DepthwiseSeparableConv1DRegressorModule\n",
    "from models.seg_modules import  DeepLabSegmentationModule, U2NetSegmentationModule\n",
    "from dataset.dataset import RegressaoDataset\n",
    "import torch\n",
    "import yaml\n",
    "import os\n",
    "import zipfile\n",
    "import joblib\n",
    "from torch.utils.data import DataLoader, Dataset\n",
    "import random\n",
    "import numpy as np\n",
    "import subprocess\n",
    "from PIL import Image\n",
    "\n",
    "from sklearn.datasets import make_regression\n",
    "from sklearn.multioutput import MultiOutputRegressor\n",
    "from xgboost import XGBRegressor\n",
    "from tqdm import tqdm\n",
    "import matplotlib.pyplot as plt\n"
   ]
  },
  {
   "cell_type": "code",
   "execution_count": 15,
   "id": "2X41_lE0H2Xg",
   "metadata": {
    "colab": {
     "base_uri": "https://localhost:8080/"
    },
    "id": "2X41_lE0H2Xg",
    "outputId": "5c6aed0a-1aa9-4994-a768-a26388e11368"
   },
   "outputs": [
    {
     "name": "stdout",
     "output_type": "stream",
     "text": [
      "Sat Sep 27 23:28:43 2025       \n",
      "+-----------------------------------------------------------------------------------------+\n",
      "| NVIDIA-SMI 550.54.15              Driver Version: 550.54.15      CUDA Version: 12.4     |\n",
      "|-----------------------------------------+------------------------+----------------------+\n",
      "| GPU  Name                 Persistence-M | Bus-Id          Disp.A | Volatile Uncorr. ECC |\n",
      "| Fan  Temp   Perf          Pwr:Usage/Cap |           Memory-Usage | GPU-Util  Compute M. |\n",
      "|                                         |                        |               MIG M. |\n",
      "|=========================================+========================+======================|\n",
      "|   0  NVIDIA L4                      Off |   00000000:00:03.0 Off |                    0 |\n",
      "| N/A   36C    P8             16W /   72W |       3MiB /  23034MiB |      0%      Default |\n",
      "|                                         |                        |                  N/A |\n",
      "+-----------------------------------------+------------------------+----------------------+\n",
      "                                                                                         \n",
      "+-----------------------------------------------------------------------------------------+\n",
      "| Processes:                                                                              |\n",
      "|  GPU   GI   CI        PID   Type   Process name                              GPU Memory |\n",
      "|        ID   ID                                                               Usage      |\n",
      "|=========================================================================================|\n",
      "|  No running processes found                                                             |\n",
      "+-----------------------------------------------------------------------------------------+\n",
      "\n"
     ]
    }
   ],
   "source": [
    "device = torch.device(\"cuda\" if torch.cuda.is_available() else \"cpu\")\n",
    "if device == torch.device(\"cuda\"):\n",
    "  result = subprocess.run([\"nvidia-smi\"], capture_output=True, text=True)\n",
    "  print(result.stdout)"
   ]
  },
  {
   "cell_type": "code",
   "execution_count": 16,
   "id": "jaOtDqp2LVWZ",
   "metadata": {
    "colab": {
     "base_uri": "https://localhost:8080/"
    },
    "id": "jaOtDqp2LVWZ",
    "outputId": "726bafa1-02ef-4bda-cc42-80dd77efdd95"
   },
   "outputs": [
    {
     "name": "stdout",
     "output_type": "stream",
     "text": [
      "{'colab': True, 'dataset_path': '/content/drive/MyDrive/Colab Notebooks/SelecaoINOVIA/datasets', 'destination_path': '/content/unzipped_files', 'log_path': '/content/src/log', 'regressor_module_name': 'XGBoost', 'keypoint_module_name': 'RTPose', 'segmentation_module_name': 'U2Net', 'train': {'batch_size': 120, 'learning_rate': '1e-7', 'u2net_seg_human_model_path': ''}}\n"
     ]
    }
   ],
   "source": [
    "## Carrega o arquivo de configuração para reproduzir os experimentos\n",
    "\n",
    "file_path = os.path.join(codigo_base_path, \"configuration.yaml\")\n",
    "\n",
    "with open(file_path, \"r\") as file:\n",
    "    config = yaml.safe_load(file)\n",
    "\n",
    "print(config)\n"
   ]
  },
  {
   "cell_type": "code",
   "execution_count": 17,
   "id": "3bbfa732-c197-4a8a-998d-134cec1404a9",
   "metadata": {
    "colab": {
     "base_uri": "https://localhost:8080/"
    },
    "id": "3bbfa732-c197-4a8a-998d-134cec1404a9",
    "outputId": "66742270-5acd-43d1-dbc4-b6a22e0bf881"
   },
   "outputs": [
    {
     "name": "stdout",
     "output_type": "stream",
     "text": [
      "Semente definida: 2025\n"
     ]
    }
   ],
   "source": [
    "def set_torch_seed(seed: int = 42):\n",
    "    \"\"\"\n",
    "    Define uma semente global para garantir reprodutibilidade em PyTorch, NumPy e random.\n",
    "    \"\"\"\n",
    "    random.seed(seed)\n",
    "    np.random.seed(seed)\n",
    "    torch.manual_seed(seed)\n",
    "    torch.cuda.manual_seed(seed)\n",
    "    torch.cuda.manual_seed_all(seed)  # para múltiplas GPUs\n",
    "\n",
    "    # Garante comportamento determinístico (pode impactar performance)\n",
    "    torch.backends.cudnn.deterministic = True\n",
    "    torch.backends.cudnn.benchmark = False\n",
    "\n",
    "    print(f\"Semente definida: {seed}\")\n",
    "set_torch_seed(2025)"
   ]
  },
  {
   "cell_type": "code",
   "execution_count": 18,
   "id": "KG_BrUxaM_Ac",
   "metadata": {
    "colab": {
     "base_uri": "https://localhost:8080/"
    },
    "id": "KG_BrUxaM_Ac",
    "outputId": "380564c9-5457-4b47-f05f-2c34d648a852"
   },
   "outputs": [
    {
     "data": {
      "text/plain": [
       "['homens_15k.zip', 'medidas_dados_sinteticos.csv', 'mulheres_15k.zip']"
      ]
     },
     "execution_count": 18,
     "metadata": {},
     "output_type": "execute_result"
    }
   ],
   "source": [
    "diretorio_pasta_dados = config['dataset_path']\n",
    "\n",
    "# List files\n",
    "os.listdir(diretorio_pasta_dados)\n"
   ]
  },
  {
   "cell_type": "code",
   "execution_count": 19,
   "id": "bb6DAGqqMvZ2",
   "metadata": {
    "id": "bb6DAGqqMvZ2"
   },
   "outputs": [],
   "source": [
    "\n",
    "# Pasta de destino para salvar as imagens retirada dos arquivos compcatos\n",
    "# no colab [ALTERE AQUI se necessário], e será removido se desligar o ambiente.\n",
    "destination_path = config['destination_path']\n"
   ]
  },
  {
   "cell_type": "code",
   "execution_count": 20,
   "id": "kTvtMsD3MxLj",
   "metadata": {
    "id": "kTvtMsD3MxLj"
   },
   "outputs": [],
   "source": [
    "## Unzip as pastas compactadas  'homens_15k.zip' e 'mulheres_15k.zip' contidas em diretorio_pasta_dados\n",
    "#   para destination_path\n",
    "if USE_COLAB:\n",
    "  zip_file_paths = [\n",
    "      diretorio_pasta_dados + '/mulheres_15k.zip',\n",
    "      diretorio_pasta_dados + '/homens_15k.zip'\n",
    "  ]\n",
    "\n",
    "  os.makedirs(destination_path, exist_ok=True)\n",
    "\n",
    "  # Unzip\n",
    "  for zip_file_path in zip_file_paths:\n",
    "    with zipfile.ZipFile(zip_file_path, 'r') as zip_ref:\n",
    "        zip_ref.extractall(destination_path)"
   ]
  },
  {
   "cell_type": "markdown",
   "id": "8b0e6319-b1c3-4983-b379-b47140cd0a9a",
   "metadata": {
    "id": "8b0e6319-b1c3-4983-b379-b47140cd0a9a"
   },
   "source": [
    "## Criando Dataset Pytorch"
   ]
  },
  {
   "cell_type": "code",
   "execution_count": 21,
   "id": "mOQJz8l9MBpC",
   "metadata": {
    "id": "mOQJz8l9MBpC"
   },
   "outputs": [],
   "source": [
    "config['log_path'] = os.path.join(codigo_base_path, \"log\")"
   ]
  },
  {
   "cell_type": "code",
   "execution_count": 22,
   "id": "YQvbqFV9g7MB",
   "metadata": {
    "id": "YQvbqFV9g7MB"
   },
   "outputs": [],
   "source": [
    "treino_diretorios_imagens = carregar_lista_de_txt(os.path.join(config['log_path'], \"treino_diretorios_imagens.txt\") )\n",
    "df_medidas_filtrado_treino = carregar_dataframe(os.path.join(config['log_path'], \"df_medidas_filtrado_treino.csv\") )\n",
    "\n",
    "validacao_diretorios_imagens = carregar_lista_de_txt(os.path.join(config['log_path'], \"validacao_diretorios_imagens.txt\") )\n",
    "df_medidas_filtrado_val = carregar_dataframe(os.path.join(config['log_path'], \"df_medidas_filtrado_val.csv\") )\n",
    "\n",
    "\n",
    "teste_diretorios_imagens = carregar_lista_de_txt(os.path.join(config['log_path'], \"teste_diretorios_imagens.txt\") )\n",
    "df_medidas_filtrado_teste = carregar_dataframe(os.path.join(config['log_path'], \"df_medidas_filtrado_teste.csv\") )"
   ]
  },
  {
   "cell_type": "code",
   "execution_count": 23,
   "id": "05NUXIeWiXup",
   "metadata": {
    "colab": {
     "base_uri": "https://localhost:8080/"
    },
    "id": "05NUXIeWiXup",
    "outputId": "d66e0a20-a3cd-4f14-9517-49dd1507bb1f"
   },
   "outputs": [
    {
     "name": "stdout",
     "output_type": "stream",
     "text": [
      "Total de imagens para treino:  15392\n",
      "Total de imagens para validação:  4948\n",
      "Total de imagens para teste:  9272\n"
     ]
    }
   ],
   "source": [
    "\n",
    "print(\"Total de imagens para treino: \", len(treino_diretorios_imagens))\n",
    "print(\"Total de imagens para validação: \", len(validacao_diretorios_imagens))\n",
    "print(\"Total de imagens para teste: \", len(teste_diretorios_imagens))"
   ]
  },
  {
   "cell_type": "code",
   "execution_count": 24,
   "id": "111862b4-efc1-495a-9a64-203bd542e3a2",
   "metadata": {
    "id": "111862b4-efc1-495a-9a64-203bd542e3a2"
   },
   "outputs": [],
   "source": [
    "\n",
    "treino_scaler = joblib.load(os.path.join(config['log_path'], \"treino_scaler.pkl\"))\n",
    "\n",
    "\n",
    "treino_dataset = RegressaoDataset(\n",
    "    image_paths = treino_diretorios_imagens,\n",
    "    scaler = treino_scaler,\n",
    "    dataframe = df_medidas_filtrado_treino,\n",
    "    dataset_path = config['destination_path'],\n",
    "    u2net = True if config['segmentation_module_name'] == 'U2Net' else False,\n",
    ")\n",
    "\n",
    "\n",
    "\n"
   ]
  },
  {
   "cell_type": "markdown",
   "id": "8fb2965b-5a3e-4ec8-906c-004f2e987006",
   "metadata": {
    "id": "8fb2965b-5a3e-4ec8-906c-004f2e987006"
   },
   "source": [
    "# Modelagem"
   ]
  },
  {
   "cell_type": "markdown",
   "id": "4f62455a-66a1-4ee4-8bca-f32254a136de",
   "metadata": {
    "id": "4f62455a-66a1-4ee4-8bca-f32254a136de"
   },
   "source": [
    "## Informações sobre a Modelagem U2Net\n",
    "\n",
    "\n",
    "Nesta seção, mostramos a implementação do código de inferência da U2Net.\n",
    "\n",
    "O código da arquitetura da U2Net foi copiado da implementação original dos autores, disponível em: [https://github.com/xuebinqin/U-2-Net](https://github.com/xuebinqin/U-2-Net). Utilizamos essa arquitetura para carregar o modelo de segmentação de pessoas, cujo *checkpoint* pode ser baixado neste link: [https://drive.google.com/file/d/1m_Kgs91b21gayc2XLW0ou8yugAIadWVP/view?usp=sharing](https://drive.google.com/file/d/1m_Kgs91b21gayc2XLW0ou8yugAIadWVP/view?usp=sharing). Esse *checkpoint* é fornecido no repositório oficial da U2Net no GitHub.\n",
    "\n",
    "- Criamos um módulo PyTorch chamado `U2NetSegmentationModule`, que carrega os parâmetros do arquivo `u2net_human_seg.pth` na arquitetura da U2Net. Para facilitar a abstração do sistema, o `U2NetSegmentationModule` foi desenvolvido com uma interface de métodos compatível com os módulos `SegmentationModule` e `DeepLabSegmentationModule`, permitindo redução de alterações majoritárias no código de inferência.\n",
    "\n",
    "- Note que, ao criar o `RegressaoDataset`, é necessário definir o argumento `u2net` do construtor da classe como `True` antes de realizar inferência ou treinamento com a U2Net.\n"
   ]
  },
  {
   "cell_type": "markdown",
   "id": "bea334a4-cb34-48f9-b16b-17ef6c9b6e8e",
   "metadata": {
    "id": "bea334a4-cb34-48f9-b16b-17ef6c9b6e8e"
   },
   "source": [
    "## Informações sobre os Detectores de Pontos Chaves\n",
    "\n",
    "Vamos usar estas duas abordagens:\n",
    "\n",
    "O BlazePose foi obtido da biblioteca 'mediapipe'. Esse método consiste uma rede leve baseada em Redes Neurais Convolucionais Codificador-Decodificador Multi-Tarefas para Estimativa de Pose Humana. A abordagem fornece rastreamento de pose humana empregando aprendizado de máquina (ML) para inferir inúmeros pontos de referência 2D de um corpo a partir de um único frame em vídeos ou imagens estáticas. Foi criado especialmente para aplicação mobile. Link do artigo [https://arxiv.org/abs/2006.10204]\n",
    "\n",
    "RT-Pose foi otido da biblioteca 'rt_pose'. Essa biblioteca implementa uma pipeline de Estimativa de Pose Humana baseada em redes de Transformadores Visuais. O objetivo conforme a documentação da biblioteca é alcançado com a criação de um fluxo de execução com estes passos sequenciais: 1) Preprocessamento da imagem; 2) Extração de caixas deliminatoras de humanos na imagem por meio um modelo de Detecção de Objetos otimizado para inferência em tempo real; 3) Usar o ViTPose para detectar pontos chaves da região cortada da caixa deliminatora sobre a pessoa.\n",
    "Em suma, esse fluxo de execução para detecção de pontos chaves é otimizado para desempenho de inferência em tempo real.\n",
    "\n",
    "\n",
    "- BlazePose com mediapipe: https://pypi.org/project/mediapipe/   e https://research.google/blog/on-device-real-time-body-pose-tracking-with-mediapipe-blazepose/\n",
    "\n",
    "- RT-Pose (Real-time (GPU) pose estimation pipeline with Transformers): https://github.com/qubvel/rt-pose"
   ]
  },
  {
   "cell_type": "markdown",
   "id": "68e9dec3-aef0-4a83-9d55-cc078336f8dc",
   "metadata": {
    "id": "68e9dec3-aef0-4a83-9d55-cc078336f8dc"
   },
   "source": [
    "Vamos fazer uma breve comparação da qualidade de detecção dos pontos chaves detectados usando a heurística do `KeypointsModule` e usando o MediaPipe por meio do `MediaPipeKeypointDetector` e `RTPoseKeypointDetectorModule`.\n",
    "\n",
    "\n",
    "Como o `KeypointsModule` originalmente não detectava pontos laterais específicos, como os das regiões esquerda e direita do corpo, foi necessário estender o número de keypoints processados. A hipotése é que essa nova disposição de pontos chaves pode permitir capturar informações mais precisas relacionada à estrutura ou simetria do corpo da pessoa e, consequentemente, melhora o desemepenho do sistema.\n",
    "\n",
    "Em suma, o módulo `KeypointsModule` foi alterado para identificar 11 pontos distintos, abrangendo tanto o lado esquerdo quanto o direito do corpo. Os keypoints considerados por  `MediaPipeKeypointDetector` e `RTPoseKeypointDetectorModule` são:\n",
    "\n",
    "- `top_of_head`  \n",
    "- `neck`  \n",
    "- `shoulder_left`  \n",
    "- `shoulder_right`  \n",
    "- `waist`  \n",
    "- `hip_left`  \n",
    "- `hip_right`  \n",
    "- `knee_left`  \n",
    "- `knee_right`  \n",
    "- `ankle_left`  \n",
    "- `ankle_right`\n"
   ]
  },
  {
   "cell_type": "code",
   "execution_count": 28,
   "id": "a27e490e-0f3d-466d-8d33-b04c7816288c",
   "metadata": {
    "colab": {
     "base_uri": "https://localhost:8080/",
     "height": 615,
     "referenced_widgets": [
      "415fa02a009543f1a4eccb47a52c1702",
      "0ec539b0e0854b159946805c62ad2b49",
      "04023275244d456e9aec2d4b56c33cbe",
      "c3daa2c0b9a14fdab06b3507547d7355",
      "d39fb79d02274c64b8a960efc1fa6247",
      "9bac5812620f46aebf1e09b10b752a4f",
      "6d011fe93c2846a4b311a8bf42153444",
      "a9f52a93873343bd9d27f3acc523f767",
      "9b993c56189f45259059561b3811322c",
      "f4348bb231cf4397a9762f150cba61a0",
      "128570981df9468e9135a454c34ad6b9",
      "0ce96692aded4279929e04dd44823615",
      "7f2a655e687e4f9ca2e3ac0eedcadb07",
      "9ccc8db0159742cb8a44ab5e11334ec2",
      "bac2e3fbefa34f21a4518d64fb9e6b06",
      "30794096ff2f46d684c6cbbc675202a2",
      "c2375af2e70048c8ad6b686ee79130ae",
      "62b918fd996f47e5a9f99dab89e45e72",
      "b39ed12e9a604afcb769c03bf2cd3b6d",
      "22b3eb35c0c544d0a576800c9a8b08bb",
      "35f6700ef110418c9fbe4ed851ba8f99",
      "3f9061eb04504ea798d4f4a1c9263de6",
      "74eef029944b43ca83099e1bb7c1c927",
      "a915e651fb3f4a15b8ab2c2ea8f751e2",
      "970af300d3bf4e62b3e6c10f009226c5",
      "12266bd8ffc84735994311ef59c83040",
      "f3b51b41a2b1477794c993ad74f957f5",
      "e09058d5064d4cd69decea7cdedc5ca7",
      "d1332d90ed894f698280eef2bbc1bc58",
      "9a944a512ad940d09d975fbf1ed18978",
      "4be1c75bc9634550a69b5e2230b9a440",
      "3ebf34213c7a40c78a3f192a15ecff4c",
      "fba34b4a6b8f43b9b4c3fe0e2d3059f1",
      "8dc8d35d4289463792664362c96c284c",
      "e90167f497b742c787b6cdab2117719d",
      "d39a83196cbe4ba498e3693861bd8c2c",
      "ddd08f9cef1640b5aebf033fd66ba4bd",
      "db29fcbad65b4929b9fd064be0929c21",
      "252673178643419bbba2fd723c1de399",
      "f11afaaf6c4d4c99a57d8afb9290704e",
      "e5c893cb9b1a4487ae825c5983d30d23",
      "efec4ae52b124a779962ab15e9c0b565",
      "6805eb0cdccb41118fa8aab945290675",
      "591c7d6b34074ff48a7cf03e9f9d45c7",
      "c3ee6c15cc284983aa319ab094badbc6",
      "00dfe6644ac549b19d68ddc71db78503",
      "969582fb6a6c4019a1ffe8879c4ff4c1",
      "c400554a65dc49838e90ab2dc8d9683d",
      "ab0cf4d70e0345fb9bf52a38c43eed23",
      "f3a4a29c1f8941beb59a1c84c1d824f2",
      "07919b1a90ae41deb2c2e14797435255",
      "523415b9fd05477fbc41b133082fa0fb",
      "92441bea7b084cf3b411d30ea527720d",
      "fa9bd4b113c54a33b6ad78a584ec451e",
      "5a967dd06e09440ea4978c77b308cf69",
      "638c544cb25449c193a244b8f930333e",
      "ed3b18ff388e471b934f80c9e619b5c5",
      "95742a8a14ab4552b3f5f7787e1577dc",
      "ae3ad42565194c79a7df04d71bd79f87",
      "fcf8b681e2244d5089c12e08c123d40a",
      "559cc9c60d4944baa0ae358635378ad3",
      "5920a5b131d24640bde0a98ce1f79404",
      "6952a3c33d2a4b62adfb77cffc732654",
      "44617ed36da846bf96cb84e40f022838",
      "f5ecbbbd04a544fb9fc05e15925802e6",
      "0b5498b59b024a65ad9f74dd20dee1ae",
      "27ac57f19dbf47238d3f09787dd143b1",
      "db8379553c3a423ab711f75f5deb12f3",
      "aa98ad25b5184862811cb5c70f15ede2",
      "0d9321b7be60400a9f08abc100df7e23",
      "c3ce69498dcc47f9b11e2f70103ba17e",
      "adf685c7f3de4b7ba78edaca9dc331c0",
      "d042830cde9949f2ae17434ead5b2533",
      "ea975d14d5204ad49c6e567e13b57f67",
      "8b89b9b011584d96ab9f9bab64fb4e79",
      "a974c116de7941d19efea820b44b76d4",
      "f82c7dd714a646af9157126764c2e84d",
      "2b74358b59b940e1b63bf28939c33ce2",
      "66e93c4331a140d3bc591ee6276ebe56",
      "f5ba2085e42b4050bcb49b8ebf2eec78",
      "d99df6874d3f412ebcbeee431c302952",
      "706691f3338f4af7b81163aab330e9cf",
      "3c5f368fc2bc44b2908134dda7f95b25",
      "a648caf4303f451db143d618d417c176",
      "940fca58651041a7a01975f3ef1fa1c6",
      "2e5526692a284890a671b345937a9315",
      "762563ed517442fb97ec5c574b994c50",
      "15649f558ac843a4ad72691599b5b6b7",
      "b142320614fd4b4988b69c76f6817b6d",
      "389f19de60c4422d9020cecda28d234e",
      "1eefa306dbdd4b20960f1fc8234088b1",
      "3a8effc4449a45fbad331c3adec2ca8f",
      "076613c55a354d16ac05f283917f0afc",
      "36dbe6ea300e48709a171b8f15f0d357",
      "90ad490d2b9040fe82d594ab938cad0a",
      "0afdd387f1ac4e848f0967c605491b6b",
      "ae81da60e27648e9b90b8f4decf0ca2c",
      "0c006af5f3c243f2b39fc2ed5a1ed52b",
      "c6750f6928c94ea6842bc378f1ca1381",
      "4f4a71bd6c9d4f1387020c30153b1591",
      "7025d1d152d2422694cc71f55235f587",
      "98a044130c26468aaff09d56f423bb4f",
      "055bfe2cf46b42549550df14be40cf59",
      "aae8232099b5400cbe600053cd74529a",
      "682dad75164f4b44bcc4bbff96bff986",
      "2a65a7c942e648fc8763e175d40c0bac",
      "e7ef7976734b4bd9bae97aab8b279242",
      "81bc0a9c71bf47738918cab6dd8b4b96",
      "79952dad453d4820ab6ce5168c4c107e",
      "38eaaf39482946419a830e9451e5dd2a"
     ]
    },
    "id": "a27e490e-0f3d-466d-8d33-b04c7816288c",
    "outputId": "1f9fedd6-9c08-4093-bbb3-105c5673e16c"
   },
   "outputs": [
    {
     "name": "stderr",
     "output_type": "stream",
     "text": [
      "\u001b[32m2025-09-27 23:47:43.928\u001b[0m | \u001b[1mINFO    \u001b[0m | \u001b[36mrt_pose.pipeline\u001b[0m:\u001b[36m_load_detector\u001b[0m:\u001b[36m70\u001b[0m - \u001b[1mLoading detector from `PekingU/rtdetr_r50vd_coco_o365`...\u001b[0m\n",
      "/usr/local/lib/python3.12/dist-packages/huggingface_hub/utils/_auth.py:94: UserWarning: \n",
      "The secret `HF_TOKEN` does not exist in your Colab secrets.\n",
      "To authenticate with the Hugging Face Hub, create a token in your settings tab (https://huggingface.co/settings/tokens), set it as secret in your Google Colab and restart your session.\n",
      "You will be able to reuse this secret in all of your notebooks.\n",
      "Please note that authentication is recommended but still optional to access public models or datasets.\n",
      "  warnings.warn(\n"
     ]
    },
    {
     "data": {
      "application/vnd.jupyter.widget-view+json": {
       "model_id": "415fa02a009543f1a4eccb47a52c1702",
       "version_major": 2,
       "version_minor": 0
      },
      "text/plain": [
       "config.json: 0.00B [00:00, ?B/s]"
      ]
     },
     "metadata": {},
     "output_type": "display_data"
    },
    {
     "name": "stderr",
     "output_type": "stream",
     "text": [
      "`torch_dtype` is deprecated! Use `dtype` instead!\n"
     ]
    },
    {
     "data": {
      "application/vnd.jupyter.widget-view+json": {
       "model_id": "0ce96692aded4279929e04dd44823615",
       "version_major": 2,
       "version_minor": 0
      },
      "text/plain": [
       "model.safetensors:   0%|          | 0.00/172M [00:00<?, ?B/s]"
      ]
     },
     "metadata": {},
     "output_type": "display_data"
    },
    {
     "data": {
      "application/vnd.jupyter.widget-view+json": {
       "model_id": "74eef029944b43ca83099e1bb7c1c927",
       "version_major": 2,
       "version_minor": 0
      },
      "text/plain": [
       "preprocessor_config.json:   0%|          | 0.00/841 [00:00<?, ?B/s]"
      ]
     },
     "metadata": {},
     "output_type": "display_data"
    },
    {
     "data": {
      "application/vnd.jupyter.widget-view+json": {
       "model_id": "8dc8d35d4289463792664362c96c284c",
       "version_major": 2,
       "version_minor": 0
      },
      "text/plain": [
       "Fetching 1 files:   0%|          | 0/1 [00:00<?, ?it/s]"
      ]
     },
     "metadata": {},
     "output_type": "display_data"
    },
    {
     "data": {
      "application/vnd.jupyter.widget-view+json": {
       "model_id": "c3ee6c15cc284983aa319ab094badbc6",
       "version_major": 2,
       "version_minor": 0
      },
      "text/plain": [
       "Fetching 1 files:   0%|          | 0/1 [00:00<?, ?it/s]"
      ]
     },
     "metadata": {},
     "output_type": "display_data"
    },
    {
     "name": "stderr",
     "output_type": "stream",
     "text": [
      "\u001b[32m2025-09-27 23:47:48.212\u001b[0m | \u001b[1mINFO    \u001b[0m | \u001b[36mrt_pose.pipeline\u001b[0m:\u001b[36m_load_detector\u001b[0m:\u001b[36m74\u001b[0m - \u001b[1mDetector loaded to `cuda` with dtype `torch.float32`!\u001b[0m\n",
      "\u001b[32m2025-09-27 23:47:48.213\u001b[0m | \u001b[1mINFO    \u001b[0m | \u001b[36mrt_pose.pipeline\u001b[0m:\u001b[36m_load_pose_estimator\u001b[0m:\u001b[36m79\u001b[0m - \u001b[1mLoading pose estimator from `usyd-community/vitpose-plus-small`...\u001b[0m\n",
      "`torch_dtype` is deprecated! Use `dtype` instead!\n"
     ]
    },
    {
     "data": {
      "application/vnd.jupyter.widget-view+json": {
       "model_id": "638c544cb25449c193a244b8f930333e",
       "version_major": 2,
       "version_minor": 0
      },
      "text/plain": [
       "config.json: 0.00B [00:00, ?B/s]"
      ]
     },
     "metadata": {},
     "output_type": "display_data"
    },
    {
     "data": {
      "application/vnd.jupyter.widget-view+json": {
       "model_id": "27ac57f19dbf47238d3f09787dd143b1",
       "version_major": 2,
       "version_minor": 0
      },
      "text/plain": [
       "model.safetensors:   0%|          | 0.00/133M [00:00<?, ?B/s]"
      ]
     },
     "metadata": {},
     "output_type": "display_data"
    },
    {
     "data": {
      "application/vnd.jupyter.widget-view+json": {
       "model_id": "2b74358b59b940e1b63bf28939c33ce2",
       "version_major": 2,
       "version_minor": 0
      },
      "text/plain": [
       "preprocessor_config.json:   0%|          | 0.00/363 [00:00<?, ?B/s]"
      ]
     },
     "metadata": {},
     "output_type": "display_data"
    },
    {
     "data": {
      "application/vnd.jupyter.widget-view+json": {
       "model_id": "b142320614fd4b4988b69c76f6817b6d",
       "version_major": 2,
       "version_minor": 0
      },
      "text/plain": [
       "Fetching 1 files:   0%|          | 0/1 [00:00<?, ?it/s]"
      ]
     },
     "metadata": {},
     "output_type": "display_data"
    },
    {
     "data": {
      "application/vnd.jupyter.widget-view+json": {
       "model_id": "4f4a71bd6c9d4f1387020c30153b1591",
       "version_major": 2,
       "version_minor": 0
      },
      "text/plain": [
       "Fetching 1 files:   0%|          | 0/1 [00:00<?, ?it/s]"
      ]
     },
     "metadata": {},
     "output_type": "display_data"
    },
    {
     "name": "stderr",
     "output_type": "stream",
     "text": [
      "Using a slow image processor as `use_fast` is unset and a slow processor was saved with this model. `use_fast=True` will be the default behavior in v4.52, even if the model was saved with a slow processor. This will result in minor differences in outputs. You'll still be able to use a slow processor with `use_fast=False`.\n",
      "\u001b[32m2025-09-27 23:47:50.881\u001b[0m | \u001b[1mINFO    \u001b[0m | \u001b[36mrt_pose.pipeline\u001b[0m:\u001b[36m_load_pose_estimator\u001b[0m:\u001b[36m83\u001b[0m - \u001b[1mPose estimator loaded to `cuda` with dtype `torch.float32`!\u001b[0m\n",
      "\u001b[32m2025-09-27 23:47:50.881\u001b[0m | \u001b[1mINFO    \u001b[0m | \u001b[36mrt_pose.pipeline\u001b[0m:\u001b[36m__init__\u001b[0m:\u001b[36m66\u001b[0m - \u001b[1mPipeline initialized successfully!\u001b[0m\n"
     ]
    }
   ],
   "source": [
    "## Vamos instanticar cada tipo de módulo de Segmentação e Detecção de Pontos Chaves para avaliar a qualidade\n",
    "torch.cuda.empty_cache()\n",
    "\n",
    "seg_module_deep_lab = DeepLabSegmentationModule(device=device)\n",
    "seg_module_u2net = U2NetSegmentationModule(config['train']['u2net_seg_human_model_path'], device)\n",
    "kp_module_heuristica = KeypointsModule()\n",
    "kp_module_mediapipe = MediaPipeKeypointsModule()\n",
    "kp_module_rtpose = RTPoseKeypointDetectorModule()"
   ]
  },
  {
   "cell_type": "code",
   "execution_count": 29,
   "id": "b06174bd-c716-4f96-bdbf-4e30da87d150",
   "metadata": {
    "colab": {
     "base_uri": "https://localhost:8080/",
     "height": 453
    },
    "id": "b06174bd-c716-4f96-bdbf-4e30da87d150",
    "outputId": "c6691c30-7058-47c1-ed47-4ea685788de3"
   },
   "outputs": [
    {
     "data": {
      "text/plain": [
       "<matplotlib.image.AxesImage at 0x785f9476a9c0>"
      ]
     },
     "execution_count": 29,
     "metadata": {},
     "output_type": "execute_result"
    },
    {
     "data": {
      "image/png": "[encoded data removed]",
      "text/plain": [
       "<Figure size 640x480 with 1 Axes>"
      ]
     },
     "metadata": {},
     "output_type": "display_data"
    }
   ],
   "source": [
    "# Lendo uma imagem de amostra\n",
    "\n",
    "test_image_path = config['destination_path'] + \"/syn_f000012-3-Pos/front.png\"#\"/content/unzipped_files/syn_f000012-3-Pos/front.png\"#\"/content/unzipped_files/syn_m029272-3-Pre/left.png\" #\"/content/unzipped_files/syn_f000012-3-Pos/front.png\"\n",
    "\n",
    "\n",
    "image = Image.open(test_image_path).convert(\"RGB\")\n",
    "image = image.resize((512, 512), resample=Image.BILINEAR)\n",
    "image = np.asarray(image).copy()\n",
    "plt.imshow(image)\n"
   ]
  },
  {
   "cell_type": "code",
   "execution_count": 30,
   "id": "z_SMMBnJl6St",
   "metadata": {
    "colab": {
     "base_uri": "https://localhost:8080/",
     "height": 470
    },
    "id": "z_SMMBnJl6St",
    "outputId": "3e58da3a-b305-48e9-fea3-061c56c3e1e6"
   },
   "outputs": [
    {
     "data": {
      "text/plain": [
       "Text(0.5, 1.0, 'Máscara de silheta (U2Net)')"
      ]
     },
     "execution_count": 30,
     "metadata": {},
     "output_type": "execute_result"
    },
    {
     "data": {
      "image/png": "[encoded data removed]",
      "text/plain": [
       "<Figure size 640x480 with 1 Axes>"
      ]
     },
     "metadata": {},
     "output_type": "display_data"
    }
   ],
   "source": [
    "from dataset.dataset import U2NetToTensor\n",
    "\n",
    "## Verificando saída da máscara da U2Net\n",
    "\n",
    "u2netToTensor = U2NetToTensor()\n",
    "mask = seg_module_u2net.extract_silhouette(u2netToTensor(image).unsqueeze(0).to(device))\n",
    "\n",
    "plt.imshow(mask)\n",
    "plt.title(\"Máscara de silheta (U2Net)\")\n"
   ]
  },
  {
   "cell_type": "code",
   "execution_count": 31,
   "id": "d3PAOSngmED3",
   "metadata": {
    "colab": {
     "base_uri": "https://localhost:8080/",
     "height": 471
    },
    "id": "d3PAOSngmED3",
    "outputId": "3bd5545a-d4cd-40f0-c9ca-3f59337511e1"
   },
   "outputs": [
    {
     "data": {
      "text/plain": [
       "Text(0.5, 1.0, 'Máscara de silheta (DeepLabV3)')"
      ]
     },
     "execution_count": 31,
     "metadata": {},
     "output_type": "execute_result"
    },
    {
     "data": {
      "image/png": "[encoded data removed]",
      "text/plain": [
       "<Figure size 640x480 with 1 Axes>"
      ]
     },
     "metadata": {},
     "output_type": "display_data"
    }
   ],
   "source": [
    "import torchvision.transforms as T\n",
    "\n",
    "## Verificando saída da máscara da DeepLabV3\n",
    "\n",
    "\n",
    "toTensor = T.ToTensor()\n",
    "#inp = torch.tensor(image).permute((2,0,1)).unsqueeze(0).float().to(device)\n",
    "inp  = toTensor(image).to(device).unsqueeze(0)\n",
    "mask = seg_module_deep_lab.extract_silhouette(inp)\n",
    "plt.imshow(mask)\n",
    "plt.title(\"Máscara de silheta (DeepLabV3)\")\n",
    "#plt.savefig(\"silhueta.png\")\n"
   ]
  },
  {
   "cell_type": "code",
   "execution_count": 32,
   "id": "b13e7d0c-94bc-4b58-848f-adb07129fba5",
   "metadata": {
    "colab": {
     "base_uri": "https://localhost:8080/",
     "height": 886
    },
    "id": "b13e7d0c-94bc-4b58-848f-adb07129fba5",
    "outputId": "0c544f21-868c-400a-d6c5-5187090f453b"
   },
   "outputs": [
    {
     "name": "stdout",
     "output_type": "stream",
     "text": [
      "Keypoints detectados: {'top_head': (257, 98), 'neck': (257, 124), 'shoulders': (257, 151), 'waist': (257, 232), 'hips': (257, 258), 'knees': (257, 312), 'ankles': (257, 366)}\n"
     ]
    },
    {
     "data": {
      "image/png": "[encoded data removed]",
      "text/plain": [
       "<Figure size 1200x1000 with 2 Axes>"
      ]
     },
     "metadata": {},
     "output_type": "display_data"
    }
   ],
   "source": [
    "## Vericando pontos chaves da método baseline\n",
    "keypoints = kp_module_heuristica.extract_keypoints(mask)\n",
    "print(\"Keypoints detectados:\", keypoints)\n",
    "\n",
    "visualizar_keypoints(\n",
    "    test_image_path,\n",
    "    keypoints,\n",
    "    \"Visualização de Pontos Chaves (Heurística)\",\n",
    "    \"keypoints_heuristica.png\"\n",
    ")"
   ]
  },
  {
   "cell_type": "code",
   "execution_count": 33,
   "id": "164b42ae-2f7f-4ae5-ae59-f5177d97bd70",
   "metadata": {
    "colab": {
     "base_uri": "https://localhost:8080/",
     "height": 886
    },
    "id": "164b42ae-2f7f-4ae5-ae59-f5177d97bd70",
    "outputId": "5e792c61-9b25-4923-edaa-acf4434e6de3"
   },
   "outputs": [
    {
     "name": "stdout",
     "output_type": "stream",
     "text": [
      "Keypoints detectados: {'top_of_head': (254, 98), 'neck': (256, 167), 'shoulder_left': (225, 167), 'shoulder_right': (288, 168), 'waist': (258, 268), 'hip_left': (243, 268), 'hip_right': (274, 269), 'knee_left': (243, 352), 'knee_right': (266, 354), 'ankle_left': (244, 430), 'ankle_right': (269, 429)}\n"
     ]
    },
    {
     "data": {
      "image/png": "[encoded data removed]",
      "text/plain": [
       "<Figure size 1200x1000 with 2 Axes>"
      ]
     },
     "metadata": {},
     "output_type": "display_data"
    }
   ],
   "source": [
    "## Vericando pontos chaves da método BlazePose\n",
    "\n",
    "keypoints = kp_module_mediapipe.extract_keypoints(image, mask)\n",
    "print(\"Keypoints detectados:\", keypoints)\n",
    "\n",
    "visualizar_keypoints(\n",
    "    test_image_path,\n",
    "    keypoints,\n",
    "    \"Visualização de Pontos Chaves (Media Pipe)\",\n",
    "    \"keypoints_mediapipe.png\"\n",
    "  )\n"
   ]
  },
  {
   "cell_type": "code",
   "execution_count": 34,
   "id": "d9dc7202-df92-40a1-a95c-85a77c576287",
   "metadata": {
    "colab": {
     "base_uri": "https://localhost:8080/",
     "height": 886
    },
    "id": "d9dc7202-df92-40a1-a95c-85a77c576287",
    "outputId": "6c6b0314-00ba-4cb6-80fb-c9b23cfd0605"
   },
   "outputs": [
    {
     "name": "stdout",
     "output_type": "stream",
     "text": [
      "Keypoints detectados: {'top_of_head': (254, 98), 'neck': (255, 166), 'shoulder_left': (281, 166), 'shoulder_right': (230, 166), 'waist': (254, 265), 'hip_left': (272, 265), 'hip_right': (237, 265), 'knee_left': (267, 351), 'knee_right': (238, 351), 'ankle_left': (272, 429), 'ankle_right': (238, 423)}\n"
     ]
    },
    {
     "data": {
      "image/png": "[encoded data removed]",
      "text/plain": [
       "<Figure size 1200x1000 with 2 Axes>"
      ]
     },
     "metadata": {},
     "output_type": "display_data"
    }
   ],
   "source": [
    "## Vericando pontos chaves da método RT-Pose\n",
    "\n",
    "keypoints = kp_module_rtpose.extract_keypoints(image, mask)\n",
    "print(\"Keypoints detectados:\", keypoints)\n",
    "\n",
    "visualizar_keypoints(\n",
    "    test_image_path,\n",
    "    keypoints,\n",
    "    \"Visualização de Pontos Chaves (RT-Pose)\",\n",
    "    \"keypoints_mediapipe.png\"\n",
    "  )\n"
   ]
  },
  {
   "cell_type": "code",
   "execution_count": 35,
   "id": "cc5b90e8-21cb-415d-80c4-ba33d7e97024",
   "metadata": {
    "colab": {
     "base_uri": "https://localhost:8080/"
    },
    "id": "cc5b90e8-21cb-415d-80c4-ba33d7e97024",
    "outputId": "2651cea9-16e9-41d9-93f2-815ec686db32"
   },
   "outputs": [
    {
     "data": {
      "text/plain": [
       "6824"
      ]
     },
     "execution_count": 35,
     "metadata": {},
     "output_type": "execute_result"
    }
   ],
   "source": [
    "import gc\n",
    "del keypoints, kp_module_heuristica, kp_module_mediapipe, kp_module_rtpose, seg_module_deep_lab, seg_module_u2net\n",
    "gc.collect()"
   ]
  },
  {
   "cell_type": "markdown",
   "id": "b00fca0b-345c-4c3f-a172-5186d75da323",
   "metadata": {
    "id": "b00fca0b-345c-4c3f-a172-5186d75da323"
   },
   "source": [
    "###  Treinamento do XGBoost\n",
    "\n",
    "O XGBoost é um modelo de Aprendiza de Máquina conhecido por seu com desempenho em tarefas de classificação e regressão. É um modelo mais otimizado para treinamento em CPU. Vai servir com uma baseline para outro módulo regressor chamado DepthwiseSeparableConv1DRegressor que é mais suscetível para implantação mobile."
   ]
  },
  {
   "cell_type": "markdown",
   "id": "83f3a791-61c3-49de-ba00-ad79fd2f3c4f",
   "metadata": {
    "id": "83f3a791-61c3-49de-ba00-ad79fd2f3c4f"
   },
   "source": [
    "#### Preparação dos dados para treinar o XGBoost"
   ]
  },
  {
   "cell_type": "code",
   "execution_count": 36,
   "id": "f1e16c77-07b6-4c7f-8e5f-7c20ec04174b",
   "metadata": {
    "id": "f1e16c77-07b6-4c7f-8e5f-7c20ec04174b"
   },
   "outputs": [],
   "source": [
    "\n",
    "# Criação do DataLoader\n",
    "treino_loader = DataLoader(\n",
    "    dataset=treino_dataset,\n",
    "    batch_size=1,\n",
    "    shuffle=False,\n",
    "    #pin_memory=True,\n",
    "    #num_workers=2\n",
    ")\n"
   ]
  },
  {
   "cell_type": "markdown",
   "id": "a5488456-cba3-4a83-8849-1d1fb1bc2e9a",
   "metadata": {
    "id": "a5488456-cba3-4a83-8849-1d1fb1bc2e9a"
   },
   "source": [
    "Considerando que devemos extrair informações de pontos chaves, então criamos o módulo ExtractFeaturesKeypoints reponsável por extrair\n",
    "um vetor de características onde cada componente deste vetor corresponde à norma euclidiana (distância) entre N corrdenadas 2D de pontos chaves detectados da silhueta, porém devido a simetria da distância euclidiana e para evitar redundância de valores, usamos apenas pares de pontos únicos sem repetição.\n",
    "\n",
    "$$\n",
    "\\|\\mathbf{a} - \\mathbf{b}\\|_2 = \\sqrt{(a_1 - b_1)^2 + (a_2 - b_2)^2 + \\dots + (a_n - b_n)^2}\n",
    "$$\n",
    "\n",
    "A fórmula acima calcula distâncias euclidianas aplicando a norma L2 às diferenças vetoriais entre pontos chaves. Isso é alcançado usando `torch.norm(ponto2 - ponto1)`. Tem o mesmo efeito de computar a distância euclidiana entre dois pontos cartesianos.\n",
    "\n",
    "\n"
   ]
  },
  {
   "cell_type": "markdown",
   "id": "ee13e5b7-45a1-4565-8ca7-15c9889cf3a3",
   "metadata": {
    "id": "ee13e5b7-45a1-4565-8ca7-15c9889cf3a3"
   },
   "source": [
    "A função `generate_regressor_data` a seguir vai gerar e salvar os tensores que armazenam as features extraídas do pontos chaves\n",
    "e os vetores de medidas alvos que devemos estimar. Em suma, armazenamos dois tensores de vetores de caractéristicas extraídas dos pontos chaves com tamanho `BxN` onde B é o total de amostras e N é o total de distâncias computadas no módulo `ExtractFeaturesKeypoints`, enquanto outro tensor possui o tamanho `Bx9` para as nove medidas corporais que devemos regredir. Um modelo de Regressão Múltipla de Aprendizado de Máquina ou Aprendizado Profundo deve aprender uma função não linear que vai converter o vetor  `BxN` para o vetor `Bx9`."
   ]
  },
  {
   "cell_type": "code",
   "execution_count": 37,
   "id": "ba8daf4a-11bf-46ff-b720-79f8a1458818",
   "metadata": {
    "id": "ba8daf4a-11bf-46ff-b720-79f8a1458818"
   },
   "outputs": [],
   "source": [
    "@torch.no_grad()\n",
    "def generate_regressor_data(treino_loader, seg_module, kp_module, feature_extractor, save_tensors=False):\n",
    "  from tqdm import tqdm\n",
    "\n",
    "  \"\"\"\n",
    "    Gera os dados de entrada e saída para o treinamento de um modelo de regressão (ex: MLP),\n",
    "    a partir de imagens de treino, utilizando módulos de segmentação e detecção de pontos-chave.\n",
    "\n",
    "    Args:\n",
    "    ----------\n",
    "    treino_loader : torch.utils.data.DataLoader\n",
    "        DataLoader contendo as imagens e os rótulos para o treinamento.\n",
    "\n",
    "    seg_module : objeto de segmentação\n",
    "        Módulo responsável por extrair a silhueta da imagem (ex: DeepLabV3, U2Net).\n",
    "\n",
    "    kp_module : objeto de detecção de pontos-chave\n",
    "        Módulo que extrai os keypoints da silhueta (ex: MediaPipeKeypointsModule, RTPoseKeypointDetectorModule).\n",
    "    feature_extractor:  objeto de extração de vetores de características dos pontos-chave\n",
    "         Módulo que extrai vetores de características dos pontos chaves.\n",
    "    save_tensors : bool, opcional (default=False)\n",
    "        Se True, salva os tensores gerados (features e labels) em arquivos `.pt` no caminho especificado em `config['log_path']`.\n",
    "\n",
    "    Resumo do funcionamento:\n",
    "\n",
    "    - Para cada imagem no `treino_loader`, a função:\n",
    "        1. Move a imagem e o rótulo para o dispositivo (CPU/GPU).\n",
    "        2. Extrai a silhueta da imagem usando `seg_module`.\n",
    "        3. Se a silhueta estiver vazia, gera um vetor de características zerado como fallback.\n",
    "        4. Caso contrário, extrai os pontos-chave da silhueta usando `kp_module`.\n",
    "        5. Converte os keypoints em um vetor de características com `feature_extractor`.\n",
    "        6. Armazena os vetores de características e os rótulos em listas.\n",
    "\n",
    "    - Ao final, empilha os vetores em tensores `X_treino_regressao` e `y_treino_regressao`.\n",
    "\n",
    "    - Se `save_tensors=True`, salva os tensores como arquivos `.pt`.\n",
    "\n",
    "    Returns:\n",
    "    -------\n",
    "    X_treino_regressao : torch.Tensor\n",
    "        Tensor contendo os vetores de características extraídos de cada imagem.\n",
    "\n",
    "    y_treino_regressao : torch.Tensor\n",
    "        Tensor contendo os rótulos correspondentes às imagens.\n",
    "\n",
    "    Observações:\n",
    "    -----------\n",
    "    - A função imprime o total de imagens em que os pontos-chave não foram detectados.\n",
    "    - É necessário que `config` esteja definido globalmente com as chaves `log_path` e `regressor_module_name`.\n",
    "    - A variável `total_keypoints_not_detected` precisa ser inicializada antes do loop.\n",
    "  \"\"\"\n",
    "  global aux\n",
    "  features_list = []\n",
    "  labels_list = []\n",
    "  total_keypoints_not_detected = 0\n",
    "  total_masks_not_segmented = 0\n",
    "\n",
    "  for img, label in tqdm(treino_loader, desc=\"Criando dados de treino da MLP\"):\n",
    "    img, label = img.to(device), label.to(device) # move a imagem e os rótulos para o dispositivo.\n",
    "\n",
    "    mask = seg_module.extract_silhouette(img) # extrai a silhueta da imagem.\n",
    "\n",
    "    # se a silhueta estiver vazia, usa medidas zeradas como fallback\n",
    "    if mask.max() == 0:\n",
    "        #  print(\"Máscara vazia\")\n",
    "          #features = torch.zeros(100).to(device)  # fallback\n",
    "          total_masks_not_segmented = total_masks_not_segmented + 1\n",
    "          continue # ignora\n",
    "    else:\n",
    "          if isinstance(kp_module, MediaPipeKeypointsModule) or isinstance(kp_module, RTPoseKeypointDetectorModule):\n",
    "\n",
    "            if isinstance(seg_module, U2NetSegmentationModule):\n",
    "                img_unormalized = unnormalize_tensor(img.squeeze().cpu().detach())\n",
    "                img_unormalized = (img_unormalized * 255).clip(0, 255).astype(np.uint8) # converte para RGB\n",
    "            elif isinstance(seg_module, DeepLabSegmentationModule):\n",
    "                img_unormalized = (img * 255).clamp(0, 255).byte() # converte para RGB\n",
    "                img_unormalized = img_unormalized.squeeze().permute((1,2,0)).cpu().detach()\n",
    "                img_unormalized = img_unormalized.numpy().astype(np.uint8)\n",
    "\n",
    "            # detectar pontos chaves\n",
    "            keypoints = kp_module.detector.detect(\n",
    "                 img_unormalized,\n",
    "                 mask\n",
    "            )\n",
    "\n",
    "          else:\n",
    "            keypoints = kp_module.extract_keypoints(mask)\n",
    "\n",
    "          if keypoints is not None: # se não detectou pontos chaves\n",
    "            features = feature_extractor(keypoints).to(device)\n",
    "          else:\n",
    "            total_keypoints_not_detected =  total_keypoints_not_detected + 1\n",
    "            continue\n",
    "\n",
    "    label = label.view(-1).to(device)\n",
    "\n",
    "    features_list.append(features.cpu())\n",
    "    labels_list.append(label.cpu())\n",
    "\n",
    "\n",
    "  # Conversão para tensores e salva\n",
    "  X_treino_regressao = torch.stack(features_list)  # shape: [total_amostras, total_distancias]\n",
    "  y_treino_regressao = torch.stack(labels_list)    # shape: [total_amostras, total_medidas_alvo]\n",
    "\n",
    "  if save_tensors:\n",
    "    torch.save(X_treino_regressao,\n",
    "               os.path.join(config['log_path'],\n",
    "                            \"X_treino_regressao_{}_{}.pt\".format(config['segmentation_module_name'],config['keypoint_module_name'])\n",
    "    ))\n",
    "    torch.save(y_treino_regressao, os.path.join(\n",
    "        config['log_path'],\n",
    "        \"y_treino_regressao_{}_{}.pt\".format(config['segmentation_module_name'],config['keypoint_module_name'])\n",
    "    ))\n",
    "\n",
    "  print(\"[INFO] Total de imagens com Pontos Chaves não detectados: \", total_keypoints_not_detected)\n",
    "  print(\"[INFO] Total de imagens com máscaras previstas vazias: \", total_masks_not_segmented)\n",
    "\n",
    "  return X_treino_regressao, y_treino_regressao\n"
   ]
  },
  {
   "cell_type": "code",
   "execution_count": null,
   "id": "6J-LXPtGZ3cQ",
   "metadata": {
    "colab": {
     "base_uri": "https://localhost:8080/"
    },
    "id": "6J-LXPtGZ3cQ",
    "outputId": "7f8d670c-9c23-4fd9-b007-739ad5580355"
   },
   "outputs": [
    {
     "data": {
      "text/plain": [
       "{'colab': True,\n",
       " 'dataset_path': '/content/drive/MyDrive/Colab Notebooks/SelecaoINOVIA/datasets',\n",
       " 'destination_path': '/content/unzipped_files',\n",
       " 'log_path': '/content/deteccao_pontos_chaves/log',\n",
       " 'regressor_module_name': 'XGBoost',\n",
       " 'keypoint_module_name': 'RTPose',\n",
       " 'segmentation_module_name': 'U2Net',\n",
       " 'train': {'batch_size': 120,\n",
       "  'learning_rate': '1e-7',\n",
       "  'u2net_seg_human_model_path': ''}}"
      ]
     },
     "execution_count": 18,
     "metadata": {},
     "output_type": "execute_result"
    }
   ],
   "source": [
    "config"
   ]
  },
  {
   "cell_type": "markdown",
   "id": "xdl4UeitQpmc",
   "metadata": {
    "id": "xdl4UeitQpmc"
   },
   "source": [
    "Nota: não esqueça de alterar o caminho para os pesos da U2Net no arquivo de configuração.\n",
    "- O Link para baixar o modelo u2net_human_seg.pth é [U2Net](https://drive.google.com/file/d/1m_Kgs91b21gayc2XLW0ou8yugAIadWVP/view?usp=sharing)\n",
    "- Se estiver no Colab, arraste o arquivo  u2net_human_seg.pth para o ambiente do\n",
    "colab no canto esquerdo da tela."
   ]
  },
  {
   "cell_type": "code",
   "execution_count": 38,
   "id": "gGQBpmzNeZbq",
   "metadata": {
    "id": "gGQBpmzNeZbq"
   },
   "outputs": [],
   "source": [
    "\n",
    "torch.cuda.empty_cache()\n",
    "device = torch.device(\"cuda\" if torch.cuda.is_available() else \"cpu\")\n"
   ]
  },
  {
   "cell_type": "code",
   "execution_count": 39,
   "id": "tDf_JVrReYHh",
   "metadata": {
    "id": "tDf_JVrReYHh"
   },
   "outputs": [],
   "source": [
    "## Instanciação dos módulo de Segmentação\n",
    "\n",
    "if config['segmentation_module_name'] == 'DeepLabV3':\n",
    "  seg_module = DeepLabSegmentationModule(device=device)\n",
    "elif config['segmentation_module_name'] == 'U2Net':\n",
    "  seg_module = U2NetSegmentationModule(\n",
    "      config['train']['u2net_seg_human_model_path'],\n",
    "      device\n",
    "  )\n",
    "else:\n",
    "   raise ValueError(f\"Módulo de segmentação desconhecido: {config['segmentation_module_name']}\")\n"
   ]
  },
  {
   "cell_type": "code",
   "execution_count": 40,
   "id": "5b7b6bc3-21be-41e9-860b-58489e680dd8",
   "metadata": {
    "colab": {
     "base_uri": "https://localhost:8080/",
     "height": 257,
     "referenced_widgets": [
      "936567ca6e1f4e59a58693c519895bf5",
      "9afc6b826ace41ada0ac0e73b55d583a",
      "ce736546d614489ebac39a8d61b41edc",
      "fb10e396b89046d6ab487a1705ae9560",
      "ef1579d1a4b74b1b8afc6f16efab23fc",
      "78f8aa22ccdd4cd298de9d9db48a1665",
      "6aae9d8010d54197a67caa278a5ee40a",
      "d246c08b17864f28be4aaf371659a281",
      "6d7c708e79ae49b882adcd3916ab072c",
      "4f66ef8604154bbca9f1f9b5dd64064f",
      "b27ba1e09f6044288bd192ce26955c05",
      "08fa38eaabfa4411a1155795f987aa96",
      "edb5f026730545da903a3a580cbd9af0",
      "3a9163b09e9f4c09bd91a832a09814bf",
      "5075368b4e13434caaad43a1bc8b7d58",
      "a67d0a0f26594996a3ad1a4678cd9ca9",
      "a76f30c3b95d49e59bbfe6cf502bc68f",
      "5b636d418a7641cf8192a396bcee5d14",
      "20f6dc391ca24a7b9a5d6b9e88abf3ed",
      "cfc7fdeb45c24793a30289380d1f04d3",
      "8696d8d93f8f44bd90bb16b6b803881a",
      "4effced031b6403b9406bf999df6b9d2",
      "062068fc41f643658384b05a42ef4ec0",
      "7220622fab6840a4bc630b13808c39af",
      "147ebafb1dea4ee69b42e9474adbad2b",
      "bf5fdb802b62423d8b5d7913be536bf8",
      "070b2fb9e0ca498c94e5629672a16d72",
      "c5954ed7a268425a93803060d36bafe7",
      "1a2b765164b64748a3a29de01caa0a80",
      "431420cea7ee4a61bb42b7f965ba8d36",
      "685d1e28540348a693e094711d91eb36",
      "d6945b9821434722a45d150e5ac76480",
      "0c4ed2d9e3d241d78ea1fb89a76a45b8",
      "fd75d410e3f649efaad0459225878fa6",
      "dea8f9d1e6174206ae23b212ffb443bb",
      "e76d639c747e443b944e3d4ca96f4be4",
      "53234f46b9b843cf9143489d877bd663",
      "cbe84a921b39492f8467685079c86d26",
      "c7a52b9b58884888b0a16598cf9aae0b",
      "337dda31f29741a0aa7e4baa38bf488d",
      "031fcde1b15d49cc845a480f437f5219",
      "37a9452600c44f29882d42b249fce5c8",
      "b8ad80581b984d0bac72d46045cecef5",
      "2d13916366284b0ebdff1eb40c384590"
     ]
    },
    "id": "5b7b6bc3-21be-41e9-860b-58489e680dd8",
    "outputId": "8889f1bc-f432-435f-e28e-a564dd907fa5"
   },
   "outputs": [
    {
     "name": "stderr",
     "output_type": "stream",
     "text": [
      "\u001b[32m2025-09-27 23:49:23.560\u001b[0m | \u001b[1mINFO    \u001b[0m | \u001b[36mrt_pose.pipeline\u001b[0m:\u001b[36m_load_detector\u001b[0m:\u001b[36m70\u001b[0m - \u001b[1mLoading detector from `PekingU/rtdetr_r50vd_coco_o365`...\u001b[0m\n"
     ]
    },
    {
     "data": {
      "application/vnd.jupyter.widget-view+json": {
       "model_id": "936567ca6e1f4e59a58693c519895bf5",
       "version_major": 2,
       "version_minor": 0
      },
      "text/plain": [
       "Fetching 1 files:   0%|          | 0/1 [00:00<?, ?it/s]"
      ]
     },
     "metadata": {},
     "output_type": "display_data"
    },
    {
     "data": {
      "application/vnd.jupyter.widget-view+json": {
       "model_id": "08fa38eaabfa4411a1155795f987aa96",
       "version_major": 2,
       "version_minor": 0
      },
      "text/plain": [
       "Fetching 1 files:   0%|          | 0/1 [00:00<?, ?it/s]"
      ]
     },
     "metadata": {},
     "output_type": "display_data"
    },
    {
     "name": "stderr",
     "output_type": "stream",
     "text": [
      "\u001b[32m2025-09-27 23:49:25.110\u001b[0m | \u001b[1mINFO    \u001b[0m | \u001b[36mrt_pose.pipeline\u001b[0m:\u001b[36m_load_detector\u001b[0m:\u001b[36m74\u001b[0m - \u001b[1mDetector loaded to `cuda` with dtype `torch.float32`!\u001b[0m\n",
      "\u001b[32m2025-09-27 23:49:25.110\u001b[0m | \u001b[1mINFO    \u001b[0m | \u001b[36mrt_pose.pipeline\u001b[0m:\u001b[36m_load_pose_estimator\u001b[0m:\u001b[36m79\u001b[0m - \u001b[1mLoading pose estimator from `usyd-community/vitpose-plus-small`...\u001b[0m\n"
     ]
    },
    {
     "data": {
      "application/vnd.jupyter.widget-view+json": {
       "model_id": "062068fc41f643658384b05a42ef4ec0",
       "version_major": 2,
       "version_minor": 0
      },
      "text/plain": [
       "Fetching 1 files:   0%|          | 0/1 [00:00<?, ?it/s]"
      ]
     },
     "metadata": {},
     "output_type": "display_data"
    },
    {
     "data": {
      "application/vnd.jupyter.widget-view+json": {
       "model_id": "fd75d410e3f649efaad0459225878fa6",
       "version_major": 2,
       "version_minor": 0
      },
      "text/plain": [
       "Fetching 1 files:   0%|          | 0/1 [00:00<?, ?it/s]"
      ]
     },
     "metadata": {},
     "output_type": "display_data"
    },
    {
     "name": "stderr",
     "output_type": "stream",
     "text": [
      "\u001b[32m2025-09-27 23:49:26.359\u001b[0m | \u001b[1mINFO    \u001b[0m | \u001b[36mrt_pose.pipeline\u001b[0m:\u001b[36m_load_pose_estimator\u001b[0m:\u001b[36m83\u001b[0m - \u001b[1mPose estimator loaded to `cuda` with dtype `torch.float32`!\u001b[0m\n",
      "\u001b[32m2025-09-27 23:49:26.360\u001b[0m | \u001b[1mINFO    \u001b[0m | \u001b[36mrt_pose.pipeline\u001b[0m:\u001b[36m__init__\u001b[0m:\u001b[36m66\u001b[0m - \u001b[1mPipeline initialized successfully!\u001b[0m\n"
     ]
    }
   ],
   "source": [
    "## Instanciação dos módulo de Detecção de Pontos Chaves\n",
    "\n",
    "\n",
    "if config['keypoint_module_name'] == 'RTPose':\n",
    "  kp_module = RTPoseKeypointDetectorModule()\n",
    "elif config['keypoint_module_name'] == 'BlazePose':\n",
    "  kp_module = MediaPipeKeypointsModule()\n",
    "elif config['keypoint_module_name'] == 'Heuristic':\n",
    "  kp_module = KeypointsModule()\n",
    "else:\n",
    "   raise ValueError(f\"Módulo de detecção de pontos chaves desconhecido: {config['keypoint_module_name']}\")\n",
    "\n",
    "\n",
    "## Instanciação do extrator de caractéristicas de pontos chaves\n",
    "\n",
    "feature_extractor = ExtractFeaturesKeypoints().to(device)\n"
   ]
  },
  {
   "cell_type": "markdown",
   "id": "LY9DhMf7SrJg",
   "metadata": {
    "id": "LY9DhMf7SrJg"
   },
   "source": [
    "Para cada amostra de treino, extrairemos os vetores de características correspondentes aos pontos-chave, juntamente com seus respectivos rótulos. Esses dados serão então organizados e salvos em tensores do PyTorch, permitindo reutilização eficiente durante a execução do notebook.\n",
    "\n",
    "- Os tensores serão salvo no config['log_path']"
   ]
  },
  {
   "cell_type": "code",
   "execution_count": 41,
   "id": "QLWcM7hsZN4h",
   "metadata": {
    "id": "QLWcM7hsZN4h"
   },
   "outputs": [],
   "source": [
    "config['log_path']  =  os.path.join(codigo_base_path, \"log\")"
   ]
  },
  {
   "cell_type": "code",
   "execution_count": 42,
   "id": "t5EN-n-yS8F4",
   "metadata": {
    "colab": {
     "base_uri": "https://localhost:8080/",
     "height": 393
    },
    "id": "t5EN-n-yS8F4",
    "outputId": "517e50b0-9521-4fcf-c50f-c22b62e997de"
   },
   "outputs": [
    {
     "name": "stderr",
     "output_type": "stream",
     "text": [
      "Criando dados de treino da MLP:   0%|          | 47/15392 [00:06<34:05,  7.50it/s]\n"
     ]
    },
    {
     "ename": "KeyboardInterrupt",
     "evalue": "",
     "output_type": "error",
     "traceback": [
      "\u001b[0;31m---------------------------------------------------------------------------\u001b[0m",
      "\u001b[0;31mKeyboardInterrupt\u001b[0m                         Traceback (most recent call last)",
      "\u001b[0;32m/tmp/ipython-input-998224302.py\u001b[0m in \u001b[0;36m<cell line: 0>\u001b[0;34m()\u001b[0m\n\u001b[1;32m      4\u001b[0m \u001b[0;34m\u001b[0m\u001b[0m\n\u001b[1;32m      5\u001b[0m \u001b[0;34m\u001b[0m\u001b[0m\n\u001b[0;32m----> 6\u001b[0;31m X_treino_regressao, y_treino_regressao = generate_regressor_data(\n\u001b[0m\u001b[1;32m      7\u001b[0m     \u001b[0mtreino_loader\u001b[0m \u001b[0;34m=\u001b[0m \u001b[0mtreino_loader\u001b[0m\u001b[0;34m,\u001b[0m\u001b[0;34m\u001b[0m\u001b[0;34m\u001b[0m\u001b[0m\n\u001b[1;32m      8\u001b[0m     \u001b[0mseg_module\u001b[0m \u001b[0;34m=\u001b[0m \u001b[0mseg_module\u001b[0m\u001b[0;34m,\u001b[0m\u001b[0;34m\u001b[0m\u001b[0;34m\u001b[0m\u001b[0m\n",
      "\u001b[0;32m/usr/local/lib/python3.12/dist-packages/torch/utils/_contextlib.py\u001b[0m in \u001b[0;36mdecorate_context\u001b[0;34m(*args, **kwargs)\u001b[0m\n\u001b[1;32m    118\u001b[0m     \u001b[0;32mdef\u001b[0m \u001b[0mdecorate_context\u001b[0m\u001b[0;34m(\u001b[0m\u001b[0;34m*\u001b[0m\u001b[0margs\u001b[0m\u001b[0;34m,\u001b[0m \u001b[0;34m**\u001b[0m\u001b[0mkwargs\u001b[0m\u001b[0;34m)\u001b[0m\u001b[0;34m:\u001b[0m\u001b[0;34m\u001b[0m\u001b[0;34m\u001b[0m\u001b[0m\n\u001b[1;32m    119\u001b[0m         \u001b[0;32mwith\u001b[0m \u001b[0mctx_factory\u001b[0m\u001b[0;34m(\u001b[0m\u001b[0;34m)\u001b[0m\u001b[0;34m:\u001b[0m\u001b[0;34m\u001b[0m\u001b[0;34m\u001b[0m\u001b[0m\n\u001b[0;32m--> 120\u001b[0;31m             \u001b[0;32mreturn\u001b[0m \u001b[0mfunc\u001b[0m\u001b[0;34m(\u001b[0m\u001b[0;34m*\u001b[0m\u001b[0margs\u001b[0m\u001b[0;34m,\u001b[0m \u001b[0;34m**\u001b[0m\u001b[0mkwargs\u001b[0m\u001b[0;34m)\u001b[0m\u001b[0;34m\u001b[0m\u001b[0;34m\u001b[0m\u001b[0m\n\u001b[0m\u001b[1;32m    121\u001b[0m \u001b[0;34m\u001b[0m\u001b[0m\n\u001b[1;32m    122\u001b[0m     \u001b[0;32mreturn\u001b[0m \u001b[0mdecorate_context\u001b[0m\u001b[0;34m\u001b[0m\u001b[0;34m\u001b[0m\u001b[0m\n",
      "\u001b[0;32m/tmp/ipython-input-3607301061.py\u001b[0m in \u001b[0;36mgenerate_regressor_data\u001b[0;34m(treino_loader, seg_module, kp_module, feature_extractor, save_tensors)\u001b[0m\n\u001b[1;32m     56\u001b[0m   \u001b[0mtotal_masks_not_segmented\u001b[0m \u001b[0;34m=\u001b[0m \u001b[0;36m0\u001b[0m\u001b[0;34m\u001b[0m\u001b[0;34m\u001b[0m\u001b[0m\n\u001b[1;32m     57\u001b[0m \u001b[0;34m\u001b[0m\u001b[0m\n\u001b[0;32m---> 58\u001b[0;31m   \u001b[0;32mfor\u001b[0m \u001b[0mimg\u001b[0m\u001b[0;34m,\u001b[0m \u001b[0mlabel\u001b[0m \u001b[0;32min\u001b[0m \u001b[0mtqdm\u001b[0m\u001b[0;34m(\u001b[0m\u001b[0mtreino_loader\u001b[0m\u001b[0;34m,\u001b[0m \u001b[0mdesc\u001b[0m\u001b[0;34m=\u001b[0m\u001b[0;34m\"Criando dados de treino da MLP\"\u001b[0m\u001b[0;34m)\u001b[0m\u001b[0;34m:\u001b[0m\u001b[0;34m\u001b[0m\u001b[0;34m\u001b[0m\u001b[0m\n\u001b[0m\u001b[1;32m     59\u001b[0m     \u001b[0mimg\u001b[0m\u001b[0;34m,\u001b[0m \u001b[0mlabel\u001b[0m \u001b[0;34m=\u001b[0m \u001b[0mimg\u001b[0m\u001b[0;34m.\u001b[0m\u001b[0mto\u001b[0m\u001b[0;34m(\u001b[0m\u001b[0mdevice\u001b[0m\u001b[0;34m)\u001b[0m\u001b[0;34m,\u001b[0m \u001b[0mlabel\u001b[0m\u001b[0;34m.\u001b[0m\u001b[0mto\u001b[0m\u001b[0;34m(\u001b[0m\u001b[0mdevice\u001b[0m\u001b[0;34m)\u001b[0m \u001b[0;31m# move a imagem e os rótulos para o dispositivo.\u001b[0m\u001b[0;34m\u001b[0m\u001b[0;34m\u001b[0m\u001b[0m\n\u001b[1;32m     60\u001b[0m \u001b[0;34m\u001b[0m\u001b[0m\n",
      "\u001b[0;32m/usr/local/lib/python3.12/dist-packages/tqdm/std.py\u001b[0m in \u001b[0;36m__iter__\u001b[0;34m(self)\u001b[0m\n\u001b[1;32m   1179\u001b[0m \u001b[0;34m\u001b[0m\u001b[0m\n\u001b[1;32m   1180\u001b[0m         \u001b[0;32mtry\u001b[0m\u001b[0;34m:\u001b[0m\u001b[0;34m\u001b[0m\u001b[0;34m\u001b[0m\u001b[0m\n\u001b[0;32m-> 1181\u001b[0;31m             \u001b[0;32mfor\u001b[0m \u001b[0mobj\u001b[0m \u001b[0;32min\u001b[0m \u001b[0miterable\u001b[0m\u001b[0;34m:\u001b[0m\u001b[0;34m\u001b[0m\u001b[0;34m\u001b[0m\u001b[0m\n\u001b[0m\u001b[1;32m   1182\u001b[0m                 \u001b[0;32myield\u001b[0m \u001b[0mobj\u001b[0m\u001b[0;34m\u001b[0m\u001b[0;34m\u001b[0m\u001b[0m\n\u001b[1;32m   1183\u001b[0m                 \u001b[0;31m# Update and possibly print the progressbar.\u001b[0m\u001b[0;34m\u001b[0m\u001b[0;34m\u001b[0m\u001b[0m\n",
      "\u001b[0;32m/usr/local/lib/python3.12/dist-packages/torch/utils/data/dataloader.py\u001b[0m in \u001b[0;36m__next__\u001b[0;34m(self)\u001b[0m\n\u001b[1;32m    732\u001b[0m                 \u001b[0;31m# TODO(https://github.com/pytorch/pytorch/issues/76750)\u001b[0m\u001b[0;34m\u001b[0m\u001b[0;34m\u001b[0m\u001b[0m\n\u001b[1;32m    733\u001b[0m                 \u001b[0mself\u001b[0m\u001b[0;34m.\u001b[0m\u001b[0m_reset\u001b[0m\u001b[0;34m(\u001b[0m\u001b[0;34m)\u001b[0m  \u001b[0;31m# type: ignore[call-arg]\u001b[0m\u001b[0;34m\u001b[0m\u001b[0;34m\u001b[0m\u001b[0m\n\u001b[0;32m--> 734\u001b[0;31m             \u001b[0mdata\u001b[0m \u001b[0;34m=\u001b[0m \u001b[0mself\u001b[0m\u001b[0;34m.\u001b[0m\u001b[0m_next_data\u001b[0m\u001b[0;34m(\u001b[0m\u001b[0;34m)\u001b[0m\u001b[0;34m\u001b[0m\u001b[0;34m\u001b[0m\u001b[0m\n\u001b[0m\u001b[1;32m    735\u001b[0m             \u001b[0mself\u001b[0m\u001b[0;34m.\u001b[0m\u001b[0m_num_yielded\u001b[0m \u001b[0;34m+=\u001b[0m \u001b[0;36m1\u001b[0m\u001b[0;34m\u001b[0m\u001b[0;34m\u001b[0m\u001b[0m\n\u001b[1;32m    736\u001b[0m             if (\n",
      "\u001b[0;32m/usr/local/lib/python3.12/dist-packages/torch/utils/data/dataloader.py\u001b[0m in \u001b[0;36m_next_data\u001b[0;34m(self)\u001b[0m\n\u001b[1;32m    788\u001b[0m     \u001b[0;32mdef\u001b[0m \u001b[0m_next_data\u001b[0m\u001b[0;34m(\u001b[0m\u001b[0mself\u001b[0m\u001b[0;34m)\u001b[0m\u001b[0;34m:\u001b[0m\u001b[0;34m\u001b[0m\u001b[0;34m\u001b[0m\u001b[0m\n\u001b[1;32m    789\u001b[0m         \u001b[0mindex\u001b[0m \u001b[0;34m=\u001b[0m \u001b[0mself\u001b[0m\u001b[0;34m.\u001b[0m\u001b[0m_next_index\u001b[0m\u001b[0;34m(\u001b[0m\u001b[0;34m)\u001b[0m  \u001b[0;31m# may raise StopIteration\u001b[0m\u001b[0;34m\u001b[0m\u001b[0;34m\u001b[0m\u001b[0m\n\u001b[0;32m--> 790\u001b[0;31m         \u001b[0mdata\u001b[0m \u001b[0;34m=\u001b[0m \u001b[0mself\u001b[0m\u001b[0;34m.\u001b[0m\u001b[0m_dataset_fetcher\u001b[0m\u001b[0;34m.\u001b[0m\u001b[0mfetch\u001b[0m\u001b[0;34m(\u001b[0m\u001b[0mindex\u001b[0m\u001b[0;34m)\u001b[0m  \u001b[0;31m# may raise StopIteration\u001b[0m\u001b[0;34m\u001b[0m\u001b[0;34m\u001b[0m\u001b[0m\n\u001b[0m\u001b[1;32m    791\u001b[0m         \u001b[0;32mif\u001b[0m \u001b[0mself\u001b[0m\u001b[0;34m.\u001b[0m\u001b[0m_pin_memory\u001b[0m\u001b[0;34m:\u001b[0m\u001b[0;34m\u001b[0m\u001b[0;34m\u001b[0m\u001b[0m\n\u001b[1;32m    792\u001b[0m             \u001b[0mdata\u001b[0m \u001b[0;34m=\u001b[0m \u001b[0m_utils\u001b[0m\u001b[0;34m.\u001b[0m\u001b[0mpin_memory\u001b[0m\u001b[0;34m.\u001b[0m\u001b[0mpin_memory\u001b[0m\u001b[0;34m(\u001b[0m\u001b[0mdata\u001b[0m\u001b[0;34m,\u001b[0m \u001b[0mself\u001b[0m\u001b[0;34m.\u001b[0m\u001b[0m_pin_memory_device\u001b[0m\u001b[0;34m)\u001b[0m\u001b[0;34m\u001b[0m\u001b[0;34m\u001b[0m\u001b[0m\n",
      "\u001b[0;32m/usr/local/lib/python3.12/dist-packages/torch/utils/data/_utils/fetch.py\u001b[0m in \u001b[0;36mfetch\u001b[0;34m(self, possibly_batched_index)\u001b[0m\n\u001b[1;32m     50\u001b[0m                 \u001b[0mdata\u001b[0m \u001b[0;34m=\u001b[0m \u001b[0mself\u001b[0m\u001b[0;34m.\u001b[0m\u001b[0mdataset\u001b[0m\u001b[0;34m.\u001b[0m\u001b[0m__getitems__\u001b[0m\u001b[0;34m(\u001b[0m\u001b[0mpossibly_batched_index\u001b[0m\u001b[0;34m)\u001b[0m\u001b[0;34m\u001b[0m\u001b[0;34m\u001b[0m\u001b[0m\n\u001b[1;32m     51\u001b[0m             \u001b[0;32melse\u001b[0m\u001b[0;34m:\u001b[0m\u001b[0;34m\u001b[0m\u001b[0;34m\u001b[0m\u001b[0m\n\u001b[0;32m---> 52\u001b[0;31m                 \u001b[0mdata\u001b[0m \u001b[0;34m=\u001b[0m \u001b[0;34m[\u001b[0m\u001b[0mself\u001b[0m\u001b[0;34m.\u001b[0m\u001b[0mdataset\u001b[0m\u001b[0;34m[\u001b[0m\u001b[0midx\u001b[0m\u001b[0;34m]\u001b[0m \u001b[0;32mfor\u001b[0m \u001b[0midx\u001b[0m \u001b[0;32min\u001b[0m \u001b[0mpossibly_batched_index\u001b[0m\u001b[0;34m]\u001b[0m\u001b[0;34m\u001b[0m\u001b[0;34m\u001b[0m\u001b[0m\n\u001b[0m\u001b[1;32m     53\u001b[0m         \u001b[0;32melse\u001b[0m\u001b[0;34m:\u001b[0m\u001b[0;34m\u001b[0m\u001b[0;34m\u001b[0m\u001b[0m\n\u001b[1;32m     54\u001b[0m             \u001b[0mdata\u001b[0m \u001b[0;34m=\u001b[0m \u001b[0mself\u001b[0m\u001b[0;34m.\u001b[0m\u001b[0mdataset\u001b[0m\u001b[0;34m[\u001b[0m\u001b[0mpossibly_batched_index\u001b[0m\u001b[0;34m]\u001b[0m\u001b[0;34m\u001b[0m\u001b[0;34m\u001b[0m\u001b[0m\n",
      "\u001b[0;32m/content/deteccao_pontos_chaves/dataset/dataset.py\u001b[0m in \u001b[0;36m__getitem__\u001b[0;34m(self, idx)\u001b[0m\n\u001b[1;32m    136\u001b[0m         \u001b[0mimg_path\u001b[0m \u001b[0;34m=\u001b[0m \u001b[0mself\u001b[0m\u001b[0;34m.\u001b[0m\u001b[0mimage_paths\u001b[0m\u001b[0;34m[\u001b[0m\u001b[0midx\u001b[0m\u001b[0;34m]\u001b[0m\u001b[0;34m\u001b[0m\u001b[0;34m\u001b[0m\u001b[0m\n\u001b[1;32m    137\u001b[0m         \u001b[0mimg_path\u001b[0m \u001b[0;34m=\u001b[0m \u001b[0mos\u001b[0m\u001b[0;34m.\u001b[0m\u001b[0mpath\u001b[0m\u001b[0;34m.\u001b[0m\u001b[0mjoin\u001b[0m\u001b[0;34m(\u001b[0m\u001b[0mself\u001b[0m\u001b[0;34m.\u001b[0m\u001b[0mdataset_path\u001b[0m\u001b[0;34m,\u001b[0m \u001b[0mimg_path\u001b[0m\u001b[0;34m)\u001b[0m\u001b[0;34m\u001b[0m\u001b[0;34m\u001b[0m\u001b[0m\n\u001b[0;32m--> 138\u001b[0;31m         \u001b[0mimage\u001b[0m \u001b[0;34m=\u001b[0m \u001b[0mImage\u001b[0m\u001b[0;34m.\u001b[0m\u001b[0mopen\u001b[0m\u001b[0;34m(\u001b[0m\u001b[0mimg_path\u001b[0m\u001b[0;34m)\u001b[0m\u001b[0;34m.\u001b[0m\u001b[0mconvert\u001b[0m\u001b[0;34m(\u001b[0m\u001b[0;34m\"RGB\"\u001b[0m\u001b[0;34m)\u001b[0m\u001b[0;34m\u001b[0m\u001b[0;34m\u001b[0m\u001b[0m\n\u001b[0m\u001b[1;32m    139\u001b[0m         \u001b[0mimage\u001b[0m \u001b[0;34m=\u001b[0m \u001b[0mself\u001b[0m\u001b[0;34m.\u001b[0m\u001b[0mtransform\u001b[0m\u001b[0;34m(\u001b[0m\u001b[0mimage\u001b[0m\u001b[0;34m)\u001b[0m\u001b[0;34m\u001b[0m\u001b[0;34m\u001b[0m\u001b[0m\n\u001b[1;32m    140\u001b[0m \u001b[0;34m\u001b[0m\u001b[0m\n",
      "\u001b[0;32m/usr/local/lib/python3.12/dist-packages/PIL/Image.py\u001b[0m in \u001b[0;36mconvert\u001b[0;34m(self, mode, matrix, dither, palette, colors)\u001b[0m\n\u001b[1;32m    984\u001b[0m             \u001b[0mdeprecate\u001b[0m\u001b[0;34m(\u001b[0m\u001b[0mmode\u001b[0m\u001b[0;34m,\u001b[0m \u001b[0;36m12\u001b[0m\u001b[0;34m)\u001b[0m\u001b[0;34m\u001b[0m\u001b[0;34m\u001b[0m\u001b[0m\n\u001b[1;32m    985\u001b[0m \u001b[0;34m\u001b[0m\u001b[0m\n\u001b[0;32m--> 986\u001b[0;31m         \u001b[0mself\u001b[0m\u001b[0;34m.\u001b[0m\u001b[0mload\u001b[0m\u001b[0;34m(\u001b[0m\u001b[0;34m)\u001b[0m\u001b[0;34m\u001b[0m\u001b[0;34m\u001b[0m\u001b[0m\n\u001b[0m\u001b[1;32m    987\u001b[0m \u001b[0;34m\u001b[0m\u001b[0m\n\u001b[1;32m    988\u001b[0m         \u001b[0mhas_transparency\u001b[0m \u001b[0;34m=\u001b[0m \u001b[0;34m\"transparency\"\u001b[0m \u001b[0;32min\u001b[0m \u001b[0mself\u001b[0m\u001b[0;34m.\u001b[0m\u001b[0minfo\u001b[0m\u001b[0;34m\u001b[0m\u001b[0;34m\u001b[0m\u001b[0m\n",
      "\u001b[0;32m/usr/local/lib/python3.12/dist-packages/PIL/ImageFile.py\u001b[0m in \u001b[0;36mload\u001b[0;34m(self)\u001b[0m\n\u001b[1;32m    388\u001b[0m \u001b[0;34m\u001b[0m\u001b[0m\n\u001b[1;32m    389\u001b[0m                             \u001b[0mb\u001b[0m \u001b[0;34m=\u001b[0m \u001b[0mb\u001b[0m \u001b[0;34m+\u001b[0m \u001b[0ms\u001b[0m\u001b[0;34m\u001b[0m\u001b[0;34m\u001b[0m\u001b[0m\n\u001b[0;32m--> 390\u001b[0;31m                             \u001b[0mn\u001b[0m\u001b[0;34m,\u001b[0m \u001b[0merr_code\u001b[0m \u001b[0;34m=\u001b[0m \u001b[0mdecoder\u001b[0m\u001b[0;34m.\u001b[0m\u001b[0mdecode\u001b[0m\u001b[0;34m(\u001b[0m\u001b[0mb\u001b[0m\u001b[0;34m)\u001b[0m\u001b[0;34m\u001b[0m\u001b[0;34m\u001b[0m\u001b[0m\n\u001b[0m\u001b[1;32m    391\u001b[0m                             \u001b[0;32mif\u001b[0m \u001b[0mn\u001b[0m \u001b[0;34m<\u001b[0m \u001b[0;36m0\u001b[0m\u001b[0;34m:\u001b[0m\u001b[0;34m\u001b[0m\u001b[0;34m\u001b[0m\u001b[0m\n\u001b[1;32m    392\u001b[0m                                 \u001b[0;32mbreak\u001b[0m\u001b[0;34m\u001b[0m\u001b[0;34m\u001b[0m\u001b[0m\n",
      "\u001b[0;31mKeyboardInterrupt\u001b[0m: "
     ]
    }
   ],
   "source": [
    "import time\n",
    "\n",
    "start_time = time.time()\n",
    "\n",
    "\n",
    "X_treino_regressao, y_treino_regressao = generate_regressor_data(\n",
    "    treino_loader = treino_loader,\n",
    "    seg_module = seg_module,\n",
    "    kp_module = kp_module,\n",
    "    feature_extractor = feature_extractor,\n",
    "    save_tensors = True)\n",
    "\n",
    "end_time = time.time()\n",
    "\n",
    "elapsed_time = end_time - start_time\n",
    "\n",
    "print(f\"Tempo de execução: {elapsed_time:.2f} segundos\")\n"
   ]
  },
  {
   "cell_type": "code",
   "execution_count": null,
   "id": "6b1bf32f-b202-4737-a833-c95f3a8bd8c2",
   "metadata": {
    "id": "6b1bf32f-b202-4737-a833-c95f3a8bd8c2"
   },
   "outputs": [],
   "source": [
    "X_treino_regressao_numpy = X_treino_regressao.cpu().detach().numpy()\n",
    "y_treino_regressao_numpy =  y_treino_regressao.cpu().detach().numpy()"
   ]
  },
  {
   "cell_type": "markdown",
   "id": "922a8925-8c94-4e71-8b26-14aadc9c013c",
   "metadata": {
    "id": "922a8925-8c94-4e71-8b26-14aadc9c013c"
   },
   "source": [
    "Antes de iniciar o treinamento do XGBoost, vamos preparar os vetores de caracteríticas de entrada usando uma normalização similar aquela normalização usada nas medidas alvos no `RegressaoDataset`. Nesse, vamos apenas dividir cada vetor de características (distancias euclidianas computadas) extraídos dos pontos chave por seu valor máximo. Isso pode ser útil pois podemos colocar os valores na mesma escala, o que certamente facilita o aprendizado do modelo e evita que \"features\" com valores maiores dominem sobre outras. Logo, essa normalização simples, baseada no valor máximo de cada vetor, deve garantir que todas as distâncias fiquem em uma faixa comparável, geralmente entre 0 e 1. Além disso, essa normalização deve preservar as proporções relativas entre os pontos."
   ]
  },
  {
   "cell_type": "code",
   "execution_count": null,
   "id": "0d47c698-a141-43c5-92ba-fcd65ffc0491",
   "metadata": {
    "colab": {
     "base_uri": "https://localhost:8080/"
    },
    "id": "0d47c698-a141-43c5-92ba-fcd65ffc0491",
    "outputId": "d21af0de-d676-4264-fd10-74665f49db84"
   },
   "outputs": [
    {
     "name": "stdout",
     "output_type": "stream",
     "text": [
      "[[398.]\n",
      " [395.]\n",
      " [404.]\n",
      " ...\n",
      " [414.]\n",
      " [372.]\n",
      " [369.]]\n"
     ]
    }
   ],
   "source": [
    "maximo_linha = np.max(X_treino_regressao_numpy, axis=1, keepdims=True) # computa o maior valor de cada vetor no conjunto de treino de entrada\n",
    "print(maximo_linha)"
   ]
  },
  {
   "cell_type": "code",
   "execution_count": null,
   "id": "aa284483-1cd9-448a-b820-d646024c113f",
   "metadata": {
    "id": "aa284483-1cd9-448a-b820-d646024c113f"
   },
   "outputs": [],
   "source": [
    "X_treino_regressao_numpy = X_treino_regressao_numpy / maximo_linha + 1e-10 # normalizando entrada"
   ]
  },
  {
   "cell_type": "code",
   "execution_count": null,
   "id": "caed958a-7564-474c-bc3e-8cf1f0b09674",
   "metadata": {
    "colab": {
     "base_uri": "https://localhost:8080/"
    },
    "id": "caed958a-7564-474c-bc3e-8cf1f0b09674",
    "outputId": "d92607a1-683e-43f1-e821-a22ecb4cab63"
   },
   "outputs": [
    {
     "name": "stdout",
     "output_type": "stream",
     "text": [
      "XGBoost tempo de treinamento: 1.258223533630371\n"
     ]
    },
    {
     "data": {
      "text/plain": [
       "['/content/deteccao_pontos_chaves/log/U2Net_Heuristic_multioutput_xgb_model.pkl']"
      ]
     },
     "execution_count": 62,
     "metadata": {},
     "output_type": "execute_result"
    }
   ],
   "source": [
    "\n",
    "# Criando uma instância do XGBRegressor\n",
    "base_model = XGBRegressor(n_estimators=100, learning_rate=0.1, device='gpu', random_state=2025)\n",
    "\n",
    "# Wrap o XGBoost com MultiOutputRegressor\n",
    "model = MultiOutputRegressor(base_model)\n",
    "start = time.time()\n",
    "# Treinando o modelo\n",
    "model.fit(X_treino_regressao_numpy, y_treino_regressao_numpy)\n",
    "print(\"XGBoost tempo de treinamento:\", time.time() - start)\n",
    "\n",
    "# Salvando o modelo treinado\n",
    "joblib.dump(model, os.path.join(config['log_path'],\"{}_{}_multioutput_xgb_model.pkl\".format(\n",
    "                   config['segmentation_module_name'],\n",
    "                   config['keypoint_module_name']\n",
    "                )))\n"
   ]
  },
  {
   "cell_type": "markdown",
   "id": "758becca-4042-4383-a54f-0e0a4b881964",
   "metadata": {
    "id": "758becca-4042-4383-a54f-0e0a4b881964"
   },
   "source": [
    "### Treinamento do Regressor baseado em DepthwiseSeparableConvolutioin 1D"
   ]
  },
  {
   "cell_type": "code",
   "execution_count": null,
   "id": "5a75c70e-1935-44ca-8684-a133d7de7470",
   "metadata": {
    "id": "5a75c70e-1935-44ca-8684-a133d7de7470"
   },
   "outputs": [],
   "source": [
    "# Um simple Dataset Pytorch para carregar os tensores em batchs\n",
    "class SimpleDataset(Dataset):\n",
    "    def __init__(self, features, labels):\n",
    "        self.features = features\n",
    "        self.labels = labels\n",
    "\n",
    "    def __len__(self):\n",
    "        return self.features.shape[0]\n",
    "\n",
    "    def __getitem__(self, idx):\n",
    "        return self.features[idx], self.labels[idx]\n"
   ]
  },
  {
   "cell_type": "code",
   "execution_count": null,
   "id": "e9e80f37-b41e-4ffa-a139-3ad4f9ac44fb",
   "metadata": {
    "id": "e9e80f37-b41e-4ffa-a139-3ad4f9ac44fb"
   },
   "outputs": [],
   "source": [
    "batch_size = config['train']['batch_size']  # ou outro conforme a capacidade da GPU\n",
    "regressor_treino_dataset = SimpleDataset(X_treino_regressao, y_treino_regressao)\n",
    "regressor_treino_loader = DataLoader(regressor_treino_dataset, batch_size=batch_size, shuffle=True)\n"
   ]
  },
  {
   "cell_type": "markdown",
   "id": "415dca86-fb1a-446d-972f-12030610033a",
   "metadata": {
    "id": "415dca86-fb1a-446d-972f-12030610033a"
   },
   "source": [
    "O módulo de regressão `DepthwiseSeparableConv1DRegressor` visa reduzir o número de parâmetros e operações — ideal para implantação em dispositivos móveis. Quando `groups=in_channels` faz com que o Conv1d opere independentemente em cada canal (em profundidade). Por outro lado, quando\n",
    "vkernel_size=1` usando apenas uma projeção não linear que agrega canais (em pontos no feature map). Usamos apenas Conv1D pois estamos transformação um sinal 1D (vetor de características) para outro sinal 1D (vetor de medidas corporais).\n",
    "\n",
    "\n",
    "O conceito de Depthwise Separable Convolutioin é usado é arquitetura famosdas como MobileNet e MobileVit.\n",
    "\n"
   ]
  },
  {
   "cell_type": "code",
   "execution_count": null,
   "id": "GqeNEDFJG6J5",
   "metadata": {
    "colab": {
     "base_uri": "https://localhost:8080/"
    },
    "id": "GqeNEDFJG6J5",
    "outputId": "d5310d92-a380-4117-f57a-a9fad2060ccd"
   },
   "outputs": [
    {
     "name": "stdout",
     "output_type": "stream",
     "text": [
      "DepthwiseSeparableConv1DRegressor(\n",
      "  (depthwise): Conv1d(1, 1, kernel_size=(3,), stride=(1,), padding=(1,))\n",
      "  (pointwise): Conv1d(1, 16, kernel_size=(1,), stride=(1,))\n",
      "  (relu): ReLU()\n",
      "  (conv2): Sequential(\n",
      "    (0): Conv1d(16, 32, kernel_size=(3,), stride=(1,), padding=(1,), groups=16)\n",
      "    (1): Conv1d(32, 32, kernel_size=(1,), stride=(1,))\n",
      "    (2): ReLU()\n",
      "  )\n",
      "  (flatten): Flatten(start_dim=1, end_dim=-1)\n",
      "  (fc): Sequential(\n",
      "    (0): Linear(in_features=672, out_features=64, bias=True)\n",
      "    (1): ReLU()\n",
      "    (2): Linear(in_features=64, out_features=9, bias=True)\n",
      "  )\n",
      ")\n"
     ]
    }
   ],
   "source": [
    "\n",
    "# Configurações e instanticação do modelo\n",
    "\n",
    "if isinstance(kp_module, MediaPipeKeypointsModule) or  isinstance(kp_module, RTPoseKeypointDetectorModule):\n",
    "  model = DepthwiseSeparableConv1DRegressor(input_length=55).to(device)\n",
    "\n",
    "else:\n",
    "  model = DepthwiseSeparableConv1DRegressor(input_length=21).to(device)\n",
    "\n",
    "\n",
    "\n",
    "criterion = torch.nn.MSELoss()  # ou nn.CrossEntropyLoss() se for classificação\n",
    "optimizer = torch.optim.Adam(model.parameters(), lr=float(config['train']['learning_rate']))\n",
    "print(model)"
   ]
  },
  {
   "cell_type": "code",
   "execution_count": null,
   "id": "19f2f93c-bc3c-41bc-94fb-0e56ea74d090",
   "metadata": {
    "colab": {
     "base_uri": "https://localhost:8080/"
    },
    "id": "19f2f93c-bc3c-41bc-94fb-0e56ea74d090",
    "outputId": "7f7143da-4bff-44d9-b82a-aa1c76115f67"
   },
   "outputs": [
    {
     "name": "stderr",
     "output_type": "stream",
     "text": [
      "Treinando. Epochs: 100%|██████████| 2000/2000 [12:55<00:00,  2.58it/s]"
     ]
    },
    {
     "name": "stdout",
     "output_type": "stream",
     "text": [
      "Tempo de execução de treinamento: 0h 12min 55s\n"
     ]
    },
    {
     "name": "stderr",
     "output_type": "stream",
     "text": [
      "\n"
     ]
    }
   ],
   "source": [
    "## Treinando o DepthwiseSeparableConv1DRegressor\n",
    "import time\n",
    "\n",
    "start = time.time()\n",
    "# Número de épocas\n",
    "num_epochs = 2000\n",
    "history = {\"train_loss\":[]}\n",
    "\n",
    "for epoch in tqdm(range(num_epochs), desc=\"Treinando. Epochs: \"):\n",
    "    model.train()\n",
    "    epoch_loss = 0.0\n",
    "\n",
    "    for batch in regressor_treino_loader:\n",
    "        features, labels = batch  # features: [B, N], labels: [B, 9]\n",
    "\n",
    "        # Redimensionando de acordo com o tipo do kp_module\n",
    "        if isinstance(kp_module, MediaPipeKeypointsModule) or  isinstance(kp_module, RTPoseKeypointDetectorModule):\n",
    "          features = features.view(features.size(0), 1, 55).to(device)\n",
    "        else:\n",
    "          features = features.view(features.size(0), 1, 21).to(device)\n",
    "        labels = labels.view(labels.size(0), -1).to(device)\n",
    "\n",
    "        # Forward pass\n",
    "        outputs = model(features)\n",
    "        loss = criterion(outputs, labels)\n",
    "\n",
    "        # Backward pass\n",
    "        optimizer.zero_grad()\n",
    "        loss.backward()\n",
    "        optimizer.step()\n",
    "\n",
    "        epoch_loss += loss.item()\n",
    "\n",
    "    avg_loss = epoch_loss / len(treino_loader)\n",
    "    history['train_loss'].append(avg_loss)\n",
    "\n",
    "end = time.time()\n",
    "\n",
    "elapsed = end - start\n",
    "hours, rem = divmod(elapsed, 3600)\n",
    "minutes, seconds = divmod(rem, 60)\n",
    "\n",
    "print(f\"Tempo de execução de treinamento: {int(hours)}h {int(minutes)}min {int(seconds)}s\")\n"
   ]
  },
  {
   "cell_type": "code",
   "execution_count": null,
   "id": "a4e1bcac-eae3-4b95-95b0-a71ec3396e81",
   "metadata": {
    "id": "a4e1bcac-eae3-4b95-95b0-a71ec3396e81"
   },
   "outputs": [],
   "source": [
    "# salvando parâmetros do modelo\n",
    "torch.save(model.state_dict(),\n",
    "           os.path.join(\n",
    "               config['log_path'],\n",
    "               \"{}_{}_separable_conv_regressor_weights.pt\".format(\n",
    "                   config['segmentation_module_name'],\n",
    "                   config['keypoint_module_name']\n",
    "                )\n",
    "  )\n",
    ")"
   ]
  },
  {
   "cell_type": "code",
   "execution_count": null,
   "id": "2f09db5f-dbd3-4f2d-8501-1d3fca9e64a8",
   "metadata": {
    "colab": {
     "base_uri": "https://localhost:8080/",
     "height": 448
    },
    "id": "2f09db5f-dbd3-4f2d-8501-1d3fca9e64a8",
    "outputId": "f35343e0-5903-471b-ec52-8b5f761b3115"
   },
   "outputs": [
    {
     "data": {
      "text/plain": [
       "[<matplotlib.lines.Line2D at 0x7f2510dd4050>]"
      ]
     },
     "execution_count": 55,
     "metadata": {},
     "output_type": "execute_result"
    },
    {
     "data": {
      "image/png": "[encoded data removed]",
      "text/plain": [
       "<Figure size 640x480 with 1 Axes>"
      ]
     },
     "metadata": {},
     "output_type": "display_data"
    }
   ],
   "source": [
    "plt.plot(history['train_loss'])"
   ]
  },
  {
   "cell_type": "code",
   "execution_count": null,
   "id": "WbaemW8iviB5",
   "metadata": {
    "colab": {
     "base_uri": "https://localhost:8080/",
     "height": 17
    },
    "id": "WbaemW8iviB5",
    "outputId": "28d057ae-142e-453e-f504-c4a940daf97e"
   },
   "outputs": [
    {
     "data": {
      "application/javascript": [
       "\n",
       "    async function download(id, filename, size) {\n",
       "      if (!google.colab.kernel.accessAllowed) {\n",
       "        return;\n",
       "      }\n",
       "      const div = document.createElement('div');\n",
       "      const label = document.createElement('label');\n",
       "      label.textContent = `Downloading \"${filename}\": `;\n",
       "      div.appendChild(label);\n",
       "      const progress = document.createElement('progress');\n",
       "      progress.max = size;\n",
       "      div.appendChild(progress);\n",
       "      document.body.appendChild(div);\n",
       "\n",
       "      const buffers = [];\n",
       "      let downloaded = 0;\n",
       "\n",
       "      const channel = await google.colab.kernel.comms.open(id);\n",
       "      // Send a message to notify the kernel that we're ready.\n",
       "      channel.send({})\n",
       "\n",
       "      for await (const message of channel.messages) {\n",
       "        // Send a message to notify the kernel that we're ready.\n",
       "        channel.send({})\n",
       "        if (message.buffers) {\n",
       "          for (const buffer of message.buffers) {\n",
       "            buffers.push(buffer);\n",
       "            downloaded += buffer.byteLength;\n",
       "            progress.value = downloaded;\n",
       "          }\n",
       "        }\n",
       "      }\n",
       "      const blob = new Blob(buffers, {type: 'application/binary'});\n",
       "      const a = document.createElement('a');\n",
       "      a.href = window.URL.createObjectURL(blob);\n",
       "      a.download = filename;\n",
       "      div.appendChild(a);\n",
       "      a.click();\n",
       "      div.remove();\n",
       "    }\n",
       "  "
      ],
      "text/plain": [
       "<IPython.core.display.Javascript object>"
      ]
     },
     "metadata": {},
     "output_type": "display_data"
    },
    {
     "data": {
      "application/javascript": [
       "download(\"download_7398418e-74dc-47ea-8972-4f0339c03a52\", \"log.zip\", 8886187)"
      ],
      "text/plain": [
       "<IPython.core.display.Javascript object>"
      ]
     },
     "metadata": {},
     "output_type": "display_data"
    }
   ],
   "source": [
    "# (OPCIONAL) descomente esse código no Google Colab para compactar e baixar o arquivo de ./log\n",
    "# if USE_COLAB:\n",
    "#   import shutil\n",
    "#   from google.colab import files\n",
    "\n",
    "\n",
    "#   shutil.make_archive(\"/content/log\", \"zip\", \"/content/deteccao_pontos_chaves/log\")\n",
    "#   files.download(\"log.zip\")\n"
   ]
  },
  {
   "cell_type": "markdown",
   "id": "mb7snFqQ6zzA",
   "metadata": {
    "id": "mb7snFqQ6zzA"
   },
   "source": [
    "# Próximos passos\n",
    "\n",
    "Podemos prosseguir para a avaliação do fluxo de execução que deve carregar em algum momento os regressores salvos na pasta de log desse notebook."
   ]
  }
 ],
 "metadata": {
  "accelerator": "GPU",
  "colab": {
   "gpuType": "L4",
   "machine_shape": "hm",
   "provenance": []
  },
  "kernelspec": {
   "display_name": "Python 3 (ipykernel)",
   "language": "python",
   "name": "python3"
  },
  "language_info": {
   "codemirror_mode": {
    "name": "ipython",
    "version": 3
   },
   "file_extension": ".py",
   "mimetype": "text/x-python",
   "name": "python",
   "nbconvert_exporter": "python",
   "pygments_lexer": "ipython3",
   "version": "3.12.4"
  },
  "widgets": {
   "application/vnd.jupyter.widget-state+json": {
    "00dfe6644ac549b19d68ddc71db78503": {
     "model_module": "@jupyter-widgets/controls",
     "model_module_version": "1.5.0",
     "model_name": "HTMLModel",
     "state": {
      "_dom_classes": [],
      "_model_module": "@jupyter-widgets/controls",
      "_model_module_version": "1.5.0",
      "_model_name": "HTMLModel",
      "_view_count": null,
      "_view_module": "@jupyter-widgets/controls",
      "_view_module_version": "1.5.0",
      "_view_name": "HTMLView",
      "description": "",
      "description_tooltip": null,
      "layout": "IPY_MODEL_f3a4a29c1f8941beb59a1c84c1d824f2",
      "placeholder": "​",
      "style": "IPY_MODEL_07919b1a90ae41deb2c2e14797435255",
      "value": "Fetching 1 files: 100%"
     }
    },
    "031fcde1b15d49cc845a480f437f5219": {
     "model_module": "@jupyter-widgets/base",
     "model_module_version": "1.2.0",
     "model_name": "LayoutModel",
     "state": {
      "_model_module": "@jupyter-widgets/base",
      "_model_module_version": "1.2.0",
      "_model_name": "LayoutModel",
      "_view_count": null,
      "_view_module": "@jupyter-widgets/base",
      "_view_module_version": "1.2.0",
      "_view_name": "LayoutView",
      "align_content": null,
      "align_items": null,
      "align_self": null,
      "border": null,
      "bottom": null,
      "display": null,
      "flex": null,
      "flex_flow": null,
      "grid_area": null,
      "grid_auto_columns": null,
      "grid_auto_flow": null,
      "grid_auto_rows": null,
      "grid_column": null,
      "grid_gap": null,
      "grid_row": null,
      "grid_template_areas": null,
      "grid_template_columns": null,
      "grid_template_rows": null,
      "height": null,
      "justify_content": null,
      "justify_items": null,
      "left": null,
      "margin": null,
      "max_height": null,
      "max_width": null,
      "min_height": null,
      "min_width": null,
      "object_fit": null,
      "object_position": null,
      "order": null,
      "overflow": null,
      "overflow_x": null,
      "overflow_y": null,
      "padding": null,
      "right": null,
      "top": null,
      "visibility": null,
      "width": null
     }
    },
    "04023275244d456e9aec2d4b56c33cbe": {
     "model_module": "@jupyter-widgets/controls",
     "model_module_version": "1.5.0",
     "model_name": "FloatProgressModel",
     "state": {
      "_dom_classes": [],
      "_model_module": "@jupyter-widgets/controls",
      "_model_module_version": "1.5.0",
      "_model_name": "FloatProgressModel",
      "_view_count": null,
      "_view_module": "@jupyter-widgets/controls",
      "_view_module_version": "1.5.0",
      "_view_name": "ProgressView",
      "bar_style": "success",
      "description": "",
      "description_tooltip": null,
      "layout": "IPY_MODEL_a9f52a93873343bd9d27f3acc523f767",
      "max": 1,
      "min": 0,
      "orientation": "horizontal",
      "style": "IPY_MODEL_9b993c56189f45259059561b3811322c",
      "value": 1
     }
    },
    "055bfe2cf46b42549550df14be40cf59": {
     "model_module": "@jupyter-widgets/controls",
     "model_module_version": "1.5.0",
     "model_name": "HTMLModel",
     "state": {
      "_dom_classes": [],
      "_model_module": "@jupyter-widgets/controls",
      "_model_module_version": "1.5.0",
      "_model_name": "HTMLModel",
      "_view_count": null,
      "_view_module": "@jupyter-widgets/controls",
      "_view_module_version": "1.5.0",
      "_view_name": "HTMLView",
      "description": "",
      "description_tooltip": null,
      "layout": "IPY_MODEL_79952dad453d4820ab6ce5168c4c107e",
      "placeholder": "​",
      "style": "IPY_MODEL_38eaaf39482946419a830e9451e5dd2a",
      "value": " 1/1 [00:00&lt;00:00, 135.00it/s]"
     }
    },
    "062068fc41f643658384b05a42ef4ec0": {
     "model_module": "@jupyter-widgets/controls",
     "model_module_version": "1.5.0",
     "model_name": "HBoxModel",
     "state": {
      "_dom_classes": [],
      "_model_module": "@jupyter-widgets/controls",
      "_model_module_version": "1.5.0",
      "_model_name": "HBoxModel",
      "_view_count": null,
      "_view_module": "@jupyter-widgets/controls",
      "_view_module_version": "1.5.0",
      "_view_name": "HBoxView",
      "box_style": "",
      "children": [
       "IPY_MODEL_7220622fab6840a4bc630b13808c39af",
       "IPY_MODEL_147ebafb1dea4ee69b42e9474adbad2b",
       "IPY_MODEL_bf5fdb802b62423d8b5d7913be536bf8"
      ],
      "layout": "IPY_MODEL_070b2fb9e0ca498c94e5629672a16d72"
     }
    },
    "070b2fb9e0ca498c94e5629672a16d72": {
     "model_module": "@jupyter-widgets/base",
     "model_module_version": "1.2.0",
     "model_name": "LayoutModel",
     "state": {
      "_model_module": "@jupyter-widgets/base",
      "_model_module_version": "1.2.0",
      "_model_name": "LayoutModel",
      "_view_count": null,
      "_view_module": "@jupyter-widgets/base",
      "_view_module_version": "1.2.0",
      "_view_name": "LayoutView",
      "align_content": null,
      "align_items": null,
      "align_self": null,
      "border": null,
      "bottom": null,
      "display": null,
      "flex": null,
      "flex_flow": null,
      "grid_area": null,
      "grid_auto_columns": null,
      "grid_auto_flow": null,
      "grid_auto_rows": null,
      "grid_column": null,
      "grid_gap": null,
      "grid_row": null,
      "grid_template_areas": null,
      "grid_template_columns": null,
      "grid_template_rows": null,
      "height": null,
      "justify_content": null,
      "justify_items": null,
      "left": null,
      "margin": null,
      "max_height": null,
      "max_width": null,
      "min_height": null,
      "min_width": null,
      "object_fit": null,
      "object_position": null,
      "order": null,
      "overflow": null,
      "overflow_x": null,
      "overflow_y": null,
      "padding": null,
      "right": null,
      "top": null,
      "visibility": null,
      "width": null
     }
    },
    "076613c55a354d16ac05f283917f0afc": {
     "model_module": "@jupyter-widgets/base",
     "model_module_version": "1.2.0",
     "model_name": "LayoutModel",
     "state": {
      "_model_module": "@jupyter-widgets/base",
      "_model_module_version": "1.2.0",
      "_model_name": "LayoutModel",
      "_view_count": null,
      "_view_module": "@jupyter-widgets/base",
      "_view_module_version": "1.2.0",
      "_view_name": "LayoutView",
      "align_content": null,
      "align_items": null,
      "align_self": null,
      "border": null,
      "bottom": null,
      "display": null,
      "flex": null,
      "flex_flow": null,
      "grid_area": null,
      "grid_auto_columns": null,
      "grid_auto_flow": null,
      "grid_auto_rows": null,
      "grid_column": null,
      "grid_gap": null,
      "grid_row": null,
      "grid_template_areas": null,
      "grid_template_columns": null,
      "grid_template_rows": null,
      "height": null,
      "justify_content": null,
      "justify_items": null,
      "left": null,
      "margin": null,
      "max_height": null,
      "max_width": null,
      "min_height": null,
      "min_width": null,
      "object_fit": null,
      "object_position": null,
      "order": null,
      "overflow": null,
      "overflow_x": null,
      "overflow_y": null,
      "padding": null,
      "right": null,
      "top": null,
      "visibility": null,
      "width": null
     }
    },
    "07919b1a90ae41deb2c2e14797435255": {
     "model_module": "@jupyter-widgets/controls",
     "model_module_version": "1.5.0",
     "model_name": "DescriptionStyleModel",
     "state": {
      "_model_module": "@jupyter-widgets/controls",
      "_model_module_version": "1.5.0",
      "_model_name": "DescriptionStyleModel",
      "_view_count": null,
      "_view_module": "@jupyter-widgets/base",
      "_view_module_version": "1.2.0",
      "_view_name": "StyleView",
      "description_width": ""
     }
    },
    "08fa38eaabfa4411a1155795f987aa96": {
     "model_module": "@jupyter-widgets/controls",
     "model_module_version": "1.5.0",
     "model_name": "HBoxModel",
     "state": {
      "_dom_classes": [],
      "_model_module": "@jupyter-widgets/controls",
      "_model_module_version": "1.5.0",
      "_model_name": "HBoxModel",
      "_view_count": null,
      "_view_module": "@jupyter-widgets/controls",
      "_view_module_version": "1.5.0",
      "_view_name": "HBoxView",
      "box_style": "",
      "children": [
       "IPY_MODEL_edb5f026730545da903a3a580cbd9af0",
       "IPY_MODEL_3a9163b09e9f4c09bd91a832a09814bf",
       "IPY_MODEL_5075368b4e13434caaad43a1bc8b7d58"
      ],
      "layout": "IPY_MODEL_a67d0a0f26594996a3ad1a4678cd9ca9"
     }
    },
    "0afdd387f1ac4e848f0967c605491b6b": {
     "model_module": "@jupyter-widgets/base",
     "model_module_version": "1.2.0",
     "model_name": "LayoutModel",
     "state": {
      "_model_module": "@jupyter-widgets/base",
      "_model_module_version": "1.2.0",
      "_model_name": "LayoutModel",
      "_view_count": null,
      "_view_module": "@jupyter-widgets/base",
      "_view_module_version": "1.2.0",
      "_view_name": "LayoutView",
      "align_content": null,
      "align_items": null,
      "align_self": null,
      "border": null,
      "bottom": null,
      "display": null,
      "flex": null,
      "flex_flow": null,
      "grid_area": null,
      "grid_auto_columns": null,
      "grid_auto_flow": null,
      "grid_auto_rows": null,
      "grid_column": null,
      "grid_gap": null,
      "grid_row": null,
      "grid_template_areas": null,
      "grid_template_columns": null,
      "grid_template_rows": null,
      "height": null,
      "justify_content": null,
      "justify_items": null,
      "left": null,
      "margin": null,
      "max_height": null,
      "max_width": null,
      "min_height": null,
      "min_width": null,
      "object_fit": null,
      "object_position": null,
      "order": null,
      "overflow": null,
      "overflow_x": null,
      "overflow_y": null,
      "padding": null,
      "right": null,
      "top": null,
      "visibility": null,
      "width": null
     }
    },
    "0b5498b59b024a65ad9f74dd20dee1ae": {
     "model_module": "@jupyter-widgets/controls",
     "model_module_version": "1.5.0",
     "model_name": "DescriptionStyleModel",
     "state": {
      "_model_module": "@jupyter-widgets/controls",
      "_model_module_version": "1.5.0",
      "_model_name": "DescriptionStyleModel",
      "_view_count": null,
      "_view_module": "@jupyter-widgets/base",
      "_view_module_version": "1.2.0",
      "_view_name": "StyleView",
      "description_width": ""
     }
    },
    "0c006af5f3c243f2b39fc2ed5a1ed52b": {
     "model_module": "@jupyter-widgets/base",
     "model_module_version": "1.2.0",
     "model_name": "LayoutModel",
     "state": {
      "_model_module": "@jupyter-widgets/base",
      "_model_module_version": "1.2.0",
      "_model_name": "LayoutModel",
      "_view_count": null,
      "_view_module": "@jupyter-widgets/base",
      "_view_module_version": "1.2.0",
      "_view_name": "LayoutView",
      "align_content": null,
      "align_items": null,
      "align_self": null,
      "border": null,
      "bottom": null,
      "display": null,
      "flex": null,
      "flex_flow": null,
      "grid_area": null,
      "grid_auto_columns": null,
      "grid_auto_flow": null,
      "grid_auto_rows": null,
      "grid_column": null,
      "grid_gap": null,
      "grid_row": null,
      "grid_template_areas": null,
      "grid_template_columns": null,
      "grid_template_rows": null,
      "height": null,
      "justify_content": null,
      "justify_items": null,
      "left": null,
      "margin": null,
      "max_height": null,
      "max_width": null,
      "min_height": null,
      "min_width": null,
      "object_fit": null,
      "object_position": null,
      "order": null,
      "overflow": null,
      "overflow_x": null,
      "overflow_y": null,
      "padding": null,
      "right": null,
      "top": null,
      "visibility": null,
      "width": null
     }
    },
    "0c4ed2d9e3d241d78ea1fb89a76a45b8": {
     "model_module": "@jupyter-widgets/controls",
     "model_module_version": "1.5.0",
     "model_name": "DescriptionStyleModel",
     "state": {
      "_model_module": "@jupyter-widgets/controls",
      "_model_module_version": "1.5.0",
      "_model_name": "DescriptionStyleModel",
      "_view_count": null,
      "_view_module": "@jupyter-widgets/base",
      "_view_module_version": "1.2.0",
      "_view_name": "StyleView",
      "description_width": ""
     }
    },
    "0ce96692aded4279929e04dd44823615": {
     "model_module": "@jupyter-widgets/controls",
     "model_module_version": "1.5.0",
     "model_name": "HBoxModel",
     "state": {
      "_dom_classes": [],
      "_model_module": "@jupyter-widgets/controls",
      "_model_module_version": "1.5.0",
      "_model_name": "HBoxModel",
      "_view_count": null,
      "_view_module": "@jupyter-widgets/controls",
      "_view_module_version": "1.5.0",
      "_view_name": "HBoxView",
      "box_style": "",
      "children": [
       "IPY_MODEL_7f2a655e687e4f9ca2e3ac0eedcadb07",
       "IPY_MODEL_9ccc8db0159742cb8a44ab5e11334ec2",
       "IPY_MODEL_bac2e3fbefa34f21a4518d64fb9e6b06"
      ],
      "layout": "IPY_MODEL_30794096ff2f46d684c6cbbc675202a2"
     }
    },
    "0d9321b7be60400a9f08abc100df7e23": {
     "model_module": "@jupyter-widgets/controls",
     "model_module_version": "1.5.0",
     "model_name": "HTMLModel",
     "state": {
      "_dom_classes": [],
      "_model_module": "@jupyter-widgets/controls",
      "_model_module_version": "1.5.0",
      "_model_name": "HTMLModel",
      "_view_count": null,
      "_view_module": "@jupyter-widgets/controls",
      "_view_module_version": "1.5.0",
      "_view_name": "HTMLView",
      "description": "",
      "description_tooltip": null,
      "layout": "IPY_MODEL_a974c116de7941d19efea820b44b76d4",
      "placeholder": "​",
      "style": "IPY_MODEL_f82c7dd714a646af9157126764c2e84d",
      "value": " 133M/133M [00:00&lt;00:00, 74.0MB/s]"
     }
    },
    "0ec539b0e0854b159946805c62ad2b49": {
     "model_module": "@jupyter-widgets/controls",
     "model_module_version": "1.5.0",
     "model_name": "HTMLModel",
     "state": {
      "_dom_classes": [],
      "_model_module": "@jupyter-widgets/controls",
      "_model_module_version": "1.5.0",
      "_model_name": "HTMLModel",
      "_view_count": null,
      "_view_module": "@jupyter-widgets/controls",
      "_view_module_version": "1.5.0",
      "_view_name": "HTMLView",
      "description": "",
      "description_tooltip": null,
      "layout": "IPY_MODEL_9bac5812620f46aebf1e09b10b752a4f",
      "placeholder": "​",
      "style": "IPY_MODEL_6d011fe93c2846a4b311a8bf42153444",
      "value": "config.json: "
     }
    },
    "12266bd8ffc84735994311ef59c83040": {
     "model_module": "@jupyter-widgets/controls",
     "model_module_version": "1.5.0",
     "model_name": "HTMLModel",
     "state": {
      "_dom_classes": [],
      "_model_module": "@jupyter-widgets/controls",
      "_model_module_version": "1.5.0",
      "_model_name": "HTMLModel",
      "_view_count": null,
      "_view_module": "@jupyter-widgets/controls",
      "_view_module_version": "1.5.0",
      "_view_name": "HTMLView",
      "description": "",
      "description_tooltip": null,
      "layout": "IPY_MODEL_3ebf34213c7a40c78a3f192a15ecff4c",
      "placeholder": "​",
      "style": "IPY_MODEL_fba34b4a6b8f43b9b4c3fe0e2d3059f1",
      "value": " 841/841 [00:00&lt;00:00, 107kB/s]"
     }
    },
    "128570981df9468e9135a454c34ad6b9": {
     "model_module": "@jupyter-widgets/controls",
     "model_module_version": "1.5.0",
     "model_name": "DescriptionStyleModel",
     "state": {
      "_model_module": "@jupyter-widgets/controls",
      "_model_module_version": "1.5.0",
      "_model_name": "DescriptionStyleModel",
      "_view_count": null,
      "_view_module": "@jupyter-widgets/base",
      "_view_module_version": "1.2.0",
      "_view_name": "StyleView",
      "description_width": ""
     }
    },
    "147ebafb1dea4ee69b42e9474adbad2b": {
     "model_module": "@jupyter-widgets/controls",
     "model_module_version": "1.5.0",
     "model_name": "FloatProgressModel",
     "state": {
      "_dom_classes": [],
      "_model_module": "@jupyter-widgets/controls",
      "_model_module_version": "1.5.0",
      "_model_name": "FloatProgressModel",
      "_view_count": null,
      "_view_module": "@jupyter-widgets/controls",
      "_view_module_version": "1.5.0",
      "_view_name": "ProgressView",
      "bar_style": "success",
      "description": "",
      "description_tooltip": null,
      "layout": "IPY_MODEL_431420cea7ee4a61bb42b7f965ba8d36",
      "max": 1,
      "min": 0,
      "orientation": "horizontal",
      "style": "IPY_MODEL_685d1e28540348a693e094711d91eb36",
      "value": 1
     }
    },
    "15649f558ac843a4ad72691599b5b6b7": {
     "model_module": "@jupyter-widgets/controls",
     "model_module_version": "1.5.0",
     "model_name": "DescriptionStyleModel",
     "state": {
      "_model_module": "@jupyter-widgets/controls",
      "_model_module_version": "1.5.0",
      "_model_name": "DescriptionStyleModel",
      "_view_count": null,
      "_view_module": "@jupyter-widgets/base",
      "_view_module_version": "1.2.0",
      "_view_name": "StyleView",
      "description_width": ""
     }
    },
    "1a2b765164b64748a3a29de01caa0a80": {
     "model_module": "@jupyter-widgets/controls",
     "model_module_version": "1.5.0",
     "model_name": "DescriptionStyleModel",
     "state": {
      "_model_module": "@jupyter-widgets/controls",
      "_model_module_version": "1.5.0",
      "_model_name": "DescriptionStyleModel",
      "_view_count": null,
      "_view_module": "@jupyter-widgets/base",
      "_view_module_version": "1.2.0",
      "_view_name": "StyleView",
      "description_width": ""
     }
    },
    "1eefa306dbdd4b20960f1fc8234088b1": {
     "model_module": "@jupyter-widgets/controls",
     "model_module_version": "1.5.0",
     "model_name": "FloatProgressModel",
     "state": {
      "_dom_classes": [],
      "_model_module": "@jupyter-widgets/controls",
      "_model_module_version": "1.5.0",
      "_model_name": "FloatProgressModel",
      "_view_count": null,
      "_view_module": "@jupyter-widgets/controls",
      "_view_module_version": "1.5.0",
      "_view_name": "ProgressView",
      "bar_style": "success",
      "description": "",
      "description_tooltip": null,
      "layout": "IPY_MODEL_0afdd387f1ac4e848f0967c605491b6b",
      "max": 1,
      "min": 0,
      "orientation": "horizontal",
      "style": "IPY_MODEL_ae81da60e27648e9b90b8f4decf0ca2c",
      "value": 1
     }
    },
    "20f6dc391ca24a7b9a5d6b9e88abf3ed": {
     "model_module": "@jupyter-widgets/base",
     "model_module_version": "1.2.0",
     "model_name": "LayoutModel",
     "state": {
      "_model_module": "@jupyter-widgets/base",
      "_model_module_version": "1.2.0",
      "_model_name": "LayoutModel",
      "_view_count": null,
      "_view_module": "@jupyter-widgets/base",
      "_view_module_version": "1.2.0",
      "_view_name": "LayoutView",
      "align_content": null,
      "align_items": null,
      "align_self": null,
      "border": null,
      "bottom": null,
      "display": null,
      "flex": null,
      "flex_flow": null,
      "grid_area": null,
      "grid_auto_columns": null,
      "grid_auto_flow": null,
      "grid_auto_rows": null,
      "grid_column": null,
      "grid_gap": null,
      "grid_row": null,
      "grid_template_areas": null,
      "grid_template_columns": null,
      "grid_template_rows": null,
      "height": null,
      "justify_content": null,
      "justify_items": null,
      "left": null,
      "margin": null,
      "max_height": null,
      "max_width": null,
      "min_height": null,
      "min_width": null,
      "object_fit": null,
      "object_position": null,
      "order": null,
      "overflow": null,
      "overflow_x": null,
      "overflow_y": null,
      "padding": null,
      "right": null,
      "top": null,
      "visibility": null,
      "width": null
     }
    },
    "22b3eb35c0c544d0a576800c9a8b08bb": {
     "model_module": "@jupyter-widgets/controls",
     "model_module_version": "1.5.0",
     "model_name": "ProgressStyleModel",
     "state": {
      "_model_module": "@jupyter-widgets/controls",
      "_model_module_version": "1.5.0",
      "_model_name": "ProgressStyleModel",
      "_view_count": null,
      "_view_module": "@jupyter-widgets/base",
      "_view_module_version": "1.2.0",
      "_view_name": "StyleView",
      "bar_color": null,
      "description_width": ""
     }
    },
    "252673178643419bbba2fd723c1de399": {
     "model_module": "@jupyter-widgets/base",
     "model_module_version": "1.2.0",
     "model_name": "LayoutModel",
     "state": {
      "_model_module": "@jupyter-widgets/base",
      "_model_module_version": "1.2.0",
      "_model_name": "LayoutModel",
      "_view_count": null,
      "_view_module": "@jupyter-widgets/base",
      "_view_module_version": "1.2.0",
      "_view_name": "LayoutView",
      "align_content": null,
      "align_items": null,
      "align_self": null,
      "border": null,
      "bottom": null,
      "display": null,
      "flex": null,
      "flex_flow": null,
      "grid_area": null,
      "grid_auto_columns": null,
      "grid_auto_flow": null,
      "grid_auto_rows": null,
      "grid_column": null,
      "grid_gap": null,
      "grid_row": null,
      "grid_template_areas": null,
      "grid_template_columns": null,
      "grid_template_rows": null,
      "height": null,
      "justify_content": null,
      "justify_items": null,
      "left": null,
      "margin": null,
      "max_height": null,
      "max_width": null,
      "min_height": null,
      "min_width": null,
      "object_fit": null,
      "object_position": null,
      "order": null,
      "overflow": null,
      "overflow_x": null,
      "overflow_y": null,
      "padding": null,
      "right": null,
      "top": null,
      "visibility": null,
      "width": null
     }
    },
    "27ac57f19dbf47238d3f09787dd143b1": {
     "model_module": "@jupyter-widgets/controls",
     "model_module_version": "1.5.0",
     "model_name": "HBoxModel",
     "state": {
      "_dom_classes": [],
      "_model_module": "@jupyter-widgets/controls",
      "_model_module_version": "1.5.0",
      "_model_name": "HBoxModel",
      "_view_count": null,
      "_view_module": "@jupyter-widgets/controls",
      "_view_module_version": "1.5.0",
      "_view_name": "HBoxView",
      "box_style": "",
      "children": [
       "IPY_MODEL_db8379553c3a423ab711f75f5deb12f3",
       "IPY_MODEL_aa98ad25b5184862811cb5c70f15ede2",
       "IPY_MODEL_0d9321b7be60400a9f08abc100df7e23"
      ],
      "layout": "IPY_MODEL_c3ce69498dcc47f9b11e2f70103ba17e"
     }
    },
    "2a65a7c942e648fc8763e175d40c0bac": {
     "model_module": "@jupyter-widgets/controls",
     "model_module_version": "1.5.0",
     "model_name": "DescriptionStyleModel",
     "state": {
      "_model_module": "@jupyter-widgets/controls",
      "_model_module_version": "1.5.0",
      "_model_name": "DescriptionStyleModel",
      "_view_count": null,
      "_view_module": "@jupyter-widgets/base",
      "_view_module_version": "1.2.0",
      "_view_name": "StyleView",
      "description_width": ""
     }
    },
    "2b74358b59b940e1b63bf28939c33ce2": {
     "model_module": "@jupyter-widgets/controls",
     "model_module_version": "1.5.0",
     "model_name": "HBoxModel",
     "state": {
      "_dom_classes": [],
      "_model_module": "@jupyter-widgets/controls",
      "_model_module_version": "1.5.0",
      "_model_name": "HBoxModel",
      "_view_count": null,
      "_view_module": "@jupyter-widgets/controls",
      "_view_module_version": "1.5.0",
      "_view_name": "HBoxView",
      "box_style": "",
      "children": [
       "IPY_MODEL_66e93c4331a140d3bc591ee6276ebe56",
       "IPY_MODEL_f5ba2085e42b4050bcb49b8ebf2eec78",
       "IPY_MODEL_d99df6874d3f412ebcbeee431c302952"
      ],
      "layout": "IPY_MODEL_706691f3338f4af7b81163aab330e9cf"
     }
    },
    "2d13916366284b0ebdff1eb40c384590": {
     "model_module": "@jupyter-widgets/controls",
     "model_module_version": "1.5.0",
     "model_name": "DescriptionStyleModel",
     "state": {
      "_model_module": "@jupyter-widgets/controls",
      "_model_module_version": "1.5.0",
      "_model_name": "DescriptionStyleModel",
      "_view_count": null,
      "_view_module": "@jupyter-widgets/base",
      "_view_module_version": "1.2.0",
      "_view_name": "StyleView",
      "description_width": ""
     }
    },
    "2e5526692a284890a671b345937a9315": {
     "model_module": "@jupyter-widgets/controls",
     "model_module_version": "1.5.0",
     "model_name": "ProgressStyleModel",
     "state": {
      "_model_module": "@jupyter-widgets/controls",
      "_model_module_version": "1.5.0",
      "_model_name": "ProgressStyleModel",
      "_view_count": null,
      "_view_module": "@jupyter-widgets/base",
      "_view_module_version": "1.2.0",
      "_view_name": "StyleView",
      "bar_color": null,
      "description_width": ""
     }
    },
    "30794096ff2f46d684c6cbbc675202a2": {
     "model_module": "@jupyter-widgets/base",
     "model_module_version": "1.2.0",
     "model_name": "LayoutModel",
     "state": {
      "_model_module": "@jupyter-widgets/base",
      "_model_module_version": "1.2.0",
      "_model_name": "LayoutModel",
      "_view_count": null,
      "_view_module": "@jupyter-widgets/base",
      "_view_module_version": "1.2.0",
      "_view_name": "LayoutView",
      "align_content": null,
      "align_items": null,
      "align_self": null,
      "border": null,
      "bottom": null,
      "display": null,
      "flex": null,
      "flex_flow": null,
      "grid_area": null,
      "grid_auto_columns": null,
      "grid_auto_flow": null,
      "grid_auto_rows": null,
      "grid_column": null,
      "grid_gap": null,
      "grid_row": null,
      "grid_template_areas": null,
      "grid_template_columns": null,
      "grid_template_rows": null,
      "height": null,
      "justify_content": null,
      "justify_items": null,
      "left": null,
      "margin": null,
      "max_height": null,
      "max_width": null,
      "min_height": null,
      "min_width": null,
      "object_fit": null,
      "object_position": null,
      "order": null,
      "overflow": null,
      "overflow_x": null,
      "overflow_y": null,
      "padding": null,
      "right": null,
      "top": null,
      "visibility": null,
      "width": null
     }
    },
    "337dda31f29741a0aa7e4baa38bf488d": {
     "model_module": "@jupyter-widgets/controls",
     "model_module_version": "1.5.0",
     "model_name": "DescriptionStyleModel",
     "state": {
      "_model_module": "@jupyter-widgets/controls",
      "_model_module_version": "1.5.0",
      "_model_name": "DescriptionStyleModel",
      "_view_count": null,
      "_view_module": "@jupyter-widgets/base",
      "_view_module_version": "1.2.0",
      "_view_name": "StyleView",
      "description_width": ""
     }
    },
    "35f6700ef110418c9fbe4ed851ba8f99": {
     "model_module": "@jupyter-widgets/base",
     "model_module_version": "1.2.0",
     "model_name": "LayoutModel",
     "state": {
      "_model_module": "@jupyter-widgets/base",
      "_model_module_version": "1.2.0",
      "_model_name": "LayoutModel",
      "_view_count": null,
      "_view_module": "@jupyter-widgets/base",
      "_view_module_version": "1.2.0",
      "_view_name": "LayoutView",
      "align_content": null,
      "align_items": null,
      "align_self": null,
      "border": null,
      "bottom": null,
      "display": null,
      "flex": null,
      "flex_flow": null,
      "grid_area": null,
      "grid_auto_columns": null,
      "grid_auto_flow": null,
      "grid_auto_rows": null,
      "grid_column": null,
      "grid_gap": null,
      "grid_row": null,
      "grid_template_areas": null,
      "grid_template_columns": null,
      "grid_template_rows": null,
      "height": null,
      "justify_content": null,
      "justify_items": null,
      "left": null,
      "margin": null,
      "max_height": null,
      "max_width": null,
      "min_height": null,
      "min_width": null,
      "object_fit": null,
      "object_position": null,
      "order": null,
      "overflow": null,
      "overflow_x": null,
      "overflow_y": null,
      "padding": null,
      "right": null,
      "top": null,
      "visibility": null,
      "width": null
     }
    },
    "36dbe6ea300e48709a171b8f15f0d357": {
     "model_module": "@jupyter-widgets/base",
     "model_module_version": "1.2.0",
     "model_name": "LayoutModel",
     "state": {
      "_model_module": "@jupyter-widgets/base",
      "_model_module_version": "1.2.0",
      "_model_name": "LayoutModel",
      "_view_count": null,
      "_view_module": "@jupyter-widgets/base",
      "_view_module_version": "1.2.0",
      "_view_name": "LayoutView",
      "align_content": null,
      "align_items": null,
      "align_self": null,
      "border": null,
      "bottom": null,
      "display": null,
      "flex": null,
      "flex_flow": null,
      "grid_area": null,
      "grid_auto_columns": null,
      "grid_auto_flow": null,
      "grid_auto_rows": null,
      "grid_column": null,
      "grid_gap": null,
      "grid_row": null,
      "grid_template_areas": null,
      "grid_template_columns": null,
      "grid_template_rows": null,
      "height": null,
      "justify_content": null,
      "justify_items": null,
      "left": null,
      "margin": null,
      "max_height": null,
      "max_width": null,
      "min_height": null,
      "min_width": null,
      "object_fit": null,
      "object_position": null,
      "order": null,
      "overflow": null,
      "overflow_x": null,
      "overflow_y": null,
      "padding": null,
      "right": null,
      "top": null,
      "visibility": null,
      "width": null
     }
    },
    "37a9452600c44f29882d42b249fce5c8": {
     "model_module": "@jupyter-widgets/controls",
     "model_module_version": "1.5.0",
     "model_name": "ProgressStyleModel",
     "state": {
      "_model_module": "@jupyter-widgets/controls",
      "_model_module_version": "1.5.0",
      "_model_name": "ProgressStyleModel",
      "_view_count": null,
      "_view_module": "@jupyter-widgets/base",
      "_view_module_version": "1.2.0",
      "_view_name": "StyleView",
      "bar_color": null,
      "description_width": ""
     }
    },
    "389f19de60c4422d9020cecda28d234e": {
     "model_module": "@jupyter-widgets/controls",
     "model_module_version": "1.5.0",
     "model_name": "HTMLModel",
     "state": {
      "_dom_classes": [],
      "_model_module": "@jupyter-widgets/controls",
      "_model_module_version": "1.5.0",
      "_model_name": "HTMLModel",
      "_view_count": null,
      "_view_module": "@jupyter-widgets/controls",
      "_view_module_version": "1.5.0",
      "_view_name": "HTMLView",
      "description": "",
      "description_tooltip": null,
      "layout": "IPY_MODEL_36dbe6ea300e48709a171b8f15f0d357",
      "placeholder": "​",
      "style": "IPY_MODEL_90ad490d2b9040fe82d594ab938cad0a",
      "value": "Fetching 1 files: 100%"
     }
    },
    "38eaaf39482946419a830e9451e5dd2a": {
     "model_module": "@jupyter-widgets/controls",
     "model_module_version": "1.5.0",
     "model_name": "DescriptionStyleModel",
     "state": {
      "_model_module": "@jupyter-widgets/controls",
      "_model_module_version": "1.5.0",
      "_model_name": "DescriptionStyleModel",
      "_view_count": null,
      "_view_module": "@jupyter-widgets/base",
      "_view_module_version": "1.2.0",
      "_view_name": "StyleView",
      "description_width": ""
     }
    },
    "3a8effc4449a45fbad331c3adec2ca8f": {
     "model_module": "@jupyter-widgets/controls",
     "model_module_version": "1.5.0",
     "model_name": "HTMLModel",
     "state": {
      "_dom_classes": [],
      "_model_module": "@jupyter-widgets/controls",
      "_model_module_version": "1.5.0",
      "_model_name": "HTMLModel",
      "_view_count": null,
      "_view_module": "@jupyter-widgets/controls",
      "_view_module_version": "1.5.0",
      "_view_name": "HTMLView",
      "description": "",
      "description_tooltip": null,
      "layout": "IPY_MODEL_0c006af5f3c243f2b39fc2ed5a1ed52b",
      "placeholder": "​",
      "style": "IPY_MODEL_c6750f6928c94ea6842bc378f1ca1381",
      "value": " 1/1 [00:00&lt;00:00, 129.64it/s]"
     }
    },
    "3a9163b09e9f4c09bd91a832a09814bf": {
     "model_module": "@jupyter-widgets/controls",
     "model_module_version": "1.5.0",
     "model_name": "FloatProgressModel",
     "state": {
      "_dom_classes": [],
      "_model_module": "@jupyter-widgets/controls",
      "_model_module_version": "1.5.0",
      "_model_name": "FloatProgressModel",
      "_view_count": null,
      "_view_module": "@jupyter-widgets/controls",
      "_view_module_version": "1.5.0",
      "_view_name": "ProgressView",
      "bar_style": "success",
      "description": "",
      "description_tooltip": null,
      "layout": "IPY_MODEL_20f6dc391ca24a7b9a5d6b9e88abf3ed",
      "max": 1,
      "min": 0,
      "orientation": "horizontal",
      "style": "IPY_MODEL_cfc7fdeb45c24793a30289380d1f04d3",
      "value": 1
     }
    },
    "3c5f368fc2bc44b2908134dda7f95b25": {
     "model_module": "@jupyter-widgets/base",
     "model_module_version": "1.2.0",
     "model_name": "LayoutModel",
     "state": {
      "_model_module": "@jupyter-widgets/base",
      "_model_module_version": "1.2.0",
      "_model_name": "LayoutModel",
      "_view_count": null,
      "_view_module": "@jupyter-widgets/base",
      "_view_module_version": "1.2.0",
      "_view_name": "LayoutView",
      "align_content": null,
      "align_items": null,
      "align_self": null,
      "border": null,
      "bottom": null,
      "display": null,
      "flex": null,
      "flex_flow": null,
      "grid_area": null,
      "grid_auto_columns": null,
      "grid_auto_flow": null,
      "grid_auto_rows": null,
      "grid_column": null,
      "grid_gap": null,
      "grid_row": null,
      "grid_template_areas": null,
      "grid_template_columns": null,
      "grid_template_rows": null,
      "height": null,
      "justify_content": null,
      "justify_items": null,
      "left": null,
      "margin": null,
      "max_height": null,
      "max_width": null,
      "min_height": null,
      "min_width": null,
      "object_fit": null,
      "object_position": null,
      "order": null,
      "overflow": null,
      "overflow_x": null,
      "overflow_y": null,
      "padding": null,
      "right": null,
      "top": null,
      "visibility": null,
      "width": null
     }
    },
    "3ebf34213c7a40c78a3f192a15ecff4c": {
     "model_module": "@jupyter-widgets/base",
     "model_module_version": "1.2.0",
     "model_name": "LayoutModel",
     "state": {
      "_model_module": "@jupyter-widgets/base",
      "_model_module_version": "1.2.0",
      "_model_name": "LayoutModel",
      "_view_count": null,
      "_view_module": "@jupyter-widgets/base",
      "_view_module_version": "1.2.0",
      "_view_name": "LayoutView",
      "align_content": null,
      "align_items": null,
      "align_self": null,
      "border": null,
      "bottom": null,
      "display": null,
      "flex": null,
      "flex_flow": null,
      "grid_area": null,
      "grid_auto_columns": null,
      "grid_auto_flow": null,
      "grid_auto_rows": null,
      "grid_column": null,
      "grid_gap": null,
      "grid_row": null,
      "grid_template_areas": null,
      "grid_template_columns": null,
      "grid_template_rows": null,
      "height": null,
      "justify_content": null,
      "justify_items": null,
      "left": null,
      "margin": null,
      "max_height": null,
      "max_width": null,
      "min_height": null,
      "min_width": null,
      "object_fit": null,
      "object_position": null,
      "order": null,
      "overflow": null,
      "overflow_x": null,
      "overflow_y": null,
      "padding": null,
      "right": null,
      "top": null,
      "visibility": null,
      "width": null
     }
    },
    "3f9061eb04504ea798d4f4a1c9263de6": {
     "model_module": "@jupyter-widgets/controls",
     "model_module_version": "1.5.0",
     "model_name": "DescriptionStyleModel",
     "state": {
      "_model_module": "@jupyter-widgets/controls",
      "_model_module_version": "1.5.0",
      "_model_name": "DescriptionStyleModel",
      "_view_count": null,
      "_view_module": "@jupyter-widgets/base",
      "_view_module_version": "1.2.0",
      "_view_name": "StyleView",
      "description_width": ""
     }
    },
    "415fa02a009543f1a4eccb47a52c1702": {
     "model_module": "@jupyter-widgets/controls",
     "model_module_version": "1.5.0",
     "model_name": "HBoxModel",
     "state": {
      "_dom_classes": [],
      "_model_module": "@jupyter-widgets/controls",
      "_model_module_version": "1.5.0",
      "_model_name": "HBoxModel",
      "_view_count": null,
      "_view_module": "@jupyter-widgets/controls",
      "_view_module_version": "1.5.0",
      "_view_name": "HBoxView",
      "box_style": "",
      "children": [
       "IPY_MODEL_0ec539b0e0854b159946805c62ad2b49",
       "IPY_MODEL_04023275244d456e9aec2d4b56c33cbe",
       "IPY_MODEL_c3daa2c0b9a14fdab06b3507547d7355"
      ],
      "layout": "IPY_MODEL_d39fb79d02274c64b8a960efc1fa6247"
     }
    },
    "431420cea7ee4a61bb42b7f965ba8d36": {
     "model_module": "@jupyter-widgets/base",
     "model_module_version": "1.2.0",
     "model_name": "LayoutModel",
     "state": {
      "_model_module": "@jupyter-widgets/base",
      "_model_module_version": "1.2.0",
      "_model_name": "LayoutModel",
      "_view_count": null,
      "_view_module": "@jupyter-widgets/base",
      "_view_module_version": "1.2.0",
      "_view_name": "LayoutView",
      "align_content": null,
      "align_items": null,
      "align_self": null,
      "border": null,
      "bottom": null,
      "display": null,
      "flex": null,
      "flex_flow": null,
      "grid_area": null,
      "grid_auto_columns": null,
      "grid_auto_flow": null,
      "grid_auto_rows": null,
      "grid_column": null,
      "grid_gap": null,
      "grid_row": null,
      "grid_template_areas": null,
      "grid_template_columns": null,
      "grid_template_rows": null,
      "height": null,
      "justify_content": null,
      "justify_items": null,
      "left": null,
      "margin": null,
      "max_height": null,
      "max_width": null,
      "min_height": null,
      "min_width": null,
      "object_fit": null,
      "object_position": null,
      "order": null,
      "overflow": null,
      "overflow_x": null,
      "overflow_y": null,
      "padding": null,
      "right": null,
      "top": null,
      "visibility": null,
      "width": null
     }
    },
    "44617ed36da846bf96cb84e40f022838": {
     "model_module": "@jupyter-widgets/controls",
     "model_module_version": "1.5.0",
     "model_name": "ProgressStyleModel",
     "state": {
      "_model_module": "@jupyter-widgets/controls",
      "_model_module_version": "1.5.0",
      "_model_name": "ProgressStyleModel",
      "_view_count": null,
      "_view_module": "@jupyter-widgets/base",
      "_view_module_version": "1.2.0",
      "_view_name": "StyleView",
      "bar_color": null,
      "description_width": ""
     }
    },
    "4be1c75bc9634550a69b5e2230b9a440": {
     "model_module": "@jupyter-widgets/controls",
     "model_module_version": "1.5.0",
     "model_name": "ProgressStyleModel",
     "state": {
      "_model_module": "@jupyter-widgets/controls",
      "_model_module_version": "1.5.0",
      "_model_name": "ProgressStyleModel",
      "_view_count": null,
      "_view_module": "@jupyter-widgets/base",
      "_view_module_version": "1.2.0",
      "_view_name": "StyleView",
      "bar_color": null,
      "description_width": ""
     }
    },
    "4effced031b6403b9406bf999df6b9d2": {
     "model_module": "@jupyter-widgets/controls",
     "model_module_version": "1.5.0",
     "model_name": "DescriptionStyleModel",
     "state": {
      "_model_module": "@jupyter-widgets/controls",
      "_model_module_version": "1.5.0",
      "_model_name": "DescriptionStyleModel",
      "_view_count": null,
      "_view_module": "@jupyter-widgets/base",
      "_view_module_version": "1.2.0",
      "_view_name": "StyleView",
      "description_width": ""
     }
    },
    "4f4a71bd6c9d4f1387020c30153b1591": {
     "model_module": "@jupyter-widgets/controls",
     "model_module_version": "1.5.0",
     "model_name": "HBoxModel",
     "state": {
      "_dom_classes": [],
      "_model_module": "@jupyter-widgets/controls",
      "_model_module_version": "1.5.0",
      "_model_name": "HBoxModel",
      "_view_count": null,
      "_view_module": "@jupyter-widgets/controls",
      "_view_module_version": "1.5.0",
      "_view_name": "HBoxView",
      "box_style": "",
      "children": [
       "IPY_MODEL_7025d1d152d2422694cc71f55235f587",
       "IPY_MODEL_98a044130c26468aaff09d56f423bb4f",
       "IPY_MODEL_055bfe2cf46b42549550df14be40cf59"
      ],
      "layout": "IPY_MODEL_aae8232099b5400cbe600053cd74529a"
     }
    },
    "4f66ef8604154bbca9f1f9b5dd64064f": {
     "model_module": "@jupyter-widgets/base",
     "model_module_version": "1.2.0",
     "model_name": "LayoutModel",
     "state": {
      "_model_module": "@jupyter-widgets/base",
      "_model_module_version": "1.2.0",
      "_model_name": "LayoutModel",
      "_view_count": null,
      "_view_module": "@jupyter-widgets/base",
      "_view_module_version": "1.2.0",
      "_view_name": "LayoutView",
      "align_content": null,
      "align_items": null,
      "align_self": null,
      "border": null,
      "bottom": null,
      "display": null,
      "flex": null,
      "flex_flow": null,
      "grid_area": null,
      "grid_auto_columns": null,
      "grid_auto_flow": null,
      "grid_auto_rows": null,
      "grid_column": null,
      "grid_gap": null,
      "grid_row": null,
      "grid_template_areas": null,
      "grid_template_columns": null,
      "grid_template_rows": null,
      "height": null,
      "justify_content": null,
      "justify_items": null,
      "left": null,
      "margin": null,
      "max_height": null,
      "max_width": null,
      "min_height": null,
      "min_width": null,
      "object_fit": null,
      "object_position": null,
      "order": null,
      "overflow": null,
      "overflow_x": null,
      "overflow_y": null,
      "padding": null,
      "right": null,
      "top": null,
      "visibility": null,
      "width": null
     }
    },
    "5075368b4e13434caaad43a1bc8b7d58": {
     "model_module": "@jupyter-widgets/controls",
     "model_module_version": "1.5.0",
     "model_name": "HTMLModel",
     "state": {
      "_dom_classes": [],
      "_model_module": "@jupyter-widgets/controls",
      "_model_module_version": "1.5.0",
      "_model_name": "HTMLModel",
      "_view_count": null,
      "_view_module": "@jupyter-widgets/controls",
      "_view_module_version": "1.5.0",
      "_view_name": "HTMLView",
      "description": "",
      "description_tooltip": null,
      "layout": "IPY_MODEL_8696d8d93f8f44bd90bb16b6b803881a",
      "placeholder": "​",
      "style": "IPY_MODEL_4effced031b6403b9406bf999df6b9d2",
      "value": " 1/1 [00:00&lt;00:00, 124.03it/s]"
     }
    },
    "523415b9fd05477fbc41b133082fa0fb": {
     "model_module": "@jupyter-widgets/base",
     "model_module_version": "1.2.0",
     "model_name": "LayoutModel",
     "state": {
      "_model_module": "@jupyter-widgets/base",
      "_model_module_version": "1.2.0",
      "_model_name": "LayoutModel",
      "_view_count": null,
      "_view_module": "@jupyter-widgets/base",
      "_view_module_version": "1.2.0",
      "_view_name": "LayoutView",
      "align_content": null,
      "align_items": null,
      "align_self": null,
      "border": null,
      "bottom": null,
      "display": null,
      "flex": null,
      "flex_flow": null,
      "grid_area": null,
      "grid_auto_columns": null,
      "grid_auto_flow": null,
      "grid_auto_rows": null,
      "grid_column": null,
      "grid_gap": null,
      "grid_row": null,
      "grid_template_areas": null,
      "grid_template_columns": null,
      "grid_template_rows": null,
      "height": null,
      "justify_content": null,
      "justify_items": null,
      "left": null,
      "margin": null,
      "max_height": null,
      "max_width": null,
      "min_height": null,
      "min_width": null,
      "object_fit": null,
      "object_position": null,
      "order": null,
      "overflow": null,
      "overflow_x": null,
      "overflow_y": null,
      "padding": null,
      "right": null,
      "top": null,
      "visibility": null,
      "width": null
     }
    },
    "53234f46b9b843cf9143489d877bd663": {
     "model_module": "@jupyter-widgets/controls",
     "model_module_version": "1.5.0",
     "model_name": "HTMLModel",
     "state": {
      "_dom_classes": [],
      "_model_module": "@jupyter-widgets/controls",
      "_model_module_version": "1.5.0",
      "_model_name": "HTMLModel",
      "_view_count": null,
      "_view_module": "@jupyter-widgets/controls",
      "_view_module_version": "1.5.0",
      "_view_name": "HTMLView",
      "description": "",
      "description_tooltip": null,
      "layout": "IPY_MODEL_b8ad80581b984d0bac72d46045cecef5",
      "placeholder": "​",
      "style": "IPY_MODEL_2d13916366284b0ebdff1eb40c384590",
      "value": " 1/1 [00:00&lt;00:00, 108.84it/s]"
     }
    },
    "559cc9c60d4944baa0ae358635378ad3": {
     "model_module": "@jupyter-widgets/base",
     "model_module_version": "1.2.0",
     "model_name": "LayoutModel",
     "state": {
      "_model_module": "@jupyter-widgets/base",
      "_model_module_version": "1.2.0",
      "_model_name": "LayoutModel",
      "_view_count": null,
      "_view_module": "@jupyter-widgets/base",
      "_view_module_version": "1.2.0",
      "_view_name": "LayoutView",
      "align_content": null,
      "align_items": null,
      "align_self": null,
      "border": null,
      "bottom": null,
      "display": null,
      "flex": null,
      "flex_flow": null,
      "grid_area": null,
      "grid_auto_columns": null,
      "grid_auto_flow": null,
      "grid_auto_rows": null,
      "grid_column": null,
      "grid_gap": null,
      "grid_row": null,
      "grid_template_areas": null,
      "grid_template_columns": null,
      "grid_template_rows": null,
      "height": null,
      "justify_content": null,
      "justify_items": null,
      "left": null,
      "margin": null,
      "max_height": null,
      "max_width": null,
      "min_height": null,
      "min_width": null,
      "object_fit": null,
      "object_position": null,
      "order": null,
      "overflow": null,
      "overflow_x": null,
      "overflow_y": null,
      "padding": null,
      "right": null,
      "top": null,
      "visibility": null,
      "width": null
     }
    },
    "591c7d6b34074ff48a7cf03e9f9d45c7": {
     "model_module": "@jupyter-widgets/controls",
     "model_module_version": "1.5.0",
     "model_name": "DescriptionStyleModel",
     "state": {
      "_model_module": "@jupyter-widgets/controls",
      "_model_module_version": "1.5.0",
      "_model_name": "DescriptionStyleModel",
      "_view_count": null,
      "_view_module": "@jupyter-widgets/base",
      "_view_module_version": "1.2.0",
      "_view_name": "StyleView",
      "description_width": ""
     }
    },
    "5920a5b131d24640bde0a98ce1f79404": {
     "model_module": "@jupyter-widgets/controls",
     "model_module_version": "1.5.0",
     "model_name": "DescriptionStyleModel",
     "state": {
      "_model_module": "@jupyter-widgets/controls",
      "_model_module_version": "1.5.0",
      "_model_name": "DescriptionStyleModel",
      "_view_count": null,
      "_view_module": "@jupyter-widgets/base",
      "_view_module_version": "1.2.0",
      "_view_name": "StyleView",
      "description_width": ""
     }
    },
    "5a967dd06e09440ea4978c77b308cf69": {
     "model_module": "@jupyter-widgets/controls",
     "model_module_version": "1.5.0",
     "model_name": "DescriptionStyleModel",
     "state": {
      "_model_module": "@jupyter-widgets/controls",
      "_model_module_version": "1.5.0",
      "_model_name": "DescriptionStyleModel",
      "_view_count": null,
      "_view_module": "@jupyter-widgets/base",
      "_view_module_version": "1.2.0",
      "_view_name": "StyleView",
      "description_width": ""
     }
    },
    "5b636d418a7641cf8192a396bcee5d14": {
     "model_module": "@jupyter-widgets/controls",
     "model_module_version": "1.5.0",
     "model_name": "DescriptionStyleModel",
     "state": {
      "_model_module": "@jupyter-widgets/controls",
      "_model_module_version": "1.5.0",
      "_model_name": "DescriptionStyleModel",
      "_view_count": null,
      "_view_module": "@jupyter-widgets/base",
      "_view_module_version": "1.2.0",
      "_view_name": "StyleView",
      "description_width": ""
     }
    },
    "62b918fd996f47e5a9f99dab89e45e72": {
     "model_module": "@jupyter-widgets/controls",
     "model_module_version": "1.5.0",
     "model_name": "DescriptionStyleModel",
     "state": {
      "_model_module": "@jupyter-widgets/controls",
      "_model_module_version": "1.5.0",
      "_model_name": "DescriptionStyleModel",
      "_view_count": null,
      "_view_module": "@jupyter-widgets/base",
      "_view_module_version": "1.2.0",
      "_view_name": "StyleView",
      "description_width": ""
     }
    },
    "638c544cb25449c193a244b8f930333e": {
     "model_module": "@jupyter-widgets/controls",
     "model_module_version": "1.5.0",
     "model_name": "HBoxModel",
     "state": {
      "_dom_classes": [],
      "_model_module": "@jupyter-widgets/controls",
      "_model_module_version": "1.5.0",
      "_model_name": "HBoxModel",
      "_view_count": null,
      "_view_module": "@jupyter-widgets/controls",
      "_view_module_version": "1.5.0",
      "_view_name": "HBoxView",
      "box_style": "",
      "children": [
       "IPY_MODEL_ed3b18ff388e471b934f80c9e619b5c5",
       "IPY_MODEL_95742a8a14ab4552b3f5f7787e1577dc",
       "IPY_MODEL_ae3ad42565194c79a7df04d71bd79f87"
      ],
      "layout": "IPY_MODEL_fcf8b681e2244d5089c12e08c123d40a"
     }
    },
    "66e93c4331a140d3bc591ee6276ebe56": {
     "model_module": "@jupyter-widgets/controls",
     "model_module_version": "1.5.0",
     "model_name": "HTMLModel",
     "state": {
      "_dom_classes": [],
      "_model_module": "@jupyter-widgets/controls",
      "_model_module_version": "1.5.0",
      "_model_name": "HTMLModel",
      "_view_count": null,
      "_view_module": "@jupyter-widgets/controls",
      "_view_module_version": "1.5.0",
      "_view_name": "HTMLView",
      "description": "",
      "description_tooltip": null,
      "layout": "IPY_MODEL_3c5f368fc2bc44b2908134dda7f95b25",
      "placeholder": "​",
      "style": "IPY_MODEL_a648caf4303f451db143d618d417c176",
      "value": "preprocessor_config.json: 100%"
     }
    },
    "6805eb0cdccb41118fa8aab945290675": {
     "model_module": "@jupyter-widgets/base",
     "model_module_version": "1.2.0",
     "model_name": "LayoutModel",
     "state": {
      "_model_module": "@jupyter-widgets/base",
      "_model_module_version": "1.2.0",
      "_model_name": "LayoutModel",
      "_view_count": null,
      "_view_module": "@jupyter-widgets/base",
      "_view_module_version": "1.2.0",
      "_view_name": "LayoutView",
      "align_content": null,
      "align_items": null,
      "align_self": null,
      "border": null,
      "bottom": null,
      "display": null,
      "flex": null,
      "flex_flow": null,
      "grid_area": null,
      "grid_auto_columns": null,
      "grid_auto_flow": null,
      "grid_auto_rows": null,
      "grid_column": null,
      "grid_gap": null,
      "grid_row": null,
      "grid_template_areas": null,
      "grid_template_columns": null,
      "grid_template_rows": null,
      "height": null,
      "justify_content": null,
      "justify_items": null,
      "left": null,
      "margin": null,
      "max_height": null,
      "max_width": null,
      "min_height": null,
      "min_width": null,
      "object_fit": null,
      "object_position": null,
      "order": null,
      "overflow": null,
      "overflow_x": null,
      "overflow_y": null,
      "padding": null,
      "right": null,
      "top": null,
      "visibility": null,
      "width": null
     }
    },
    "682dad75164f4b44bcc4bbff96bff986": {
     "model_module": "@jupyter-widgets/base",
     "model_module_version": "1.2.0",
     "model_name": "LayoutModel",
     "state": {
      "_model_module": "@jupyter-widgets/base",
      "_model_module_version": "1.2.0",
      "_model_name": "LayoutModel",
      "_view_count": null,
      "_view_module": "@jupyter-widgets/base",
      "_view_module_version": "1.2.0",
      "_view_name": "LayoutView",
      "align_content": null,
      "align_items": null,
      "align_self": null,
      "border": null,
      "bottom": null,
      "display": null,
      "flex": null,
      "flex_flow": null,
      "grid_area": null,
      "grid_auto_columns": null,
      "grid_auto_flow": null,
      "grid_auto_rows": null,
      "grid_column": null,
      "grid_gap": null,
      "grid_row": null,
      "grid_template_areas": null,
      "grid_template_columns": null,
      "grid_template_rows": null,
      "height": null,
      "justify_content": null,
      "justify_items": null,
      "left": null,
      "margin": null,
      "max_height": null,
      "max_width": null,
      "min_height": null,
      "min_width": null,
      "object_fit": null,
      "object_position": null,
      "order": null,
      "overflow": null,
      "overflow_x": null,
      "overflow_y": null,
      "padding": null,
      "right": null,
      "top": null,
      "visibility": null,
      "width": null
     }
    },
    "685d1e28540348a693e094711d91eb36": {
     "model_module": "@jupyter-widgets/controls",
     "model_module_version": "1.5.0",
     "model_name": "ProgressStyleModel",
     "state": {
      "_model_module": "@jupyter-widgets/controls",
      "_model_module_version": "1.5.0",
      "_model_name": "ProgressStyleModel",
      "_view_count": null,
      "_view_module": "@jupyter-widgets/base",
      "_view_module_version": "1.2.0",
      "_view_name": "StyleView",
      "bar_color": null,
      "description_width": ""
     }
    },
    "6952a3c33d2a4b62adfb77cffc732654": {
     "model_module": "@jupyter-widgets/base",
     "model_module_version": "1.2.0",
     "model_name": "LayoutModel",
     "state": {
      "_model_module": "@jupyter-widgets/base",
      "_model_module_version": "1.2.0",
      "_model_name": "LayoutModel",
      "_view_count": null,
      "_view_module": "@jupyter-widgets/base",
      "_view_module_version": "1.2.0",
      "_view_name": "LayoutView",
      "align_content": null,
      "align_items": null,
      "align_self": null,
      "border": null,
      "bottom": null,
      "display": null,
      "flex": null,
      "flex_flow": null,
      "grid_area": null,
      "grid_auto_columns": null,
      "grid_auto_flow": null,
      "grid_auto_rows": null,
      "grid_column": null,
      "grid_gap": null,
      "grid_row": null,
      "grid_template_areas": null,
      "grid_template_columns": null,
      "grid_template_rows": null,
      "height": null,
      "justify_content": null,
      "justify_items": null,
      "left": null,
      "margin": null,
      "max_height": null,
      "max_width": null,
      "min_height": null,
      "min_width": null,
      "object_fit": null,
      "object_position": null,
      "order": null,
      "overflow": null,
      "overflow_x": null,
      "overflow_y": null,
      "padding": null,
      "right": null,
      "top": null,
      "visibility": null,
      "width": "20px"
     }
    },
    "6aae9d8010d54197a67caa278a5ee40a": {
     "model_module": "@jupyter-widgets/controls",
     "model_module_version": "1.5.0",
     "model_name": "DescriptionStyleModel",
     "state": {
      "_model_module": "@jupyter-widgets/controls",
      "_model_module_version": "1.5.0",
      "_model_name": "DescriptionStyleModel",
      "_view_count": null,
      "_view_module": "@jupyter-widgets/base",
      "_view_module_version": "1.2.0",
      "_view_name": "StyleView",
      "description_width": ""
     }
    },
    "6d011fe93c2846a4b311a8bf42153444": {
     "model_module": "@jupyter-widgets/controls",
     "model_module_version": "1.5.0",
     "model_name": "DescriptionStyleModel",
     "state": {
      "_model_module": "@jupyter-widgets/controls",
      "_model_module_version": "1.5.0",
      "_model_name": "DescriptionStyleModel",
      "_view_count": null,
      "_view_module": "@jupyter-widgets/base",
      "_view_module_version": "1.2.0",
      "_view_name": "StyleView",
      "description_width": ""
     }
    },
    "6d7c708e79ae49b882adcd3916ab072c": {
     "model_module": "@jupyter-widgets/controls",
     "model_module_version": "1.5.0",
     "model_name": "ProgressStyleModel",
     "state": {
      "_model_module": "@jupyter-widgets/controls",
      "_model_module_version": "1.5.0",
      "_model_name": "ProgressStyleModel",
      "_view_count": null,
      "_view_module": "@jupyter-widgets/base",
      "_view_module_version": "1.2.0",
      "_view_name": "StyleView",
      "bar_color": null,
      "description_width": ""
     }
    },
    "7025d1d152d2422694cc71f55235f587": {
     "model_module": "@jupyter-widgets/controls",
     "model_module_version": "1.5.0",
     "model_name": "HTMLModel",
     "state": {
      "_dom_classes": [],
      "_model_module": "@jupyter-widgets/controls",
      "_model_module_version": "1.5.0",
      "_model_name": "HTMLModel",
      "_view_count": null,
      "_view_module": "@jupyter-widgets/controls",
      "_view_module_version": "1.5.0",
      "_view_name": "HTMLView",
      "description": "",
      "description_tooltip": null,
      "layout": "IPY_MODEL_682dad75164f4b44bcc4bbff96bff986",
      "placeholder": "​",
      "style": "IPY_MODEL_2a65a7c942e648fc8763e175d40c0bac",
      "value": "Fetching 1 files: 100%"
     }
    },
    "706691f3338f4af7b81163aab330e9cf": {
     "model_module": "@jupyter-widgets/base",
     "model_module_version": "1.2.0",
     "model_name": "LayoutModel",
     "state": {
      "_model_module": "@jupyter-widgets/base",
      "_model_module_version": "1.2.0",
      "_model_name": "LayoutModel",
      "_view_count": null,
      "_view_module": "@jupyter-widgets/base",
      "_view_module_version": "1.2.0",
      "_view_name": "LayoutView",
      "align_content": null,
      "align_items": null,
      "align_self": null,
      "border": null,
      "bottom": null,
      "display": null,
      "flex": null,
      "flex_flow": null,
      "grid_area": null,
      "grid_auto_columns": null,
      "grid_auto_flow": null,
      "grid_auto_rows": null,
      "grid_column": null,
      "grid_gap": null,
      "grid_row": null,
      "grid_template_areas": null,
      "grid_template_columns": null,
      "grid_template_rows": null,
      "height": null,
      "justify_content": null,
      "justify_items": null,
      "left": null,
      "margin": null,
      "max_height": null,
      "max_width": null,
      "min_height": null,
      "min_width": null,
      "object_fit": null,
      "object_position": null,
      "order": null,
      "overflow": null,
      "overflow_x": null,
      "overflow_y": null,
      "padding": null,
      "right": null,
      "top": null,
      "visibility": null,
      "width": null
     }
    },
    "7220622fab6840a4bc630b13808c39af": {
     "model_module": "@jupyter-widgets/controls",
     "model_module_version": "1.5.0",
     "model_name": "HTMLModel",
     "state": {
      "_dom_classes": [],
      "_model_module": "@jupyter-widgets/controls",
      "_model_module_version": "1.5.0",
      "_model_name": "HTMLModel",
      "_view_count": null,
      "_view_module": "@jupyter-widgets/controls",
      "_view_module_version": "1.5.0",
      "_view_name": "HTMLView",
      "description": "",
      "description_tooltip": null,
      "layout": "IPY_MODEL_c5954ed7a268425a93803060d36bafe7",
      "placeholder": "​",
      "style": "IPY_MODEL_1a2b765164b64748a3a29de01caa0a80",
      "value": "Fetching 1 files: 100%"
     }
    },
    "74eef029944b43ca83099e1bb7c1c927": {
     "model_module": "@jupyter-widgets/controls",
     "model_module_version": "1.5.0",
     "model_name": "HBoxModel",
     "state": {
      "_dom_classes": [],
      "_model_module": "@jupyter-widgets/controls",
      "_model_module_version": "1.5.0",
      "_model_name": "HBoxModel",
      "_view_count": null,
      "_view_module": "@jupyter-widgets/controls",
      "_view_module_version": "1.5.0",
      "_view_name": "HBoxView",
      "box_style": "",
      "children": [
       "IPY_MODEL_a915e651fb3f4a15b8ab2c2ea8f751e2",
       "IPY_MODEL_970af300d3bf4e62b3e6c10f009226c5",
       "IPY_MODEL_12266bd8ffc84735994311ef59c83040"
      ],
      "layout": "IPY_MODEL_f3b51b41a2b1477794c993ad74f957f5"
     }
    },
    "762563ed517442fb97ec5c574b994c50": {
     "model_module": "@jupyter-widgets/base",
     "model_module_version": "1.2.0",
     "model_name": "LayoutModel",
     "state": {
      "_model_module": "@jupyter-widgets/base",
      "_model_module_version": "1.2.0",
      "_model_name": "LayoutModel",
      "_view_count": null,
      "_view_module": "@jupyter-widgets/base",
      "_view_module_version": "1.2.0",
      "_view_name": "LayoutView",
      "align_content": null,
      "align_items": null,
      "align_self": null,
      "border": null,
      "bottom": null,
      "display": null,
      "flex": null,
      "flex_flow": null,
      "grid_area": null,
      "grid_auto_columns": null,
      "grid_auto_flow": null,
      "grid_auto_rows": null,
      "grid_column": null,
      "grid_gap": null,
      "grid_row": null,
      "grid_template_areas": null,
      "grid_template_columns": null,
      "grid_template_rows": null,
      "height": null,
      "justify_content": null,
      "justify_items": null,
      "left": null,
      "margin": null,
      "max_height": null,
      "max_width": null,
      "min_height": null,
      "min_width": null,
      "object_fit": null,
      "object_position": null,
      "order": null,
      "overflow": null,
      "overflow_x": null,
      "overflow_y": null,
      "padding": null,
      "right": null,
      "top": null,
      "visibility": null,
      "width": null
     }
    },
    "78f8aa22ccdd4cd298de9d9db48a1665": {
     "model_module": "@jupyter-widgets/base",
     "model_module_version": "1.2.0",
     "model_name": "LayoutModel",
     "state": {
      "_model_module": "@jupyter-widgets/base",
      "_model_module_version": "1.2.0",
      "_model_name": "LayoutModel",
      "_view_count": null,
      "_view_module": "@jupyter-widgets/base",
      "_view_module_version": "1.2.0",
      "_view_name": "LayoutView",
      "align_content": null,
      "align_items": null,
      "align_self": null,
      "border": null,
      "bottom": null,
      "display": null,
      "flex": null,
      "flex_flow": null,
      "grid_area": null,
      "grid_auto_columns": null,
      "grid_auto_flow": null,
      "grid_auto_rows": null,
      "grid_column": null,
      "grid_gap": null,
      "grid_row": null,
      "grid_template_areas": null,
      "grid_template_columns": null,
      "grid_template_rows": null,
      "height": null,
      "justify_content": null,
      "justify_items": null,
      "left": null,
      "margin": null,
      "max_height": null,
      "max_width": null,
      "min_height": null,
      "min_width": null,
      "object_fit": null,
      "object_position": null,
      "order": null,
      "overflow": null,
      "overflow_x": null,
      "overflow_y": null,
      "padding": null,
      "right": null,
      "top": null,
      "visibility": null,
      "width": null
     }
    },
    "79952dad453d4820ab6ce5168c4c107e": {
     "model_module": "@jupyter-widgets/base",
     "model_module_version": "1.2.0",
     "model_name": "LayoutModel",
     "state": {
      "_model_module": "@jupyter-widgets/base",
      "_model_module_version": "1.2.0",
      "_model_name": "LayoutModel",
      "_view_count": null,
      "_view_module": "@jupyter-widgets/base",
      "_view_module_version": "1.2.0",
      "_view_name": "LayoutView",
      "align_content": null,
      "align_items": null,
      "align_self": null,
      "border": null,
      "bottom": null,
      "display": null,
      "flex": null,
      "flex_flow": null,
      "grid_area": null,
      "grid_auto_columns": null,
      "grid_auto_flow": null,
      "grid_auto_rows": null,
      "grid_column": null,
      "grid_gap": null,
      "grid_row": null,
      "grid_template_areas": null,
      "grid_template_columns": null,
      "grid_template_rows": null,
      "height": null,
      "justify_content": null,
      "justify_items": null,
      "left": null,
      "margin": null,
      "max_height": null,
      "max_width": null,
      "min_height": null,
      "min_width": null,
      "object_fit": null,
      "object_position": null,
      "order": null,
      "overflow": null,
      "overflow_x": null,
      "overflow_y": null,
      "padding": null,
      "right": null,
      "top": null,
      "visibility": null,
      "width": null
     }
    },
    "7f2a655e687e4f9ca2e3ac0eedcadb07": {
     "model_module": "@jupyter-widgets/controls",
     "model_module_version": "1.5.0",
     "model_name": "HTMLModel",
     "state": {
      "_dom_classes": [],
      "_model_module": "@jupyter-widgets/controls",
      "_model_module_version": "1.5.0",
      "_model_name": "HTMLModel",
      "_view_count": null,
      "_view_module": "@jupyter-widgets/controls",
      "_view_module_version": "1.5.0",
      "_view_name": "HTMLView",
      "description": "",
      "description_tooltip": null,
      "layout": "IPY_MODEL_c2375af2e70048c8ad6b686ee79130ae",
      "placeholder": "​",
      "style": "IPY_MODEL_62b918fd996f47e5a9f99dab89e45e72",
      "value": "model.safetensors: 100%"
     }
    },
    "81bc0a9c71bf47738918cab6dd8b4b96": {
     "model_module": "@jupyter-widgets/controls",
     "model_module_version": "1.5.0",
     "model_name": "ProgressStyleModel",
     "state": {
      "_model_module": "@jupyter-widgets/controls",
      "_model_module_version": "1.5.0",
      "_model_name": "ProgressStyleModel",
      "_view_count": null,
      "_view_module": "@jupyter-widgets/base",
      "_view_module_version": "1.2.0",
      "_view_name": "StyleView",
      "bar_color": null,
      "description_width": ""
     }
    },
    "8696d8d93f8f44bd90bb16b6b803881a": {
     "model_module": "@jupyter-widgets/base",
     "model_module_version": "1.2.0",
     "model_name": "LayoutModel",
     "state": {
      "_model_module": "@jupyter-widgets/base",
      "_model_module_version": "1.2.0",
      "_model_name": "LayoutModel",
      "_view_count": null,
      "_view_module": "@jupyter-widgets/base",
      "_view_module_version": "1.2.0",
      "_view_name": "LayoutView",
      "align_content": null,
      "align_items": null,
      "align_self": null,
      "border": null,
      "bottom": null,
      "display": null,
      "flex": null,
      "flex_flow": null,
      "grid_area": null,
      "grid_auto_columns": null,
      "grid_auto_flow": null,
      "grid_auto_rows": null,
      "grid_column": null,
      "grid_gap": null,
      "grid_row": null,
      "grid_template_areas": null,
      "grid_template_columns": null,
      "grid_template_rows": null,
      "height": null,
      "justify_content": null,
      "justify_items": null,
      "left": null,
      "margin": null,
      "max_height": null,
      "max_width": null,
      "min_height": null,
      "min_width": null,
      "object_fit": null,
      "object_position": null,
      "order": null,
      "overflow": null,
      "overflow_x": null,
      "overflow_y": null,
      "padding": null,
      "right": null,
      "top": null,
      "visibility": null,
      "width": null
     }
    },
    "8b89b9b011584d96ab9f9bab64fb4e79": {
     "model_module": "@jupyter-widgets/controls",
     "model_module_version": "1.5.0",
     "model_name": "ProgressStyleModel",
     "state": {
      "_model_module": "@jupyter-widgets/controls",
      "_model_module_version": "1.5.0",
      "_model_name": "ProgressStyleModel",
      "_view_count": null,
      "_view_module": "@jupyter-widgets/base",
      "_view_module_version": "1.2.0",
      "_view_name": "StyleView",
      "bar_color": null,
      "description_width": ""
     }
    },
    "8dc8d35d4289463792664362c96c284c": {
     "model_module": "@jupyter-widgets/controls",
     "model_module_version": "1.5.0",
     "model_name": "HBoxModel",
     "state": {
      "_dom_classes": [],
      "_model_module": "@jupyter-widgets/controls",
      "_model_module_version": "1.5.0",
      "_model_name": "HBoxModel",
      "_view_count": null,
      "_view_module": "@jupyter-widgets/controls",
      "_view_module_version": "1.5.0",
      "_view_name": "HBoxView",
      "box_style": "",
      "children": [
       "IPY_MODEL_e90167f497b742c787b6cdab2117719d",
       "IPY_MODEL_d39a83196cbe4ba498e3693861bd8c2c",
       "IPY_MODEL_ddd08f9cef1640b5aebf033fd66ba4bd"
      ],
      "layout": "IPY_MODEL_db29fcbad65b4929b9fd064be0929c21"
     }
    },
    "90ad490d2b9040fe82d594ab938cad0a": {
     "model_module": "@jupyter-widgets/controls",
     "model_module_version": "1.5.0",
     "model_name": "DescriptionStyleModel",
     "state": {
      "_model_module": "@jupyter-widgets/controls",
      "_model_module_version": "1.5.0",
      "_model_name": "DescriptionStyleModel",
      "_view_count": null,
      "_view_module": "@jupyter-widgets/base",
      "_view_module_version": "1.2.0",
      "_view_name": "StyleView",
      "description_width": ""
     }
    },
    "92441bea7b084cf3b411d30ea527720d": {
     "model_module": "@jupyter-widgets/controls",
     "model_module_version": "1.5.0",
     "model_name": "ProgressStyleModel",
     "state": {
      "_model_module": "@jupyter-widgets/controls",
      "_model_module_version": "1.5.0",
      "_model_name": "ProgressStyleModel",
      "_view_count": null,
      "_view_module": "@jupyter-widgets/base",
      "_view_module_version": "1.2.0",
      "_view_name": "StyleView",
      "bar_color": null,
      "description_width": ""
     }
    },
    "936567ca6e1f4e59a58693c519895bf5": {
     "model_module": "@jupyter-widgets/controls",
     "model_module_version": "1.5.0",
     "model_name": "HBoxModel",
     "state": {
      "_dom_classes": [],
      "_model_module": "@jupyter-widgets/controls",
      "_model_module_version": "1.5.0",
      "_model_name": "HBoxModel",
      "_view_count": null,
      "_view_module": "@jupyter-widgets/controls",
      "_view_module_version": "1.5.0",
      "_view_name": "HBoxView",
      "box_style": "",
      "children": [
       "IPY_MODEL_9afc6b826ace41ada0ac0e73b55d583a",
       "IPY_MODEL_ce736546d614489ebac39a8d61b41edc",
       "IPY_MODEL_fb10e396b89046d6ab487a1705ae9560"
      ],
      "layout": "IPY_MODEL_ef1579d1a4b74b1b8afc6f16efab23fc"
     }
    },
    "940fca58651041a7a01975f3ef1fa1c6": {
     "model_module": "@jupyter-widgets/base",
     "model_module_version": "1.2.0",
     "model_name": "LayoutModel",
     "state": {
      "_model_module": "@jupyter-widgets/base",
      "_model_module_version": "1.2.0",
      "_model_name": "LayoutModel",
      "_view_count": null,
      "_view_module": "@jupyter-widgets/base",
      "_view_module_version": "1.2.0",
      "_view_name": "LayoutView",
      "align_content": null,
      "align_items": null,
      "align_self": null,
      "border": null,
      "bottom": null,
      "display": null,
      "flex": null,
      "flex_flow": null,
      "grid_area": null,
      "grid_auto_columns": null,
      "grid_auto_flow": null,
      "grid_auto_rows": null,
      "grid_column": null,
      "grid_gap": null,
      "grid_row": null,
      "grid_template_areas": null,
      "grid_template_columns": null,
      "grid_template_rows": null,
      "height": null,
      "justify_content": null,
      "justify_items": null,
      "left": null,
      "margin": null,
      "max_height": null,
      "max_width": null,
      "min_height": null,
      "min_width": null,
      "object_fit": null,
      "object_position": null,
      "order": null,
      "overflow": null,
      "overflow_x": null,
      "overflow_y": null,
      "padding": null,
      "right": null,
      "top": null,
      "visibility": null,
      "width": null
     }
    },
    "95742a8a14ab4552b3f5f7787e1577dc": {
     "model_module": "@jupyter-widgets/controls",
     "model_module_version": "1.5.0",
     "model_name": "FloatProgressModel",
     "state": {
      "_dom_classes": [],
      "_model_module": "@jupyter-widgets/controls",
      "_model_module_version": "1.5.0",
      "_model_name": "FloatProgressModel",
      "_view_count": null,
      "_view_module": "@jupyter-widgets/controls",
      "_view_module_version": "1.5.0",
      "_view_name": "ProgressView",
      "bar_style": "success",
      "description": "",
      "description_tooltip": null,
      "layout": "IPY_MODEL_6952a3c33d2a4b62adfb77cffc732654",
      "max": 1,
      "min": 0,
      "orientation": "horizontal",
      "style": "IPY_MODEL_44617ed36da846bf96cb84e40f022838",
      "value": 1
     }
    },
    "969582fb6a6c4019a1ffe8879c4ff4c1": {
     "model_module": "@jupyter-widgets/controls",
     "model_module_version": "1.5.0",
     "model_name": "FloatProgressModel",
     "state": {
      "_dom_classes": [],
      "_model_module": "@jupyter-widgets/controls",
      "_model_module_version": "1.5.0",
      "_model_name": "FloatProgressModel",
      "_view_count": null,
      "_view_module": "@jupyter-widgets/controls",
      "_view_module_version": "1.5.0",
      "_view_name": "ProgressView",
      "bar_style": "success",
      "description": "",
      "description_tooltip": null,
      "layout": "IPY_MODEL_523415b9fd05477fbc41b133082fa0fb",
      "max": 1,
      "min": 0,
      "orientation": "horizontal",
      "style": "IPY_MODEL_92441bea7b084cf3b411d30ea527720d",
      "value": 1
     }
    },
    "970af300d3bf4e62b3e6c10f009226c5": {
     "model_module": "@jupyter-widgets/controls",
     "model_module_version": "1.5.0",
     "model_name": "FloatProgressModel",
     "state": {
      "_dom_classes": [],
      "_model_module": "@jupyter-widgets/controls",
      "_model_module_version": "1.5.0",
      "_model_name": "FloatProgressModel",
      "_view_count": null,
      "_view_module": "@jupyter-widgets/controls",
      "_view_module_version": "1.5.0",
      "_view_name": "ProgressView",
      "bar_style": "success",
      "description": "",
      "description_tooltip": null,
      "layout": "IPY_MODEL_9a944a512ad940d09d975fbf1ed18978",
      "max": 841,
      "min": 0,
      "orientation": "horizontal",
      "style": "IPY_MODEL_4be1c75bc9634550a69b5e2230b9a440",
      "value": 841
     }
    },
    "98a044130c26468aaff09d56f423bb4f": {
     "model_module": "@jupyter-widgets/controls",
     "model_module_version": "1.5.0",
     "model_name": "FloatProgressModel",
     "state": {
      "_dom_classes": [],
      "_model_module": "@jupyter-widgets/controls",
      "_model_module_version": "1.5.0",
      "_model_name": "FloatProgressModel",
      "_view_count": null,
      "_view_module": "@jupyter-widgets/controls",
      "_view_module_version": "1.5.0",
      "_view_name": "ProgressView",
      "bar_style": "success",
      "description": "",
      "description_tooltip": null,
      "layout": "IPY_MODEL_e7ef7976734b4bd9bae97aab8b279242",
      "max": 1,
      "min": 0,
      "orientation": "horizontal",
      "style": "IPY_MODEL_81bc0a9c71bf47738918cab6dd8b4b96",
      "value": 1
     }
    },
    "9a944a512ad940d09d975fbf1ed18978": {
     "model_module": "@jupyter-widgets/base",
     "model_module_version": "1.2.0",
     "model_name": "LayoutModel",
     "state": {
      "_model_module": "@jupyter-widgets/base",
      "_model_module_version": "1.2.0",
      "_model_name": "LayoutModel",
      "_view_count": null,
      "_view_module": "@jupyter-widgets/base",
      "_view_module_version": "1.2.0",
      "_view_name": "LayoutView",
      "align_content": null,
      "align_items": null,
      "align_self": null,
      "border": null,
      "bottom": null,
      "display": null,
      "flex": null,
      "flex_flow": null,
      "grid_area": null,
      "grid_auto_columns": null,
      "grid_auto_flow": null,
      "grid_auto_rows": null,
      "grid_column": null,
      "grid_gap": null,
      "grid_row": null,
      "grid_template_areas": null,
      "grid_template_columns": null,
      "grid_template_rows": null,
      "height": null,
      "justify_content": null,
      "justify_items": null,
      "left": null,
      "margin": null,
      "max_height": null,
      "max_width": null,
      "min_height": null,
      "min_width": null,
      "object_fit": null,
      "object_position": null,
      "order": null,
      "overflow": null,
      "overflow_x": null,
      "overflow_y": null,
      "padding": null,
      "right": null,
      "top": null,
      "visibility": null,
      "width": null
     }
    },
    "9afc6b826ace41ada0ac0e73b55d583a": {
     "model_module": "@jupyter-widgets/controls",
     "model_module_version": "1.5.0",
     "model_name": "HTMLModel",
     "state": {
      "_dom_classes": [],
      "_model_module": "@jupyter-widgets/controls",
      "_model_module_version": "1.5.0",
      "_model_name": "HTMLModel",
      "_view_count": null,
      "_view_module": "@jupyter-widgets/controls",
      "_view_module_version": "1.5.0",
      "_view_name": "HTMLView",
      "description": "",
      "description_tooltip": null,
      "layout": "IPY_MODEL_78f8aa22ccdd4cd298de9d9db48a1665",
      "placeholder": "​",
      "style": "IPY_MODEL_6aae9d8010d54197a67caa278a5ee40a",
      "value": "Fetching 1 files: 100%"
     }
    },
    "9b993c56189f45259059561b3811322c": {
     "model_module": "@jupyter-widgets/controls",
     "model_module_version": "1.5.0",
     "model_name": "ProgressStyleModel",
     "state": {
      "_model_module": "@jupyter-widgets/controls",
      "_model_module_version": "1.5.0",
      "_model_name": "ProgressStyleModel",
      "_view_count": null,
      "_view_module": "@jupyter-widgets/base",
      "_view_module_version": "1.2.0",
      "_view_name": "StyleView",
      "bar_color": null,
      "description_width": ""
     }
    },
    "9bac5812620f46aebf1e09b10b752a4f": {
     "model_module": "@jupyter-widgets/base",
     "model_module_version": "1.2.0",
     "model_name": "LayoutModel",
     "state": {
      "_model_module": "@jupyter-widgets/base",
      "_model_module_version": "1.2.0",
      "_model_name": "LayoutModel",
      "_view_count": null,
      "_view_module": "@jupyter-widgets/base",
      "_view_module_version": "1.2.0",
      "_view_name": "LayoutView",
      "align_content": null,
      "align_items": null,
      "align_self": null,
      "border": null,
      "bottom": null,
      "display": null,
      "flex": null,
      "flex_flow": null,
      "grid_area": null,
      "grid_auto_columns": null,
      "grid_auto_flow": null,
      "grid_auto_rows": null,
      "grid_column": null,
      "grid_gap": null,
      "grid_row": null,
      "grid_template_areas": null,
      "grid_template_columns": null,
      "grid_template_rows": null,
      "height": null,
      "justify_content": null,
      "justify_items": null,
      "left": null,
      "margin": null,
      "max_height": null,
      "max_width": null,
      "min_height": null,
      "min_width": null,
      "object_fit": null,
      "object_position": null,
      "order": null,
      "overflow": null,
      "overflow_x": null,
      "overflow_y": null,
      "padding": null,
      "right": null,
      "top": null,
      "visibility": null,
      "width": null
     }
    },
    "9ccc8db0159742cb8a44ab5e11334ec2": {
     "model_module": "@jupyter-widgets/controls",
     "model_module_version": "1.5.0",
     "model_name": "FloatProgressModel",
     "state": {
      "_dom_classes": [],
      "_model_module": "@jupyter-widgets/controls",
      "_model_module_version": "1.5.0",
      "_model_name": "FloatProgressModel",
      "_view_count": null,
      "_view_module": "@jupyter-widgets/controls",
      "_view_module_version": "1.5.0",
      "_view_name": "ProgressView",
      "bar_style": "success",
      "description": "",
      "description_tooltip": null,
      "layout": "IPY_MODEL_b39ed12e9a604afcb769c03bf2cd3b6d",
      "max": 172175856,
      "min": 0,
      "orientation": "horizontal",
      "style": "IPY_MODEL_22b3eb35c0c544d0a576800c9a8b08bb",
      "value": 172175856
     }
    },
    "a648caf4303f451db143d618d417c176": {
     "model_module": "@jupyter-widgets/controls",
     "model_module_version": "1.5.0",
     "model_name": "DescriptionStyleModel",
     "state": {
      "_model_module": "@jupyter-widgets/controls",
      "_model_module_version": "1.5.0",
      "_model_name": "DescriptionStyleModel",
      "_view_count": null,
      "_view_module": "@jupyter-widgets/base",
      "_view_module_version": "1.2.0",
      "_view_name": "StyleView",
      "description_width": ""
     }
    },
    "a67d0a0f26594996a3ad1a4678cd9ca9": {
     "model_module": "@jupyter-widgets/base",
     "model_module_version": "1.2.0",
     "model_name": "LayoutModel",
     "state": {
      "_model_module": "@jupyter-widgets/base",
      "_model_module_version": "1.2.0",
      "_model_name": "LayoutModel",
      "_view_count": null,
      "_view_module": "@jupyter-widgets/base",
      "_view_module_version": "1.2.0",
      "_view_name": "LayoutView",
      "align_content": null,
      "align_items": null,
      "align_self": null,
      "border": null,
      "bottom": null,
      "display": null,
      "flex": null,
      "flex_flow": null,
      "grid_area": null,
      "grid_auto_columns": null,
      "grid_auto_flow": null,
      "grid_auto_rows": null,
      "grid_column": null,
      "grid_gap": null,
      "grid_row": null,
      "grid_template_areas": null,
      "grid_template_columns": null,
      "grid_template_rows": null,
      "height": null,
      "justify_content": null,
      "justify_items": null,
      "left": null,
      "margin": null,
      "max_height": null,
      "max_width": null,
      "min_height": null,
      "min_width": null,
      "object_fit": null,
      "object_position": null,
      "order": null,
      "overflow": null,
      "overflow_x": null,
      "overflow_y": null,
      "padding": null,
      "right": null,
      "top": null,
      "visibility": null,
      "width": null
     }
    },
    "a76f30c3b95d49e59bbfe6cf502bc68f": {
     "model_module": "@jupyter-widgets/base",
     "model_module_version": "1.2.0",
     "model_name": "LayoutModel",
     "state": {
      "_model_module": "@jupyter-widgets/base",
      "_model_module_version": "1.2.0",
      "_model_name": "LayoutModel",
      "_view_count": null,
      "_view_module": "@jupyter-widgets/base",
      "_view_module_version": "1.2.0",
      "_view_name": "LayoutView",
      "align_content": null,
      "align_items": null,
      "align_self": null,
      "border": null,
      "bottom": null,
      "display": null,
      "flex": null,
      "flex_flow": null,
      "grid_area": null,
      "grid_auto_columns": null,
      "grid_auto_flow": null,
      "grid_auto_rows": null,
      "grid_column": null,
      "grid_gap": null,
      "grid_row": null,
      "grid_template_areas": null,
      "grid_template_columns": null,
      "grid_template_rows": null,
      "height": null,
      "justify_content": null,
      "justify_items": null,
      "left": null,
      "margin": null,
      "max_height": null,
      "max_width": null,
      "min_height": null,
      "min_width": null,
      "object_fit": null,
      "object_position": null,
      "order": null,
      "overflow": null,
      "overflow_x": null,
      "overflow_y": null,
      "padding": null,
      "right": null,
      "top": null,
      "visibility": null,
      "width": null
     }
    },
    "a915e651fb3f4a15b8ab2c2ea8f751e2": {
     "model_module": "@jupyter-widgets/controls",
     "model_module_version": "1.5.0",
     "model_name": "HTMLModel",
     "state": {
      "_dom_classes": [],
      "_model_module": "@jupyter-widgets/controls",
      "_model_module_version": "1.5.0",
      "_model_name": "HTMLModel",
      "_view_count": null,
      "_view_module": "@jupyter-widgets/controls",
      "_view_module_version": "1.5.0",
      "_view_name": "HTMLView",
      "description": "",
      "description_tooltip": null,
      "layout": "IPY_MODEL_e09058d5064d4cd69decea7cdedc5ca7",
      "placeholder": "​",
      "style": "IPY_MODEL_d1332d90ed894f698280eef2bbc1bc58",
      "value": "preprocessor_config.json: 100%"
     }
    },
    "a974c116de7941d19efea820b44b76d4": {
     "model_module": "@jupyter-widgets/base",
     "model_module_version": "1.2.0",
     "model_name": "LayoutModel",
     "state": {
      "_model_module": "@jupyter-widgets/base",
      "_model_module_version": "1.2.0",
      "_model_name": "LayoutModel",
      "_view_count": null,
      "_view_module": "@jupyter-widgets/base",
      "_view_module_version": "1.2.0",
      "_view_name": "LayoutView",
      "align_content": null,
      "align_items": null,
      "align_self": null,
      "border": null,
      "bottom": null,
      "display": null,
      "flex": null,
      "flex_flow": null,
      "grid_area": null,
      "grid_auto_columns": null,
      "grid_auto_flow": null,
      "grid_auto_rows": null,
      "grid_column": null,
      "grid_gap": null,
      "grid_row": null,
      "grid_template_areas": null,
      "grid_template_columns": null,
      "grid_template_rows": null,
      "height": null,
      "justify_content": null,
      "justify_items": null,
      "left": null,
      "margin": null,
      "max_height": null,
      "max_width": null,
      "min_height": null,
      "min_width": null,
      "object_fit": null,
      "object_position": null,
      "order": null,
      "overflow": null,
      "overflow_x": null,
      "overflow_y": null,
      "padding": null,
      "right": null,
      "top": null,
      "visibility": null,
      "width": null
     }
    },
    "a9f52a93873343bd9d27f3acc523f767": {
     "model_module": "@jupyter-widgets/base",
     "model_module_version": "1.2.0",
     "model_name": "LayoutModel",
     "state": {
      "_model_module": "@jupyter-widgets/base",
      "_model_module_version": "1.2.0",
      "_model_name": "LayoutModel",
      "_view_count": null,
      "_view_module": "@jupyter-widgets/base",
      "_view_module_version": "1.2.0",
      "_view_name": "LayoutView",
      "align_content": null,
      "align_items": null,
      "align_self": null,
      "border": null,
      "bottom": null,
      "display": null,
      "flex": null,
      "flex_flow": null,
      "grid_area": null,
      "grid_auto_columns": null,
      "grid_auto_flow": null,
      "grid_auto_rows": null,
      "grid_column": null,
      "grid_gap": null,
      "grid_row": null,
      "grid_template_areas": null,
      "grid_template_columns": null,
      "grid_template_rows": null,
      "height": null,
      "justify_content": null,
      "justify_items": null,
      "left": null,
      "margin": null,
      "max_height": null,
      "max_width": null,
      "min_height": null,
      "min_width": null,
      "object_fit": null,
      "object_position": null,
      "order": null,
      "overflow": null,
      "overflow_x": null,
      "overflow_y": null,
      "padding": null,
      "right": null,
      "top": null,
      "visibility": null,
      "width": "20px"
     }
    },
    "aa98ad25b5184862811cb5c70f15ede2": {
     "model_module": "@jupyter-widgets/controls",
     "model_module_version": "1.5.0",
     "model_name": "FloatProgressModel",
     "state": {
      "_dom_classes": [],
      "_model_module": "@jupyter-widgets/controls",
      "_model_module_version": "1.5.0",
      "_model_name": "FloatProgressModel",
      "_view_count": null,
      "_view_module": "@jupyter-widgets/controls",
      "_view_module_version": "1.5.0",
      "_view_name": "ProgressView",
      "bar_style": "success",
      "description": "",
      "description_tooltip": null,
      "layout": "IPY_MODEL_ea975d14d5204ad49c6e567e13b57f67",
      "max": 132619932,
      "min": 0,
      "orientation": "horizontal",
      "style": "IPY_MODEL_8b89b9b011584d96ab9f9bab64fb4e79",
      "value": 132619932
     }
    },
    "aae8232099b5400cbe600053cd74529a": {
     "model_module": "@jupyter-widgets/base",
     "model_module_version": "1.2.0",
     "model_name": "LayoutModel",
     "state": {
      "_model_module": "@jupyter-widgets/base",
      "_model_module_version": "1.2.0",
      "_model_name": "LayoutModel",
      "_view_count": null,
      "_view_module": "@jupyter-widgets/base",
      "_view_module_version": "1.2.0",
      "_view_name": "LayoutView",
      "align_content": null,
      "align_items": null,
      "align_self": null,
      "border": null,
      "bottom": null,
      "display": null,
      "flex": null,
      "flex_flow": null,
      "grid_area": null,
      "grid_auto_columns": null,
      "grid_auto_flow": null,
      "grid_auto_rows": null,
      "grid_column": null,
      "grid_gap": null,
      "grid_row": null,
      "grid_template_areas": null,
      "grid_template_columns": null,
      "grid_template_rows": null,
      "height": null,
      "justify_content": null,
      "justify_items": null,
      "left": null,
      "margin": null,
      "max_height": null,
      "max_width": null,
      "min_height": null,
      "min_width": null,
      "object_fit": null,
      "object_position": null,
      "order": null,
      "overflow": null,
      "overflow_x": null,
      "overflow_y": null,
      "padding": null,
      "right": null,
      "top": null,
      "visibility": null,
      "width": null
     }
    },
    "ab0cf4d70e0345fb9bf52a38c43eed23": {
     "model_module": "@jupyter-widgets/base",
     "model_module_version": "1.2.0",
     "model_name": "LayoutModel",
     "state": {
      "_model_module": "@jupyter-widgets/base",
      "_model_module_version": "1.2.0",
      "_model_name": "LayoutModel",
      "_view_count": null,
      "_view_module": "@jupyter-widgets/base",
      "_view_module_version": "1.2.0",
      "_view_name": "LayoutView",
      "align_content": null,
      "align_items": null,
      "align_self": null,
      "border": null,
      "bottom": null,
      "display": null,
      "flex": null,
      "flex_flow": null,
      "grid_area": null,
      "grid_auto_columns": null,
      "grid_auto_flow": null,
      "grid_auto_rows": null,
      "grid_column": null,
      "grid_gap": null,
      "grid_row": null,
      "grid_template_areas": null,
      "grid_template_columns": null,
      "grid_template_rows": null,
      "height": null,
      "justify_content": null,
      "justify_items": null,
      "left": null,
      "margin": null,
      "max_height": null,
      "max_width": null,
      "min_height": null,
      "min_width": null,
      "object_fit": null,
      "object_position": null,
      "order": null,
      "overflow": null,
      "overflow_x": null,
      "overflow_y": null,
      "padding": null,
      "right": null,
      "top": null,
      "visibility": null,
      "width": null
     }
    },
    "adf685c7f3de4b7ba78edaca9dc331c0": {
     "model_module": "@jupyter-widgets/base",
     "model_module_version": "1.2.0",
     "model_name": "LayoutModel",
     "state": {
      "_model_module": "@jupyter-widgets/base",
      "_model_module_version": "1.2.0",
      "_model_name": "LayoutModel",
      "_view_count": null,
      "_view_module": "@jupyter-widgets/base",
      "_view_module_version": "1.2.0",
      "_view_name": "LayoutView",
      "align_content": null,
      "align_items": null,
      "align_self": null,
      "border": null,
      "bottom": null,
      "display": null,
      "flex": null,
      "flex_flow": null,
      "grid_area": null,
      "grid_auto_columns": null,
      "grid_auto_flow": null,
      "grid_auto_rows": null,
      "grid_column": null,
      "grid_gap": null,
      "grid_row": null,
      "grid_template_areas": null,
      "grid_template_columns": null,
      "grid_template_rows": null,
      "height": null,
      "justify_content": null,
      "justify_items": null,
      "left": null,
      "margin": null,
      "max_height": null,
      "max_width": null,
      "min_height": null,
      "min_width": null,
      "object_fit": null,
      "object_position": null,
      "order": null,
      "overflow": null,
      "overflow_x": null,
      "overflow_y": null,
      "padding": null,
      "right": null,
      "top": null,
      "visibility": null,
      "width": null
     }
    },
    "ae3ad42565194c79a7df04d71bd79f87": {
     "model_module": "@jupyter-widgets/controls",
     "model_module_version": "1.5.0",
     "model_name": "HTMLModel",
     "state": {
      "_dom_classes": [],
      "_model_module": "@jupyter-widgets/controls",
      "_model_module_version": "1.5.0",
      "_model_name": "HTMLModel",
      "_view_count": null,
      "_view_module": "@jupyter-widgets/controls",
      "_view_module_version": "1.5.0",
      "_view_name": "HTMLView",
      "description": "",
      "description_tooltip": null,
      "layout": "IPY_MODEL_f5ecbbbd04a544fb9fc05e15925802e6",
      "placeholder": "​",
      "style": "IPY_MODEL_0b5498b59b024a65ad9f74dd20dee1ae",
      "value": " 1.85k/? [00:00&lt;00:00, 224kB/s]"
     }
    },
    "ae81da60e27648e9b90b8f4decf0ca2c": {
     "model_module": "@jupyter-widgets/controls",
     "model_module_version": "1.5.0",
     "model_name": "ProgressStyleModel",
     "state": {
      "_model_module": "@jupyter-widgets/controls",
      "_model_module_version": "1.5.0",
      "_model_name": "ProgressStyleModel",
      "_view_count": null,
      "_view_module": "@jupyter-widgets/base",
      "_view_module_version": "1.2.0",
      "_view_name": "StyleView",
      "bar_color": null,
      "description_width": ""
     }
    },
    "b142320614fd4b4988b69c76f6817b6d": {
     "model_module": "@jupyter-widgets/controls",
     "model_module_version": "1.5.0",
     "model_name": "HBoxModel",
     "state": {
      "_dom_classes": [],
      "_model_module": "@jupyter-widgets/controls",
      "_model_module_version": "1.5.0",
      "_model_name": "HBoxModel",
      "_view_count": null,
      "_view_module": "@jupyter-widgets/controls",
      "_view_module_version": "1.5.0",
      "_view_name": "HBoxView",
      "box_style": "",
      "children": [
       "IPY_MODEL_389f19de60c4422d9020cecda28d234e",
       "IPY_MODEL_1eefa306dbdd4b20960f1fc8234088b1",
       "IPY_MODEL_3a8effc4449a45fbad331c3adec2ca8f"
      ],
      "layout": "IPY_MODEL_076613c55a354d16ac05f283917f0afc"
     }
    },
    "b27ba1e09f6044288bd192ce26955c05": {
     "model_module": "@jupyter-widgets/controls",
     "model_module_version": "1.5.0",
     "model_name": "DescriptionStyleModel",
     "state": {
      "_model_module": "@jupyter-widgets/controls",
      "_model_module_version": "1.5.0",
      "_model_name": "DescriptionStyleModel",
      "_view_count": null,
      "_view_module": "@jupyter-widgets/base",
      "_view_module_version": "1.2.0",
      "_view_name": "StyleView",
      "description_width": ""
     }
    },
    "b39ed12e9a604afcb769c03bf2cd3b6d": {
     "model_module": "@jupyter-widgets/base",
     "model_module_version": "1.2.0",
     "model_name": "LayoutModel",
     "state": {
      "_model_module": "@jupyter-widgets/base",
      "_model_module_version": "1.2.0",
      "_model_name": "LayoutModel",
      "_view_count": null,
      "_view_module": "@jupyter-widgets/base",
      "_view_module_version": "1.2.0",
      "_view_name": "LayoutView",
      "align_content": null,
      "align_items": null,
      "align_self": null,
      "border": null,
      "bottom": null,
      "display": null,
      "flex": null,
      "flex_flow": null,
      "grid_area": null,
      "grid_auto_columns": null,
      "grid_auto_flow": null,
      "grid_auto_rows": null,
      "grid_column": null,
      "grid_gap": null,
      "grid_row": null,
      "grid_template_areas": null,
      "grid_template_columns": null,
      "grid_template_rows": null,
      "height": null,
      "justify_content": null,
      "justify_items": null,
      "left": null,
      "margin": null,
      "max_height": null,
      "max_width": null,
      "min_height": null,
      "min_width": null,
      "object_fit": null,
      "object_position": null,
      "order": null,
      "overflow": null,
      "overflow_x": null,
      "overflow_y": null,
      "padding": null,
      "right": null,
      "top": null,
      "visibility": null,
      "width": null
     }
    },
    "b8ad80581b984d0bac72d46045cecef5": {
     "model_module": "@jupyter-widgets/base",
     "model_module_version": "1.2.0",
     "model_name": "LayoutModel",
     "state": {
      "_model_module": "@jupyter-widgets/base",
      "_model_module_version": "1.2.0",
      "_model_name": "LayoutModel",
      "_view_count": null,
      "_view_module": "@jupyter-widgets/base",
      "_view_module_version": "1.2.0",
      "_view_name": "LayoutView",
      "align_content": null,
      "align_items": null,
      "align_self": null,
      "border": null,
      "bottom": null,
      "display": null,
      "flex": null,
      "flex_flow": null,
      "grid_area": null,
      "grid_auto_columns": null,
      "grid_auto_flow": null,
      "grid_auto_rows": null,
      "grid_column": null,
      "grid_gap": null,
      "grid_row": null,
      "grid_template_areas": null,
      "grid_template_columns": null,
      "grid_template_rows": null,
      "height": null,
      "justify_content": null,
      "justify_items": null,
      "left": null,
      "margin": null,
      "max_height": null,
      "max_width": null,
      "min_height": null,
      "min_width": null,
      "object_fit": null,
      "object_position": null,
      "order": null,
      "overflow": null,
      "overflow_x": null,
      "overflow_y": null,
      "padding": null,
      "right": null,
      "top": null,
      "visibility": null,
      "width": null
     }
    },
    "bac2e3fbefa34f21a4518d64fb9e6b06": {
     "model_module": "@jupyter-widgets/controls",
     "model_module_version": "1.5.0",
     "model_name": "HTMLModel",
     "state": {
      "_dom_classes": [],
      "_model_module": "@jupyter-widgets/controls",
      "_model_module_version": "1.5.0",
      "_model_name": "HTMLModel",
      "_view_count": null,
      "_view_module": "@jupyter-widgets/controls",
      "_view_module_version": "1.5.0",
      "_view_name": "HTMLView",
      "description": "",
      "description_tooltip": null,
      "layout": "IPY_MODEL_35f6700ef110418c9fbe4ed851ba8f99",
      "placeholder": "​",
      "style": "IPY_MODEL_3f9061eb04504ea798d4f4a1c9263de6",
      "value": " 172M/172M [00:01&lt;00:00, 132MB/s]"
     }
    },
    "bf5fdb802b62423d8b5d7913be536bf8": {
     "model_module": "@jupyter-widgets/controls",
     "model_module_version": "1.5.0",
     "model_name": "HTMLModel",
     "state": {
      "_dom_classes": [],
      "_model_module": "@jupyter-widgets/controls",
      "_model_module_version": "1.5.0",
      "_model_name": "HTMLModel",
      "_view_count": null,
      "_view_module": "@jupyter-widgets/controls",
      "_view_module_version": "1.5.0",
      "_view_name": "HTMLView",
      "description": "",
      "description_tooltip": null,
      "layout": "IPY_MODEL_d6945b9821434722a45d150e5ac76480",
      "placeholder": "​",
      "style": "IPY_MODEL_0c4ed2d9e3d241d78ea1fb89a76a45b8",
      "value": " 1/1 [00:00&lt;00:00, 129.70it/s]"
     }
    },
    "c2375af2e70048c8ad6b686ee79130ae": {
     "model_module": "@jupyter-widgets/base",
     "model_module_version": "1.2.0",
     "model_name": "LayoutModel",
     "state": {
      "_model_module": "@jupyter-widgets/base",
      "_model_module_version": "1.2.0",
      "_model_name": "LayoutModel",
      "_view_count": null,
      "_view_module": "@jupyter-widgets/base",
      "_view_module_version": "1.2.0",
      "_view_name": "LayoutView",
      "align_content": null,
      "align_items": null,
      "align_self": null,
      "border": null,
      "bottom": null,
      "display": null,
      "flex": null,
      "flex_flow": null,
      "grid_area": null,
      "grid_auto_columns": null,
      "grid_auto_flow": null,
      "grid_auto_rows": null,
      "grid_column": null,
      "grid_gap": null,
      "grid_row": null,
      "grid_template_areas": null,
      "grid_template_columns": null,
      "grid_template_rows": null,
      "height": null,
      "justify_content": null,
      "justify_items": null,
      "left": null,
      "margin": null,
      "max_height": null,
      "max_width": null,
      "min_height": null,
      "min_width": null,
      "object_fit": null,
      "object_position": null,
      "order": null,
      "overflow": null,
      "overflow_x": null,
      "overflow_y": null,
      "padding": null,
      "right": null,
      "top": null,
      "visibility": null,
      "width": null
     }
    },
    "c3ce69498dcc47f9b11e2f70103ba17e": {
     "model_module": "@jupyter-widgets/base",
     "model_module_version": "1.2.0",
     "model_name": "LayoutModel",
     "state": {
      "_model_module": "@jupyter-widgets/base",
      "_model_module_version": "1.2.0",
      "_model_name": "LayoutModel",
      "_view_count": null,
      "_view_module": "@jupyter-widgets/base",
      "_view_module_version": "1.2.0",
      "_view_name": "LayoutView",
      "align_content": null,
      "align_items": null,
      "align_self": null,
      "border": null,
      "bottom": null,
      "display": null,
      "flex": null,
      "flex_flow": null,
      "grid_area": null,
      "grid_auto_columns": null,
      "grid_auto_flow": null,
      "grid_auto_rows": null,
      "grid_column": null,
      "grid_gap": null,
      "grid_row": null,
      "grid_template_areas": null,
      "grid_template_columns": null,
      "grid_template_rows": null,
      "height": null,
      "justify_content": null,
      "justify_items": null,
      "left": null,
      "margin": null,
      "max_height": null,
      "max_width": null,
      "min_height": null,
      "min_width": null,
      "object_fit": null,
      "object_position": null,
      "order": null,
      "overflow": null,
      "overflow_x": null,
      "overflow_y": null,
      "padding": null,
      "right": null,
      "top": null,
      "visibility": null,
      "width": null
     }
    },
    "c3daa2c0b9a14fdab06b3507547d7355": {
     "model_module": "@jupyter-widgets/controls",
     "model_module_version": "1.5.0",
     "model_name": "HTMLModel",
     "state": {
      "_dom_classes": [],
      "_model_module": "@jupyter-widgets/controls",
      "_model_module_version": "1.5.0",
      "_model_name": "HTMLModel",
      "_view_count": null,
      "_view_module": "@jupyter-widgets/controls",
      "_view_module_version": "1.5.0",
      "_view_name": "HTMLView",
      "description": "",
      "description_tooltip": null,
      "layout": "IPY_MODEL_f4348bb231cf4397a9762f150cba61a0",
      "placeholder": "​",
      "style": "IPY_MODEL_128570981df9468e9135a454c34ad6b9",
      "value": " 5.11k/? [00:00&lt;00:00, 489kB/s]"
     }
    },
    "c3ee6c15cc284983aa319ab094badbc6": {
     "model_module": "@jupyter-widgets/controls",
     "model_module_version": "1.5.0",
     "model_name": "HBoxModel",
     "state": {
      "_dom_classes": [],
      "_model_module": "@jupyter-widgets/controls",
      "_model_module_version": "1.5.0",
      "_model_name": "HBoxModel",
      "_view_count": null,
      "_view_module": "@jupyter-widgets/controls",
      "_view_module_version": "1.5.0",
      "_view_name": "HBoxView",
      "box_style": "",
      "children": [
       "IPY_MODEL_00dfe6644ac549b19d68ddc71db78503",
       "IPY_MODEL_969582fb6a6c4019a1ffe8879c4ff4c1",
       "IPY_MODEL_c400554a65dc49838e90ab2dc8d9683d"
      ],
      "layout": "IPY_MODEL_ab0cf4d70e0345fb9bf52a38c43eed23"
     }
    },
    "c400554a65dc49838e90ab2dc8d9683d": {
     "model_module": "@jupyter-widgets/controls",
     "model_module_version": "1.5.0",
     "model_name": "HTMLModel",
     "state": {
      "_dom_classes": [],
      "_model_module": "@jupyter-widgets/controls",
      "_model_module_version": "1.5.0",
      "_model_name": "HTMLModel",
      "_view_count": null,
      "_view_module": "@jupyter-widgets/controls",
      "_view_module_version": "1.5.0",
      "_view_name": "HTMLView",
      "description": "",
      "description_tooltip": null,
      "layout": "IPY_MODEL_fa9bd4b113c54a33b6ad78a584ec451e",
      "placeholder": "​",
      "style": "IPY_MODEL_5a967dd06e09440ea4978c77b308cf69",
      "value": " 1/1 [00:00&lt;00:00, 132.82it/s]"
     }
    },
    "c5954ed7a268425a93803060d36bafe7": {
     "model_module": "@jupyter-widgets/base",
     "model_module_version": "1.2.0",
     "model_name": "LayoutModel",
     "state": {
      "_model_module": "@jupyter-widgets/base",
      "_model_module_version": "1.2.0",
      "_model_name": "LayoutModel",
      "_view_count": null,
      "_view_module": "@jupyter-widgets/base",
      "_view_module_version": "1.2.0",
      "_view_name": "LayoutView",
      "align_content": null,
      "align_items": null,
      "align_self": null,
      "border": null,
      "bottom": null,
      "display": null,
      "flex": null,
      "flex_flow": null,
      "grid_area": null,
      "grid_auto_columns": null,
      "grid_auto_flow": null,
      "grid_auto_rows": null,
      "grid_column": null,
      "grid_gap": null,
      "grid_row": null,
      "grid_template_areas": null,
      "grid_template_columns": null,
      "grid_template_rows": null,
      "height": null,
      "justify_content": null,
      "justify_items": null,
      "left": null,
      "margin": null,
      "max_height": null,
      "max_width": null,
      "min_height": null,
      "min_width": null,
      "object_fit": null,
      "object_position": null,
      "order": null,
      "overflow": null,
      "overflow_x": null,
      "overflow_y": null,
      "padding": null,
      "right": null,
      "top": null,
      "visibility": null,
      "width": null
     }
    },
    "c6750f6928c94ea6842bc378f1ca1381": {
     "model_module": "@jupyter-widgets/controls",
     "model_module_version": "1.5.0",
     "model_name": "DescriptionStyleModel",
     "state": {
      "_model_module": "@jupyter-widgets/controls",
      "_model_module_version": "1.5.0",
      "_model_name": "DescriptionStyleModel",
      "_view_count": null,
      "_view_module": "@jupyter-widgets/base",
      "_view_module_version": "1.2.0",
      "_view_name": "StyleView",
      "description_width": ""
     }
    },
    "c7a52b9b58884888b0a16598cf9aae0b": {
     "model_module": "@jupyter-widgets/base",
     "model_module_version": "1.2.0",
     "model_name": "LayoutModel",
     "state": {
      "_model_module": "@jupyter-widgets/base",
      "_model_module_version": "1.2.0",
      "_model_name": "LayoutModel",
      "_view_count": null,
      "_view_module": "@jupyter-widgets/base",
      "_view_module_version": "1.2.0",
      "_view_name": "LayoutView",
      "align_content": null,
      "align_items": null,
      "align_self": null,
      "border": null,
      "bottom": null,
      "display": null,
      "flex": null,
      "flex_flow": null,
      "grid_area": null,
      "grid_auto_columns": null,
      "grid_auto_flow": null,
      "grid_auto_rows": null,
      "grid_column": null,
      "grid_gap": null,
      "grid_row": null,
      "grid_template_areas": null,
      "grid_template_columns": null,
      "grid_template_rows": null,
      "height": null,
      "justify_content": null,
      "justify_items": null,
      "left": null,
      "margin": null,
      "max_height": null,
      "max_width": null,
      "min_height": null,
      "min_width": null,
      "object_fit": null,
      "object_position": null,
      "order": null,
      "overflow": null,
      "overflow_x": null,
      "overflow_y": null,
      "padding": null,
      "right": null,
      "top": null,
      "visibility": null,
      "width": null
     }
    },
    "cbe84a921b39492f8467685079c86d26": {
     "model_module": "@jupyter-widgets/base",
     "model_module_version": "1.2.0",
     "model_name": "LayoutModel",
     "state": {
      "_model_module": "@jupyter-widgets/base",
      "_model_module_version": "1.2.0",
      "_model_name": "LayoutModel",
      "_view_count": null,
      "_view_module": "@jupyter-widgets/base",
      "_view_module_version": "1.2.0",
      "_view_name": "LayoutView",
      "align_content": null,
      "align_items": null,
      "align_self": null,
      "border": null,
      "bottom": null,
      "display": null,
      "flex": null,
      "flex_flow": null,
      "grid_area": null,
      "grid_auto_columns": null,
      "grid_auto_flow": null,
      "grid_auto_rows": null,
      "grid_column": null,
      "grid_gap": null,
      "grid_row": null,
      "grid_template_areas": null,
      "grid_template_columns": null,
      "grid_template_rows": null,
      "height": null,
      "justify_content": null,
      "justify_items": null,
      "left": null,
      "margin": null,
      "max_height": null,
      "max_width": null,
      "min_height": null,
      "min_width": null,
      "object_fit": null,
      "object_position": null,
      "order": null,
      "overflow": null,
      "overflow_x": null,
      "overflow_y": null,
      "padding": null,
      "right": null,
      "top": null,
      "visibility": null,
      "width": null
     }
    },
    "ce736546d614489ebac39a8d61b41edc": {
     "model_module": "@jupyter-widgets/controls",
     "model_module_version": "1.5.0",
     "model_name": "FloatProgressModel",
     "state": {
      "_dom_classes": [],
      "_model_module": "@jupyter-widgets/controls",
      "_model_module_version": "1.5.0",
      "_model_name": "FloatProgressModel",
      "_view_count": null,
      "_view_module": "@jupyter-widgets/controls",
      "_view_module_version": "1.5.0",
      "_view_name": "ProgressView",
      "bar_style": "success",
      "description": "",
      "description_tooltip": null,
      "layout": "IPY_MODEL_d246c08b17864f28be4aaf371659a281",
      "max": 1,
      "min": 0,
      "orientation": "horizontal",
      "style": "IPY_MODEL_6d7c708e79ae49b882adcd3916ab072c",
      "value": 1
     }
    },
    "cfc7fdeb45c24793a30289380d1f04d3": {
     "model_module": "@jupyter-widgets/controls",
     "model_module_version": "1.5.0",
     "model_name": "ProgressStyleModel",
     "state": {
      "_model_module": "@jupyter-widgets/controls",
      "_model_module_version": "1.5.0",
      "_model_name": "ProgressStyleModel",
      "_view_count": null,
      "_view_module": "@jupyter-widgets/base",
      "_view_module_version": "1.2.0",
      "_view_name": "StyleView",
      "bar_color": null,
      "description_width": ""
     }
    },
    "d042830cde9949f2ae17434ead5b2533": {
     "model_module": "@jupyter-widgets/controls",
     "model_module_version": "1.5.0",
     "model_name": "DescriptionStyleModel",
     "state": {
      "_model_module": "@jupyter-widgets/controls",
      "_model_module_version": "1.5.0",
      "_model_name": "DescriptionStyleModel",
      "_view_count": null,
      "_view_module": "@jupyter-widgets/base",
      "_view_module_version": "1.2.0",
      "_view_name": "StyleView",
      "description_width": ""
     }
    },
    "d1332d90ed894f698280eef2bbc1bc58": {
     "model_module": "@jupyter-widgets/controls",
     "model_module_version": "1.5.0",
     "model_name": "DescriptionStyleModel",
     "state": {
      "_model_module": "@jupyter-widgets/controls",
      "_model_module_version": "1.5.0",
      "_model_name": "DescriptionStyleModel",
      "_view_count": null,
      "_view_module": "@jupyter-widgets/base",
      "_view_module_version": "1.2.0",
      "_view_name": "StyleView",
      "description_width": ""
     }
    },
    "d246c08b17864f28be4aaf371659a281": {
     "model_module": "@jupyter-widgets/base",
     "model_module_version": "1.2.0",
     "model_name": "LayoutModel",
     "state": {
      "_model_module": "@jupyter-widgets/base",
      "_model_module_version": "1.2.0",
      "_model_name": "LayoutModel",
      "_view_count": null,
      "_view_module": "@jupyter-widgets/base",
      "_view_module_version": "1.2.0",
      "_view_name": "LayoutView",
      "align_content": null,
      "align_items": null,
      "align_self": null,
      "border": null,
      "bottom": null,
      "display": null,
      "flex": null,
      "flex_flow": null,
      "grid_area": null,
      "grid_auto_columns": null,
      "grid_auto_flow": null,
      "grid_auto_rows": null,
      "grid_column": null,
      "grid_gap": null,
      "grid_row": null,
      "grid_template_areas": null,
      "grid_template_columns": null,
      "grid_template_rows": null,
      "height": null,
      "justify_content": null,
      "justify_items": null,
      "left": null,
      "margin": null,
      "max_height": null,
      "max_width": null,
      "min_height": null,
      "min_width": null,
      "object_fit": null,
      "object_position": null,
      "order": null,
      "overflow": null,
      "overflow_x": null,
      "overflow_y": null,
      "padding": null,
      "right": null,
      "top": null,
      "visibility": null,
      "width": null
     }
    },
    "d39a83196cbe4ba498e3693861bd8c2c": {
     "model_module": "@jupyter-widgets/controls",
     "model_module_version": "1.5.0",
     "model_name": "FloatProgressModel",
     "state": {
      "_dom_classes": [],
      "_model_module": "@jupyter-widgets/controls",
      "_model_module_version": "1.5.0",
      "_model_name": "FloatProgressModel",
      "_view_count": null,
      "_view_module": "@jupyter-widgets/controls",
      "_view_module_version": "1.5.0",
      "_view_name": "ProgressView",
      "bar_style": "success",
      "description": "",
      "description_tooltip": null,
      "layout": "IPY_MODEL_e5c893cb9b1a4487ae825c5983d30d23",
      "max": 1,
      "min": 0,
      "orientation": "horizontal",
      "style": "IPY_MODEL_efec4ae52b124a779962ab15e9c0b565",
      "value": 1
     }
    },
    "d39fb79d02274c64b8a960efc1fa6247": {
     "model_module": "@jupyter-widgets/base",
     "model_module_version": "1.2.0",
     "model_name": "LayoutModel",
     "state": {
      "_model_module": "@jupyter-widgets/base",
      "_model_module_version": "1.2.0",
      "_model_name": "LayoutModel",
      "_view_count": null,
      "_view_module": "@jupyter-widgets/base",
      "_view_module_version": "1.2.0",
      "_view_name": "LayoutView",
      "align_content": null,
      "align_items": null,
      "align_self": null,
      "border": null,
      "bottom": null,
      "display": null,
      "flex": null,
      "flex_flow": null,
      "grid_area": null,
      "grid_auto_columns": null,
      "grid_auto_flow": null,
      "grid_auto_rows": null,
      "grid_column": null,
      "grid_gap": null,
      "grid_row": null,
      "grid_template_areas": null,
      "grid_template_columns": null,
      "grid_template_rows": null,
      "height": null,
      "justify_content": null,
      "justify_items": null,
      "left": null,
      "margin": null,
      "max_height": null,
      "max_width": null,
      "min_height": null,
      "min_width": null,
      "object_fit": null,
      "object_position": null,
      "order": null,
      "overflow": null,
      "overflow_x": null,
      "overflow_y": null,
      "padding": null,
      "right": null,
      "top": null,
      "visibility": null,
      "width": null
     }
    },
    "d6945b9821434722a45d150e5ac76480": {
     "model_module": "@jupyter-widgets/base",
     "model_module_version": "1.2.0",
     "model_name": "LayoutModel",
     "state": {
      "_model_module": "@jupyter-widgets/base",
      "_model_module_version": "1.2.0",
      "_model_name": "LayoutModel",
      "_view_count": null,
      "_view_module": "@jupyter-widgets/base",
      "_view_module_version": "1.2.0",
      "_view_name": "LayoutView",
      "align_content": null,
      "align_items": null,
      "align_self": null,
      "border": null,
      "bottom": null,
      "display": null,
      "flex": null,
      "flex_flow": null,
      "grid_area": null,
      "grid_auto_columns": null,
      "grid_auto_flow": null,
      "grid_auto_rows": null,
      "grid_column": null,
      "grid_gap": null,
      "grid_row": null,
      "grid_template_areas": null,
      "grid_template_columns": null,
      "grid_template_rows": null,
      "height": null,
      "justify_content": null,
      "justify_items": null,
      "left": null,
      "margin": null,
      "max_height": null,
      "max_width": null,
      "min_height": null,
      "min_width": null,
      "object_fit": null,
      "object_position": null,
      "order": null,
      "overflow": null,
      "overflow_x": null,
      "overflow_y": null,
      "padding": null,
      "right": null,
      "top": null,
      "visibility": null,
      "width": null
     }
    },
    "d99df6874d3f412ebcbeee431c302952": {
     "model_module": "@jupyter-widgets/controls",
     "model_module_version": "1.5.0",
     "model_name": "HTMLModel",
     "state": {
      "_dom_classes": [],
      "_model_module": "@jupyter-widgets/controls",
      "_model_module_version": "1.5.0",
      "_model_name": "HTMLModel",
      "_view_count": null,
      "_view_module": "@jupyter-widgets/controls",
      "_view_module_version": "1.5.0",
      "_view_name": "HTMLView",
      "description": "",
      "description_tooltip": null,
      "layout": "IPY_MODEL_762563ed517442fb97ec5c574b994c50",
      "placeholder": "​",
      "style": "IPY_MODEL_15649f558ac843a4ad72691599b5b6b7",
      "value": " 363/363 [00:00&lt;00:00, 41.1kB/s]"
     }
    },
    "db29fcbad65b4929b9fd064be0929c21": {
     "model_module": "@jupyter-widgets/base",
     "model_module_version": "1.2.0",
     "model_name": "LayoutModel",
     "state": {
      "_model_module": "@jupyter-widgets/base",
      "_model_module_version": "1.2.0",
      "_model_name": "LayoutModel",
      "_view_count": null,
      "_view_module": "@jupyter-widgets/base",
      "_view_module_version": "1.2.0",
      "_view_name": "LayoutView",
      "align_content": null,
      "align_items": null,
      "align_self": null,
      "border": null,
      "bottom": null,
      "display": null,
      "flex": null,
      "flex_flow": null,
      "grid_area": null,
      "grid_auto_columns": null,
      "grid_auto_flow": null,
      "grid_auto_rows": null,
      "grid_column": null,
      "grid_gap": null,
      "grid_row": null,
      "grid_template_areas": null,
      "grid_template_columns": null,
      "grid_template_rows": null,
      "height": null,
      "justify_content": null,
      "justify_items": null,
      "left": null,
      "margin": null,
      "max_height": null,
      "max_width": null,
      "min_height": null,
      "min_width": null,
      "object_fit": null,
      "object_position": null,
      "order": null,
      "overflow": null,
      "overflow_x": null,
      "overflow_y": null,
      "padding": null,
      "right": null,
      "top": null,
      "visibility": null,
      "width": null
     }
    },
    "db8379553c3a423ab711f75f5deb12f3": {
     "model_module": "@jupyter-widgets/controls",
     "model_module_version": "1.5.0",
     "model_name": "HTMLModel",
     "state": {
      "_dom_classes": [],
      "_model_module": "@jupyter-widgets/controls",
      "_model_module_version": "1.5.0",
      "_model_name": "HTMLModel",
      "_view_count": null,
      "_view_module": "@jupyter-widgets/controls",
      "_view_module_version": "1.5.0",
      "_view_name": "HTMLView",
      "description": "",
      "description_tooltip": null,
      "layout": "IPY_MODEL_adf685c7f3de4b7ba78edaca9dc331c0",
      "placeholder": "​",
      "style": "IPY_MODEL_d042830cde9949f2ae17434ead5b2533",
      "value": "model.safetensors: 100%"
     }
    },
    "ddd08f9cef1640b5aebf033fd66ba4bd": {
     "model_module": "@jupyter-widgets/controls",
     "model_module_version": "1.5.0",
     "model_name": "HTMLModel",
     "state": {
      "_dom_classes": [],
      "_model_module": "@jupyter-widgets/controls",
      "_model_module_version": "1.5.0",
      "_model_name": "HTMLModel",
      "_view_count": null,
      "_view_module": "@jupyter-widgets/controls",
      "_view_module_version": "1.5.0",
      "_view_name": "HTMLView",
      "description": "",
      "description_tooltip": null,
      "layout": "IPY_MODEL_6805eb0cdccb41118fa8aab945290675",
      "placeholder": "​",
      "style": "IPY_MODEL_591c7d6b34074ff48a7cf03e9f9d45c7",
      "value": " 1/1 [00:00&lt;00:00, 136.78it/s]"
     }
    },
    "dea8f9d1e6174206ae23b212ffb443bb": {
     "model_module": "@jupyter-widgets/controls",
     "model_module_version": "1.5.0",
     "model_name": "HTMLModel",
     "state": {
      "_dom_classes": [],
      "_model_module": "@jupyter-widgets/controls",
      "_model_module_version": "1.5.0",
      "_model_name": "HTMLModel",
      "_view_count": null,
      "_view_module": "@jupyter-widgets/controls",
      "_view_module_version": "1.5.0",
      "_view_name": "HTMLView",
      "description": "",
      "description_tooltip": null,
      "layout": "IPY_MODEL_c7a52b9b58884888b0a16598cf9aae0b",
      "placeholder": "​",
      "style": "IPY_MODEL_337dda31f29741a0aa7e4baa38bf488d",
      "value": "Fetching 1 files: 100%"
     }
    },
    "e09058d5064d4cd69decea7cdedc5ca7": {
     "model_module": "@jupyter-widgets/base",
     "model_module_version": "1.2.0",
     "model_name": "LayoutModel",
     "state": {
      "_model_module": "@jupyter-widgets/base",
      "_model_module_version": "1.2.0",
      "_model_name": "LayoutModel",
      "_view_count": null,
      "_view_module": "@jupyter-widgets/base",
      "_view_module_version": "1.2.0",
      "_view_name": "LayoutView",
      "align_content": null,
      "align_items": null,
      "align_self": null,
      "border": null,
      "bottom": null,
      "display": null,
      "flex": null,
      "flex_flow": null,
      "grid_area": null,
      "grid_auto_columns": null,
      "grid_auto_flow": null,
      "grid_auto_rows": null,
      "grid_column": null,
      "grid_gap": null,
      "grid_row": null,
      "grid_template_areas": null,
      "grid_template_columns": null,
      "grid_template_rows": null,
      "height": null,
      "justify_content": null,
      "justify_items": null,
      "left": null,
      "margin": null,
      "max_height": null,
      "max_width": null,
      "min_height": null,
      "min_width": null,
      "object_fit": null,
      "object_position": null,
      "order": null,
      "overflow": null,
      "overflow_x": null,
      "overflow_y": null,
      "padding": null,
      "right": null,
      "top": null,
      "visibility": null,
      "width": null
     }
    },
    "e5c893cb9b1a4487ae825c5983d30d23": {
     "model_module": "@jupyter-widgets/base",
     "model_module_version": "1.2.0",
     "model_name": "LayoutModel",
     "state": {
      "_model_module": "@jupyter-widgets/base",
      "_model_module_version": "1.2.0",
      "_model_name": "LayoutModel",
      "_view_count": null,
      "_view_module": "@jupyter-widgets/base",
      "_view_module_version": "1.2.0",
      "_view_name": "LayoutView",
      "align_content": null,
      "align_items": null,
      "align_self": null,
      "border": null,
      "bottom": null,
      "display": null,
      "flex": null,
      "flex_flow": null,
      "grid_area": null,
      "grid_auto_columns": null,
      "grid_auto_flow": null,
      "grid_auto_rows": null,
      "grid_column": null,
      "grid_gap": null,
      "grid_row": null,
      "grid_template_areas": null,
      "grid_template_columns": null,
      "grid_template_rows": null,
      "height": null,
      "justify_content": null,
      "justify_items": null,
      "left": null,
      "margin": null,
      "max_height": null,
      "max_width": null,
      "min_height": null,
      "min_width": null,
      "object_fit": null,
      "object_position": null,
      "order": null,
      "overflow": null,
      "overflow_x": null,
      "overflow_y": null,
      "padding": null,
      "right": null,
      "top": null,
      "visibility": null,
      "width": null
     }
    },
    "e76d639c747e443b944e3d4ca96f4be4": {
     "model_module": "@jupyter-widgets/controls",
     "model_module_version": "1.5.0",
     "model_name": "FloatProgressModel",
     "state": {
      "_dom_classes": [],
      "_model_module": "@jupyter-widgets/controls",
      "_model_module_version": "1.5.0",
      "_model_name": "FloatProgressModel",
      "_view_count": null,
      "_view_module": "@jupyter-widgets/controls",
      "_view_module_version": "1.5.0",
      "_view_name": "ProgressView",
      "bar_style": "success",
      "description": "",
      "description_tooltip": null,
      "layout": "IPY_MODEL_031fcde1b15d49cc845a480f437f5219",
      "max": 1,
      "min": 0,
      "orientation": "horizontal",
      "style": "IPY_MODEL_37a9452600c44f29882d42b249fce5c8",
      "value": 1
     }
    },
    "e7ef7976734b4bd9bae97aab8b279242": {
     "model_module": "@jupyter-widgets/base",
     "model_module_version": "1.2.0",
     "model_name": "LayoutModel",
     "state": {
      "_model_module": "@jupyter-widgets/base",
      "_model_module_version": "1.2.0",
      "_model_name": "LayoutModel",
      "_view_count": null,
      "_view_module": "@jupyter-widgets/base",
      "_view_module_version": "1.2.0",
      "_view_name": "LayoutView",
      "align_content": null,
      "align_items": null,
      "align_self": null,
      "border": null,
      "bottom": null,
      "display": null,
      "flex": null,
      "flex_flow": null,
      "grid_area": null,
      "grid_auto_columns": null,
      "grid_auto_flow": null,
      "grid_auto_rows": null,
      "grid_column": null,
      "grid_gap": null,
      "grid_row": null,
      "grid_template_areas": null,
      "grid_template_columns": null,
      "grid_template_rows": null,
      "height": null,
      "justify_content": null,
      "justify_items": null,
      "left": null,
      "margin": null,
      "max_height": null,
      "max_width": null,
      "min_height": null,
      "min_width": null,
      "object_fit": null,
      "object_position": null,
      "order": null,
      "overflow": null,
      "overflow_x": null,
      "overflow_y": null,
      "padding": null,
      "right": null,
      "top": null,
      "visibility": null,
      "width": null
     }
    },
    "e90167f497b742c787b6cdab2117719d": {
     "model_module": "@jupyter-widgets/controls",
     "model_module_version": "1.5.0",
     "model_name": "HTMLModel",
     "state": {
      "_dom_classes": [],
      "_model_module": "@jupyter-widgets/controls",
      "_model_module_version": "1.5.0",
      "_model_name": "HTMLModel",
      "_view_count": null,
      "_view_module": "@jupyter-widgets/controls",
      "_view_module_version": "1.5.0",
      "_view_name": "HTMLView",
      "description": "",
      "description_tooltip": null,
      "layout": "IPY_MODEL_252673178643419bbba2fd723c1de399",
      "placeholder": "​",
      "style": "IPY_MODEL_f11afaaf6c4d4c99a57d8afb9290704e",
      "value": "Fetching 1 files: 100%"
     }
    },
    "ea975d14d5204ad49c6e567e13b57f67": {
     "model_module": "@jupyter-widgets/base",
     "model_module_version": "1.2.0",
     "model_name": "LayoutModel",
     "state": {
      "_model_module": "@jupyter-widgets/base",
      "_model_module_version": "1.2.0",
      "_model_name": "LayoutModel",
      "_view_count": null,
      "_view_module": "@jupyter-widgets/base",
      "_view_module_version": "1.2.0",
      "_view_name": "LayoutView",
      "align_content": null,
      "align_items": null,
      "align_self": null,
      "border": null,
      "bottom": null,
      "display": null,
      "flex": null,
      "flex_flow": null,
      "grid_area": null,
      "grid_auto_columns": null,
      "grid_auto_flow": null,
      "grid_auto_rows": null,
      "grid_column": null,
      "grid_gap": null,
      "grid_row": null,
      "grid_template_areas": null,
      "grid_template_columns": null,
      "grid_template_rows": null,
      "height": null,
      "justify_content": null,
      "justify_items": null,
      "left": null,
      "margin": null,
      "max_height": null,
      "max_width": null,
      "min_height": null,
      "min_width": null,
      "object_fit": null,
      "object_position": null,
      "order": null,
      "overflow": null,
      "overflow_x": null,
      "overflow_y": null,
      "padding": null,
      "right": null,
      "top": null,
      "visibility": null,
      "width": null
     }
    },
    "ed3b18ff388e471b934f80c9e619b5c5": {
     "model_module": "@jupyter-widgets/controls",
     "model_module_version": "1.5.0",
     "model_name": "HTMLModel",
     "state": {
      "_dom_classes": [],
      "_model_module": "@jupyter-widgets/controls",
      "_model_module_version": "1.5.0",
      "_model_name": "HTMLModel",
      "_view_count": null,
      "_view_module": "@jupyter-widgets/controls",
      "_view_module_version": "1.5.0",
      "_view_name": "HTMLView",
      "description": "",
      "description_tooltip": null,
      "layout": "IPY_MODEL_559cc9c60d4944baa0ae358635378ad3",
      "placeholder": "​",
      "style": "IPY_MODEL_5920a5b131d24640bde0a98ce1f79404",
      "value": "config.json: "
     }
    },
    "edb5f026730545da903a3a580cbd9af0": {
     "model_module": "@jupyter-widgets/controls",
     "model_module_version": "1.5.0",
     "model_name": "HTMLModel",
     "state": {
      "_dom_classes": [],
      "_model_module": "@jupyter-widgets/controls",
      "_model_module_version": "1.5.0",
      "_model_name": "HTMLModel",
      "_view_count": null,
      "_view_module": "@jupyter-widgets/controls",
      "_view_module_version": "1.5.0",
      "_view_name": "HTMLView",
      "description": "",
      "description_tooltip": null,
      "layout": "IPY_MODEL_a76f30c3b95d49e59bbfe6cf502bc68f",
      "placeholder": "​",
      "style": "IPY_MODEL_5b636d418a7641cf8192a396bcee5d14",
      "value": "Fetching 1 files: 100%"
     }
    },
    "ef1579d1a4b74b1b8afc6f16efab23fc": {
     "model_module": "@jupyter-widgets/base",
     "model_module_version": "1.2.0",
     "model_name": "LayoutModel",
     "state": {
      "_model_module": "@jupyter-widgets/base",
      "_model_module_version": "1.2.0",
      "_model_name": "LayoutModel",
      "_view_count": null,
      "_view_module": "@jupyter-widgets/base",
      "_view_module_version": "1.2.0",
      "_view_name": "LayoutView",
      "align_content": null,
      "align_items": null,
      "align_self": null,
      "border": null,
      "bottom": null,
      "display": null,
      "flex": null,
      "flex_flow": null,
      "grid_area": null,
      "grid_auto_columns": null,
      "grid_auto_flow": null,
      "grid_auto_rows": null,
      "grid_column": null,
      "grid_gap": null,
      "grid_row": null,
      "grid_template_areas": null,
      "grid_template_columns": null,
      "grid_template_rows": null,
      "height": null,
      "justify_content": null,
      "justify_items": null,
      "left": null,
      "margin": null,
      "max_height": null,
      "max_width": null,
      "min_height": null,
      "min_width": null,
      "object_fit": null,
      "object_position": null,
      "order": null,
      "overflow": null,
      "overflow_x": null,
      "overflow_y": null,
      "padding": null,
      "right": null,
      "top": null,
      "visibility": null,
      "width": null
     }
    },
    "efec4ae52b124a779962ab15e9c0b565": {
     "model_module": "@jupyter-widgets/controls",
     "model_module_version": "1.5.0",
     "model_name": "ProgressStyleModel",
     "state": {
      "_model_module": "@jupyter-widgets/controls",
      "_model_module_version": "1.5.0",
      "_model_name": "ProgressStyleModel",
      "_view_count": null,
      "_view_module": "@jupyter-widgets/base",
      "_view_module_version": "1.2.0",
      "_view_name": "StyleView",
      "bar_color": null,
      "description_width": ""
     }
    },
    "f11afaaf6c4d4c99a57d8afb9290704e": {
     "model_module": "@jupyter-widgets/controls",
     "model_module_version": "1.5.0",
     "model_name": "DescriptionStyleModel",
     "state": {
      "_model_module": "@jupyter-widgets/controls",
      "_model_module_version": "1.5.0",
      "_model_name": "DescriptionStyleModel",
      "_view_count": null,
      "_view_module": "@jupyter-widgets/base",
      "_view_module_version": "1.2.0",
      "_view_name": "StyleView",
      "description_width": ""
     }
    },
    "f3a4a29c1f8941beb59a1c84c1d824f2": {
     "model_module": "@jupyter-widgets/base",
     "model_module_version": "1.2.0",
     "model_name": "LayoutModel",
     "state": {
      "_model_module": "@jupyter-widgets/base",
      "_model_module_version": "1.2.0",
      "_model_name": "LayoutModel",
      "_view_count": null,
      "_view_module": "@jupyter-widgets/base",
      "_view_module_version": "1.2.0",
      "_view_name": "LayoutView",
      "align_content": null,
      "align_items": null,
      "align_self": null,
      "border": null,
      "bottom": null,
      "display": null,
      "flex": null,
      "flex_flow": null,
      "grid_area": null,
      "grid_auto_columns": null,
      "grid_auto_flow": null,
      "grid_auto_rows": null,
      "grid_column": null,
      "grid_gap": null,
      "grid_row": null,
      "grid_template_areas": null,
      "grid_template_columns": null,
      "grid_template_rows": null,
      "height": null,
      "justify_content": null,
      "justify_items": null,
      "left": null,
      "margin": null,
      "max_height": null,
      "max_width": null,
      "min_height": null,
      "min_width": null,
      "object_fit": null,
      "object_position": null,
      "order": null,
      "overflow": null,
      "overflow_x": null,
      "overflow_y": null,
      "padding": null,
      "right": null,
      "top": null,
      "visibility": null,
      "width": null
     }
    },
    "f3b51b41a2b1477794c993ad74f957f5": {
     "model_module": "@jupyter-widgets/base",
     "model_module_version": "1.2.0",
     "model_name": "LayoutModel",
     "state": {
      "_model_module": "@jupyter-widgets/base",
      "_model_module_version": "1.2.0",
      "_model_name": "LayoutModel",
      "_view_count": null,
      "_view_module": "@jupyter-widgets/base",
      "_view_module_version": "1.2.0",
      "_view_name": "LayoutView",
      "align_content": null,
      "align_items": null,
      "align_self": null,
      "border": null,
      "bottom": null,
      "display": null,
      "flex": null,
      "flex_flow": null,
      "grid_area": null,
      "grid_auto_columns": null,
      "grid_auto_flow": null,
      "grid_auto_rows": null,
      "grid_column": null,
      "grid_gap": null,
      "grid_row": null,
      "grid_template_areas": null,
      "grid_template_columns": null,
      "grid_template_rows": null,
      "height": null,
      "justify_content": null,
      "justify_items": null,
      "left": null,
      "margin": null,
      "max_height": null,
      "max_width": null,
      "min_height": null,
      "min_width": null,
      "object_fit": null,
      "object_position": null,
      "order": null,
      "overflow": null,
      "overflow_x": null,
      "overflow_y": null,
      "padding": null,
      "right": null,
      "top": null,
      "visibility": null,
      "width": null
     }
    },
    "f4348bb231cf4397a9762f150cba61a0": {
     "model_module": "@jupyter-widgets/base",
     "model_module_version": "1.2.0",
     "model_name": "LayoutModel",
     "state": {
      "_model_module": "@jupyter-widgets/base",
      "_model_module_version": "1.2.0",
      "_model_name": "LayoutModel",
      "_view_count": null,
      "_view_module": "@jupyter-widgets/base",
      "_view_module_version": "1.2.0",
      "_view_name": "LayoutView",
      "align_content": null,
      "align_items": null,
      "align_self": null,
      "border": null,
      "bottom": null,
      "display": null,
      "flex": null,
      "flex_flow": null,
      "grid_area": null,
      "grid_auto_columns": null,
      "grid_auto_flow": null,
      "grid_auto_rows": null,
      "grid_column": null,
      "grid_gap": null,
      "grid_row": null,
      "grid_template_areas": null,
      "grid_template_columns": null,
      "grid_template_rows": null,
      "height": null,
      "justify_content": null,
      "justify_items": null,
      "left": null,
      "margin": null,
      "max_height": null,
      "max_width": null,
      "min_height": null,
      "min_width": null,
      "object_fit": null,
      "object_position": null,
      "order": null,
      "overflow": null,
      "overflow_x": null,
      "overflow_y": null,
      "padding": null,
      "right": null,
      "top": null,
      "visibility": null,
      "width": null
     }
    },
    "f5ba2085e42b4050bcb49b8ebf2eec78": {
     "model_module": "@jupyter-widgets/controls",
     "model_module_version": "1.5.0",
     "model_name": "FloatProgressModel",
     "state": {
      "_dom_classes": [],
      "_model_module": "@jupyter-widgets/controls",
      "_model_module_version": "1.5.0",
      "_model_name": "FloatProgressModel",
      "_view_count": null,
      "_view_module": "@jupyter-widgets/controls",
      "_view_module_version": "1.5.0",
      "_view_name": "ProgressView",
      "bar_style": "success",
      "description": "",
      "description_tooltip": null,
      "layout": "IPY_MODEL_940fca58651041a7a01975f3ef1fa1c6",
      "max": 363,
      "min": 0,
      "orientation": "horizontal",
      "style": "IPY_MODEL_2e5526692a284890a671b345937a9315",
      "value": 363
     }
    },
    "f5ecbbbd04a544fb9fc05e15925802e6": {
     "model_module": "@jupyter-widgets/base",
     "model_module_version": "1.2.0",
     "model_name": "LayoutModel",
     "state": {
      "_model_module": "@jupyter-widgets/base",
      "_model_module_version": "1.2.0",
      "_model_name": "LayoutModel",
      "_view_count": null,
      "_view_module": "@jupyter-widgets/base",
      "_view_module_version": "1.2.0",
      "_view_name": "LayoutView",
      "align_content": null,
      "align_items": null,
      "align_self": null,
      "border": null,
      "bottom": null,
      "display": null,
      "flex": null,
      "flex_flow": null,
      "grid_area": null,
      "grid_auto_columns": null,
      "grid_auto_flow": null,
      "grid_auto_rows": null,
      "grid_column": null,
      "grid_gap": null,
      "grid_row": null,
      "grid_template_areas": null,
      "grid_template_columns": null,
      "grid_template_rows": null,
      "height": null,
      "justify_content": null,
      "justify_items": null,
      "left": null,
      "margin": null,
      "max_height": null,
      "max_width": null,
      "min_height": null,
      "min_width": null,
      "object_fit": null,
      "object_position": null,
      "order": null,
      "overflow": null,
      "overflow_x": null,
      "overflow_y": null,
      "padding": null,
      "right": null,
      "top": null,
      "visibility": null,
      "width": null
     }
    },
    "f82c7dd714a646af9157126764c2e84d": {
     "model_module": "@jupyter-widgets/controls",
     "model_module_version": "1.5.0",
     "model_name": "DescriptionStyleModel",
     "state": {
      "_model_module": "@jupyter-widgets/controls",
      "_model_module_version": "1.5.0",
      "_model_name": "DescriptionStyleModel",
      "_view_count": null,
      "_view_module": "@jupyter-widgets/base",
      "_view_module_version": "1.2.0",
      "_view_name": "StyleView",
      "description_width": ""
     }
    },
    "fa9bd4b113c54a33b6ad78a584ec451e": {
     "model_module": "@jupyter-widgets/base",
     "model_module_version": "1.2.0",
     "model_name": "LayoutModel",
     "state": {
      "_model_module": "@jupyter-widgets/base",
      "_model_module_version": "1.2.0",
      "_model_name": "LayoutModel",
      "_view_count": null,
      "_view_module": "@jupyter-widgets/base",
      "_view_module_version": "1.2.0",
      "_view_name": "LayoutView",
      "align_content": null,
      "align_items": null,
      "align_self": null,
      "border": null,
      "bottom": null,
      "display": null,
      "flex": null,
      "flex_flow": null,
      "grid_area": null,
      "grid_auto_columns": null,
      "grid_auto_flow": null,
      "grid_auto_rows": null,
      "grid_column": null,
      "grid_gap": null,
      "grid_row": null,
      "grid_template_areas": null,
      "grid_template_columns": null,
      "grid_template_rows": null,
      "height": null,
      "justify_content": null,
      "justify_items": null,
      "left": null,
      "margin": null,
      "max_height": null,
      "max_width": null,
      "min_height": null,
      "min_width": null,
      "object_fit": null,
      "object_position": null,
      "order": null,
      "overflow": null,
      "overflow_x": null,
      "overflow_y": null,
      "padding": null,
      "right": null,
      "top": null,
      "visibility": null,
      "width": null
     }
    },
    "fb10e396b89046d6ab487a1705ae9560": {
     "model_module": "@jupyter-widgets/controls",
     "model_module_version": "1.5.0",
     "model_name": "HTMLModel",
     "state": {
      "_dom_classes": [],
      "_model_module": "@jupyter-widgets/controls",
      "_model_module_version": "1.5.0",
      "_model_name": "HTMLModel",
      "_view_count": null,
      "_view_module": "@jupyter-widgets/controls",
      "_view_module_version": "1.5.0",
      "_view_name": "HTMLView",
      "description": "",
      "description_tooltip": null,
      "layout": "IPY_MODEL_4f66ef8604154bbca9f1f9b5dd64064f",
      "placeholder": "​",
      "style": "IPY_MODEL_b27ba1e09f6044288bd192ce26955c05",
      "value": " 1/1 [00:00&lt;00:00, 128.26it/s]"
     }
    },
    "fba34b4a6b8f43b9b4c3fe0e2d3059f1": {
     "model_module": "@jupyter-widgets/controls",
     "model_module_version": "1.5.0",
     "model_name": "DescriptionStyleModel",
     "state": {
      "_model_module": "@jupyter-widgets/controls",
      "_model_module_version": "1.5.0",
      "_model_name": "DescriptionStyleModel",
      "_view_count": null,
      "_view_module": "@jupyter-widgets/base",
      "_view_module_version": "1.2.0",
      "_view_name": "StyleView",
      "description_width": ""
     }
    },
    "fcf8b681e2244d5089c12e08c123d40a": {
     "model_module": "@jupyter-widgets/base",
     "model_module_version": "1.2.0",
     "model_name": "LayoutModel",
     "state": {
      "_model_module": "@jupyter-widgets/base",
      "_model_module_version": "1.2.0",
      "_model_name": "LayoutModel",
      "_view_count": null,
      "_view_module": "@jupyter-widgets/base",
      "_view_module_version": "1.2.0",
      "_view_name": "LayoutView",
      "align_content": null,
      "align_items": null,
      "align_self": null,
      "border": null,
      "bottom": null,
      "display": null,
      "flex": null,
      "flex_flow": null,
      "grid_area": null,
      "grid_auto_columns": null,
      "grid_auto_flow": null,
      "grid_auto_rows": null,
      "grid_column": null,
      "grid_gap": null,
      "grid_row": null,
      "grid_template_areas": null,
      "grid_template_columns": null,
      "grid_template_rows": null,
      "height": null,
      "justify_content": null,
      "justify_items": null,
      "left": null,
      "margin": null,
      "max_height": null,
      "max_width": null,
      "min_height": null,
      "min_width": null,
      "object_fit": null,
      "object_position": null,
      "order": null,
      "overflow": null,
      "overflow_x": null,
      "overflow_y": null,
      "padding": null,
      "right": null,
      "top": null,
      "visibility": null,
      "width": null
     }
    },
    "fd75d410e3f649efaad0459225878fa6": {
     "model_module": "@jupyter-widgets/controls",
     "model_module_version": "1.5.0",
     "model_name": "HBoxModel",
     "state": {
      "_dom_classes": [],
      "_model_module": "@jupyter-widgets/controls",
      "_model_module_version": "1.5.0",
      "_model_name": "HBoxModel",
      "_view_count": null,
      "_view_module": "@jupyter-widgets/controls",
      "_view_module_version": "1.5.0",
      "_view_name": "HBoxView",
      "box_style": "",
      "children": [
       "IPY_MODEL_dea8f9d1e6174206ae23b212ffb443bb",
       "IPY_MODEL_e76d639c747e443b944e3d4ca96f4be4",
       "IPY_MODEL_53234f46b9b843cf9143489d877bd663"
      ],
      "layout": "IPY_MODEL_cbe84a921b39492f8467685079c86d26"
     }
    }
   }
  }
 },
 "nbformat": 4,
 "nbformat_minor": 5
}
